{
 "cells": [
  {
   "cell_type": "code",
   "id": "initial_id",
   "metadata": {
    "collapsed": true,
    "ExecuteTime": {
     "end_time": "2024-05-17T15:10:26.636030Z",
     "start_time": "2024-05-17T15:10:26.605279Z"
    }
   },
   "source": [
    "from rdflib import Graph\n",
    "from rdflib.term import URIRef, Literal, BNode\n",
    "from rdflib.namespace import RDF, RDFS, OWL, XSD, SKOS\n",
    "import os"
   ],
   "execution_count": 1,
   "outputs": []
  },
  {
   "metadata": {
    "ExecuteTime": {
     "end_time": "2024-05-17T15:12:54.013297Z",
     "start_time": "2024-05-17T15:10:26.770347Z"
    }
   },
   "cell_type": "code",
   "source": [
    "paths = {\n",
    "    'conference': '/home/guilherme/Documents/kg/complex/conference/ont',\n",
    "    'populated_conference': '/home/guilherme/Documents/kg/complex/conference_100/ont',\n",
    "    'geolink': '/home/guilherme/Documents/kg/complex/geolink',\n",
    "    'hydrography': '/home/guilherme/Documents/kg/complex/hydrography_ontology/ontology',\n",
    "    'taxon': '/home/guilherme/Documents/kg/complex/taxon/ont'\n",
    "}\n",
    "nb = 0\n",
    "for ont_name, v in paths.items():\n",
    "    \n",
    "    for p, d, f in os.walk(v):\n",
    "        for fs in f:\n",
    "            if not fs.endswith('.owl') and not fs.endswith('.rdf'):\n",
    "                continue\n",
    "            \n",
    "                \n",
    "            g = Graph().parse(os.path.join(p, fs))\n",
    "            \n",
    "            \n",
    "            \n",
    "            sbj = set(g.subjects())\n",
    "            \n",
    "            \n",
    "            cls = set()\n",
    "            ppts = set()\n",
    "            \n",
    "            \n",
    "            for s in sbj:\n",
    "                \n",
    "                if type(s) == BNode:\n",
    "                    continue\n",
    "\n",
    "                tp = g.value(s, RDF.type)\n",
    "                ttp = g.value(tp, RDF.type)\n",
    "                \n",
    "                if ttp == OWL.Class:\n",
    "                    cls.add(tp)\n",
    "            \n",
    "            \n",
    "            pred = set()\n",
    "            \n",
    "            spm = {}\n",
    "            \n",
    "            for q, w, e in g:\n",
    "                \n",
    "                wt = g.value(w, RDF.type)\n",
    "                if wt == OWL.ObjectProperty or wt == OWL.DatatypeProperty:\n",
    "                    pred.add(w)\n",
    "                    \n",
    "                    if w not in spm:\n",
    "                        spm[w] = [set(), set()]\n",
    "                        \n",
    "                    spm[w][0].add(q)\n",
    "                    spm[w][1].add(e)\n",
    "                    \n",
    "            \n",
    "            pps = set()\n",
    "            \n",
    "            for k, v in spm.items():\n",
    "                if len(v[0]) / len(v[1]) > 30 and len(v[1]) < 20:\n",
    "                    for o in v[1]:\n",
    "                        pps.add((k, o))\n",
    "            \n",
    "            \n",
    "            for c in cls:\n",
    "                cqn = c.split('#')[-1].lower().split(\"/\")[-1]\n",
    "                \n",
    "                os.makedirs(f'/home/guilherme/Documents/kg/complex/cqas/{ont_name}/{fs.split(\".\")[0]}', exist_ok=True)\n",
    "                with open(f'/home/guilherme/Documents/kg/complex/cqas/{ont_name}/{fs.split(\".\")[0]}/c-{cqn}.sparql', 'w') as f:\n",
    "                    f.write(f'SELECT DISTINCT ?x WHERE {{?x a <{c}>.}}')\n",
    "            \n",
    "            for p in ppts:\n",
    "                cqn = c.split('#')[-1].lower().split(\"/\")[-1]\n",
    "                os.makedirs(f'/home/guilherme/Documents/kg/complex/cqas/{ont_name}/{fs.split(\".\")[0]}', exist_ok=True)\n",
    "                with open(f'/home/guilherme/Documents/kg/complex/cqas/{ont_name}/{fs.split(\".\")[0]}/p-{cqn}.sparql', 'w') as f:\n",
    "                    f.write(f'SELECT DISTINCT ?x ?y WHERE {{?x <{p}> ?y.}}')\n",
    "                    \n",
    "            for k, o in pps:\n",
    "                cqn = c.split('#')[-1].lower().split(\"/\")[-1]\n",
    "                os.makedirs(f'/home/guilherme/Documents/kg/complex/cqas/{ont_name}/{fs.split(\".\")[0]}', exist_ok=True)\n",
    "                with open(f'/home/guilherme/Documents/kg/complex/cqas/{ont_name}/{fs.split(\".\")[0]}/pv-{cqn}.sparql', 'w') as f:\n",
    "                    f.write(f'SELECT DISTINCT ?x WHERE {{?x <{k}> <{o}>.}}')\n",
    "                \n",
    "            \n",
    "                    \n",
    "                "
   ],
   "id": "5d7e1a2764d874da",
   "execution_count": 2,
   "outputs": []
  }
 ],
 "metadata": {
  "kernelspec": {
   "display_name": "Python 3",
   "language": "python",
   "name": "python3"
  },
  "language_info": {
   "codemirror_mode": {
    "name": "ipython",
    "version": 2
   },
   "file_extension": ".py",
   "mimetype": "text/x-python",
   "name": "python",
   "nbconvert_exporter": "python",
   "pygments_lexer": "ipython2",
   "version": "2.7.6"
  }
 },
 "nbformat": 4,
 "nbformat_minor": 5
}
