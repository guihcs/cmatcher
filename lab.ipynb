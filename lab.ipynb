{
 "cells": [
  {
   "cell_type": "code",
   "execution_count": 1,
   "id": "initial_id",
   "metadata": {
    "collapsed": true,
    "ExecuteTime": {
     "end_time": "2024-02-02T13:13:35.447962979Z",
     "start_time": "2024-02-02T13:11:46.239029124Z"
    }
   },
   "outputs": [],
   "source": [
    "from rdflib import Graph\n",
    "from rdflib.namespace import RDF, OWL\n",
    "from rdflib.term import BNode\n",
    "from cmatcher.owl_utils import *\n",
    "from tqdm.auto import tqdm\n",
    "from torch.utils.data import DataLoader as TorchDataLoader\n",
    "from torch_geometric.data import Data, Dataset\n",
    "from torch_geometric.utils import degree\n",
    "from torch_geometric.loader import DataLoader\n",
    "from cmatcher.cqa_search import *\n",
    "from torch_geometric.nn import MessagePassing\n",
    "from cmatcher.eval_utils import *\n",
    "from transformers import AutoTokenizer, BertModel, DistilBertModel, AutoModel\n",
    "import transformers.optimization as toptim\n",
    "import dill\n",
    "import os\n",
    "import torch\n",
    "import torch.nn as nn\n",
    "import torch.optim as optim\n",
    "import matplotlib.pyplot as plt\n",
    "import math\n",
    "import time\n",
    "import copy\n",
    "\n",
    "from cmatcher.model import *\n",
    "\n",
    "from accelerate import Accelerator, notebook_launcher\n",
    "import random\n",
    "import wandb\n",
    "\n",
    "torch.manual_seed(0)\n",
    "random.seed(0)"
   ]
  },
  {
   "cell_type": "code",
   "outputs": [],
   "source": [
    "test_ont = 'cmt'\n",
    "\n",
    "config = {\n",
    "    'learning_rate': 0.00001,\n",
    "    'language_model': 'bert-base-uncased',\n",
    "    'architecture': 'gnn',\n",
    "    'epochs': 5,\n",
    "    'batch_size': 2\n",
    "}\n",
    "\n",
    "wandb.init(\n",
    "    project='cmatcher',\n",
    "    config=config,\n",
    "    settings=wandb.Settings(_disable_stats=True, _disable_meta=True)\n",
    ")"
   ],
   "metadata": {
    "collapsed": false
   },
   "id": "983a851392e233b4",
   "execution_count": null
  },
  {
   "cell_type": "code",
   "execution_count": 9,
   "outputs": [],
   "source": [
    "os.environ[\"TOKENIZERS_PARALLELISM\"] = \"false\""
   ],
   "metadata": {
    "collapsed": false,
    "ExecuteTime": {
     "end_time": "2024-02-02T13:15:48.434961540Z",
     "start_time": "2024-02-02T13:15:48.430812827Z"
    }
   },
   "id": "1dde3c07b5aa97ed"
  },
  {
   "cell_type": "code",
   "execution_count": 10,
   "outputs": [],
   "source": [
    "ontology_paths = {\n",
    "    'edas.owl': '/projets/melodi/gsantoss/data/oaei/tracks/conference/onts/edas.owl',\n",
    "    'ekaw.owl': '/projets/melodi/gsantoss/data/oaei/tracks/conference/onts/ekaw.owl',\n",
    "    'confOf.owl': '/projets/melodi/gsantoss/data/oaei/tracks/conference/onts/confOf.owl',\n",
    "    'conference.owl': '/projets/melodi/gsantoss/data/oaei/tracks/conference/onts/conference.owl',\n",
    "    'cmt.owl': '/projets/melodi/gsantoss/data/oaei/tracks/conference/onts/cmt.owl',\n",
    "}\n",
    "\n",
    "cqa_path = '/projets/melodi/gsantoss/data/complex/CQAs'\n",
    "entities_path = '/projets/melodi/gsantoss/data/complex/entities-cqas'"
   ],
   "metadata": {
    "collapsed": false,
    "ExecuteTime": {
     "end_time": "2024-02-02T13:15:48.728661822Z",
     "start_time": "2024-02-02T13:15:48.720860052Z"
    }
   },
   "id": "973951f08328093b"
  },
  {
   "cell_type": "code",
   "execution_count": 11,
   "outputs": [
    {
     "name": "stdout",
     "output_type": "stream",
     "text": [
      "loaded from cache.\n"
     ]
    },
    {
     "data": {
      "text/plain": "  0%|          | 0/101 [00:00<?, ?it/s]",
      "application/vnd.jupyter.widget-view+json": {
       "version_major": 2,
       "version_minor": 0,
       "model_id": "484b9b3e5fcf4094b635270914323a22"
      }
     },
     "metadata": {},
     "output_type": "display_data"
    },
    {
     "data": {
      "text/plain": "  0%|          | 0/101 [00:00<?, ?it/s]",
      "application/vnd.jupyter.widget-view+json": {
       "version_major": 2,
       "version_minor": 0,
       "model_id": "38145452be264b31baee08d6cd397359"
      }
     },
     "metadata": {},
     "output_type": "display_data"
    }
   ],
   "source": [
    "if os.path.exists('/projets/melodi/gsantoss/tmp/idata.pkl'):\n",
    "    with open('/projets/melodi/gsantoss/tmp/idata.pkl', 'rb') as f:\n",
    "        train_ont_cqa_subg = dill.load(f)\n",
    "        print('loaded from cache.')\n",
    "else:\n",
    "    with open('/projets/melodi/gsantoss/tmp/idata.pkl', 'wb') as f:\n",
    "        dill.dump(load_entities(entities_path, ontology_paths), f)\n",
    "\n",
    "isg = load_sg(entities_path, ontology_paths)\n",
    "\n",
    "cqas = load_cqas(cqa_path)\n",
    "raw_data = build_raw_data(train_ont_cqa_subg, cqas)\n"
   ],
   "metadata": {
    "collapsed": false,
    "ExecuteTime": {
     "end_time": "2024-02-02T13:15:50.237523168Z",
     "start_time": "2024-02-02T13:15:49.545274542Z"
    }
   },
   "id": "a2d90c9c05a990a6"
  },
  {
   "cell_type": "code",
   "execution_count": 13,
   "outputs": [
    {
     "name": "stdout",
     "output_type": "stream",
     "text": [
      "loaded from cache.\n"
     ]
    }
   ],
   "source": [
    "\n",
    "if os.path.exists(f'/projets/melodi/gsantoss/tmp/{test_ont}.pkl'):\n",
    "    with open(f'/projets/melodi/gsantoss/tmp/{test_ont}.pkl', 'rb') as f:\n",
    "        ifd, mc, mp, fres = dill.load(f)\n",
    "        print('loaded from cache.')\n",
    "else:\n",
    "    ifd, mc, mp, fres = build_raw_ts(f'/projets/melodi/gsantoss/data/oaei/tracks/conference/onts/{test_ont}.owl',\n",
    "                                     isg[test_ont],\n",
    "                                     workers=4)\n",
    "    with open(f'/projets/melodi/gsantoss/tmp/{test_ont}.pkl', 'wb') as f:\n",
    "        dill.dump((ifd, mc, mp, fres), f)\n"
   ],
   "metadata": {
    "collapsed": false,
    "ExecuteTime": {
     "end_time": "2024-02-02T13:15:53.864362586Z",
     "start_time": "2024-02-02T13:15:53.796677518Z"
    }
   },
   "id": "a4d6089cdd39b083"
  },
  {
   "cell_type": "code",
   "execution_count": 14,
   "outputs": [],
   "source": [
    "conts_cqa_subg = copy.deepcopy(train_ont_cqa_subg)\n",
    "del conts_cqa_subg[test_ont]"
   ],
   "metadata": {
    "collapsed": false,
    "ExecuteTime": {
     "end_time": "2024-02-02T13:15:56.814137459Z",
     "start_time": "2024-02-02T13:15:56.777062936Z"
    }
   },
   "id": "6c49b601e536da02"
  },
  {
   "cell_type": "code",
   "outputs": [],
   "source": [
    "tokenizer = AutoTokenizer.from_pretrained('bert-base-uncased')"
   ],
   "metadata": {
    "collapsed": false,
    "ExecuteTime": {
     "end_time": "2024-02-02T13:15:51.944972478Z",
     "start_time": "2024-02-02T13:15:51.770045552Z"
    }
   },
   "id": "3152b20c73d6c362",
   "execution_count": 12
  },
  {
   "cell_type": "code",
   "execution_count": 15,
   "outputs": [
    {
     "data": {
      "text/plain": "  0%|          | 0/140 [00:00<?, ?it/s]",
      "application/vnd.jupyter.widget-view+json": {
       "version_major": 2,
       "version_minor": 0,
       "model_id": "e90c65588bd64a15a0d0fe8bb2eb0aed"
      }
     },
     "metadata": {},
     "output_type": "display_data"
    }
   ],
   "source": [
    "\n",
    "\n",
    "\n",
    "root_entities, graph_data, cq, cqid, caq, cqmask, tor = prepare_eval_dataset(test_ont, cqas, ifd, tokenizer, mc, mp,\n",
    "                                                                             fres, filter_bn=False)\n"
   ],
   "metadata": {
    "collapsed": false,
    "ExecuteTime": {
     "end_time": "2024-02-02T13:16:02.707220692Z",
     "start_time": "2024-02-02T13:16:02.231956104Z"
    }
   },
   "id": "8a02fa02e5191863"
  },
  {
   "cell_type": "code",
   "execution_count": 13,
   "outputs": [
    {
     "name": "stdout",
     "output_type": "stream",
     "text": [
      "Launching training on 2 GPUs.\n"
     ]
    },
    {
     "name": "stderr",
     "output_type": "stream",
     "text": [
      "Detected kernel version 3.10.0, which is below the recommended minimum of 5.5.0; this can cause the process to hang. It is recommended to upgrade the kernel to the minimum version or higher.\n"
     ]
    },
    {
     "data": {
      "text/plain": "  0%|          | 0/416 [00:00<?, ?it/s]",
      "application/vnd.jupyter.widget-view+json": {
       "version_major": 2,
       "version_minor": 0,
       "model_id": "a79e1a976b214eaebef1b04f21e3a0c3"
      }
     },
     "metadata": {},
     "output_type": "display_data"
    },
    {
     "name": "stdout",
     "output_type": "stream",
     "text": [
      "First evaluation:\n",
      "bt: 0.65 avgp: 0.30, rec: 0.24, afm: 0.26\n",
      "ekaw bt: 0.65 avgp: 0.11, rec: 0.17, afm: 0.14\n",
      "edas bt: 0.65 avgp: 0.17, rec: 0.24, afm: 0.20\n",
      "confOf bt: 0.65 avgp: 0.20, rec: 0.25, afm: 0.22\n",
      "conference bt: 0.65 avgp: 0.17, rec: 0.17, afm: 0.17\n",
      "ev data: 0.00\n",
      "bt: 0.85 avgp: 0.36, rec: 0.06, afm: 0.10\n",
      "ekaw bt: 0.40 avgp: 0.11, rec: 0.22, afm: 0.14\n",
      "edas bt: 0.80 avgp: 0.09, rec: 0.06, afm: 0.07\n",
      "confOf bt: 0.80 avgp: 0.10, rec: 0.12, afm: 0.11\n",
      "conference bt: 0.55 avgp: 0.05, rec: 0.69, afm: 0.09\n",
      "epoch 0 loss: 0.66, ev: 0.01\n",
      "bt: 0.90 avgp: 0.13, rec: 0.29, afm: 0.18\n",
      "ekaw bt: 0.35 avgp: 0.04, rec: 0.35, afm: 0.08\n",
      "edas bt: 0.90 avgp: 0.49, rec: 0.06, afm: 0.11\n",
      "confOf bt: 0.85 avgp: 0.04, rec: 0.12, afm: 0.06\n",
      "conference bt: 0.85 avgp: 0.09, rec: 0.14, afm: 0.11\n",
      "epoch 1 loss: 0.44, ev: 0.24\n",
      "bt: 0.90 avgp: 0.15, rec: 0.18, afm: 0.16\n",
      "ekaw bt: 0.00 avgp: 0.23, rec: 0.00, afm: 0.00\n",
      "edas bt: 0.70 avgp: 0.07, rec: 0.24, afm: 0.11\n",
      "confOf bt: 0.75 avgp: 0.06, rec: 0.19, afm: 0.09\n",
      "conference bt: 0.65 avgp: 0.07, rec: 0.34, afm: 0.12\n",
      "epoch 2 loss: 0.37, ev: 0.27\n",
      "bt: 0.95 avgp: 0.23, rec: 0.29, afm: 0.26\n",
      "ekaw bt: 0.00 avgp: 0.03, rec: 0.00, afm: 0.00\n",
      "edas bt: 0.90 avgp: 0.12, rec: 0.06, afm: 0.08\n",
      "confOf bt: 0.75 avgp: 0.53, rec: 0.25, afm: 0.34\n",
      "conference bt: 0.75 avgp: 0.12, rec: 0.24, afm: 0.16\n",
      "epoch 3 loss: 0.38, ev: 0.40\n"
     ]
    },
    {
     "data": {
      "text/plain": "<Figure size 640x480 with 2 Axes>",
      "image/png": "[encoded data removed]"
     },
     "metadata": {},
     "output_type": "display_data"
    },
    {
     "data": {
      "text/plain": "VBox(children=(Label(value='0.003 MB of 0.003 MB uploaded\\r'), FloatProgress(value=1.0, max=1.0)))",
      "application/vnd.jupyter.widget-view+json": {
       "version_major": 2,
       "version_minor": 0,
       "model_id": "57ce232a5c2c4592a2e41088cfb5e197"
      }
     },
     "metadata": {},
     "output_type": "display_data"
    },
    {
     "data": {
      "text/plain": "<IPython.core.display.HTML object>",
      "text/html": "<style>\n    table.wandb td:nth-child(1) { padding: 0 10px; text-align: left ; width: auto;} td:nth-child(2) {text-align: left ; width: 100%}\n    .wandb-row { display: flex; flex-direction: row; flex-wrap: wrap; justify-content: flex-start; width: 100% }\n    .wandb-col { display: flex; flex-direction: column; flex-basis: 100%; flex: 1; padding: 10px; }\n    </style>\n<div class=\"wandb-row\"><div class=\"wandb-col\"><h3>Run history:</h3><br/><table class=\"wandb\"><tr><td>acc</td><td>▁▁▅▅▆▆██</td></tr><tr><td>afm</td><td>█▁▄▄█</td></tr><tr><td>avgp</td><td>▆█▁▂▄</td></tr><tr><td>bt</td><td>▁▆▇▇█</td></tr><tr><td>confOf-afm</td><td>▅▂▁▂█</td></tr><tr><td>confOf-avgp</td><td>▃▂▁▁█</td></tr><tr><td>confOf-bt</td><td>▁▆█▅▅</td></tr><tr><td>confOf-rec</td><td>█▁▁▅█</td></tr><tr><td>conference-afm</td><td>█▁▃▄▇</td></tr><tr><td>conference-avgp</td><td>█▁▃▃▅</td></tr><tr><td>conference-bt</td><td>▃▁█▃▆</td></tr><tr><td>conference-rec</td><td>▁█▁▄▂</td></tr><tr><td>edas-afm</td><td>█▁▃▃▂</td></tr><tr><td>edas-avgp</td><td>▃▁█▁▂</td></tr><tr><td>edas-bt</td><td>▁▅█▂█</td></tr><tr><td>edas-rec</td><td>█▁▁█▁</td></tr><tr><td>ekaw-afm</td><td>██▅▁▁</td></tr><tr><td>ekaw-avgp</td><td>▄▄▂█▁</td></tr><tr><td>ekaw-bt</td><td>█▅▅▁▁</td></tr><tr><td>ekaw-rec</td><td>▅▅█▁▁</td></tr><tr><td>loss</td><td>██▃▃▁▁▁▁</td></tr><tr><td>rec</td><td>▆▁█▄█</td></tr></table><br/></div><div class=\"wandb-col\"><h3>Run summary:</h3><br/><table class=\"wandb\"><tr><td>acc</td><td>0.40097</td></tr><tr><td>afm</td><td>0.25838</td></tr><tr><td>avgp</td><td>0.23039</td></tr><tr><td>bt</td><td>0.95</td></tr><tr><td>confOf-afm</td><td>0.34003</td></tr><tr><td>confOf-avgp</td><td>0.53139</td></tr><tr><td>confOf-bt</td><td>0.75</td></tr><tr><td>confOf-rec</td><td>0.25</td></tr><tr><td>conference-afm</td><td>0.16333</td></tr><tr><td>conference-avgp</td><td>0.12342</td></tr><tr><td>conference-bt</td><td>0.75</td></tr><tr><td>conference-rec</td><td>0.24138</td></tr><tr><td>edas-afm</td><td>0.079</td></tr><tr><td>edas-avgp</td><td>0.12024</td></tr><tr><td>edas-bt</td><td>0.9</td></tr><tr><td>edas-rec</td><td>0.05882</td></tr><tr><td>ekaw-afm</td><td>0.0</td></tr><tr><td>ekaw-avgp</td><td>0.02717</td></tr><tr><td>ekaw-bt</td><td>0.0</td></tr><tr><td>ekaw-rec</td><td>0.0</td></tr><tr><td>loss</td><td>0.37708</td></tr><tr><td>rec</td><td>0.29412</td></tr></table><br/></div></div>"
     },
     "metadata": {},
     "output_type": "display_data"
    },
    {
     "data": {
      "text/plain": "<IPython.core.display.HTML object>",
      "text/html": " View run <strong style=\"color:#cdcd00\">ruby-serenity-1</strong> at: <a href='https://wandb.ai/ghss/my-awesome-project/runs/0q5pdmj1' target=\"_blank\">https://wandb.ai/ghss/my-awesome-project/runs/0q5pdmj1</a><br/>Synced 6 W&B file(s), 0 media file(s), 0 artifact file(s) and 0 other file(s)"
     },
     "metadata": {},
     "output_type": "display_data"
    },
    {
     "data": {
      "text/plain": "<IPython.core.display.HTML object>",
      "text/html": "Find logs at: <code>./wandb/run-20240201_155346-0q5pdmj1/logs</code>"
     },
     "metadata": {},
     "output_type": "display_data"
    }
   ],
   "source": [
    "\n",
    "\n",
    "\n",
    "def train_function(model, root_entities, graph_data, cq, cqid, res, caq, cqmask, tor):\n",
    "    # accelerator = Accelerator(gradient_accumulation_steps=4)\n",
    "    accelerator = Accelerator()\n",
    "    optimizer = optim.Adam(model.parameters(), lr=0.00001)\n",
    "\n",
    "    lh = []\n",
    "    evh = []\n",
    "    epochs = 4\n",
    "    batch_size = 2\n",
    "    progress = None\n",
    "\n",
    "    triplet_loss = nn.TripletMarginWithDistanceLoss(\n",
    "        distance_function=lambda x, y: 1.0 - torch.cosine_similarity(x, y), margin=0.8)\n",
    "\n",
    "    dataset = CQADataset(tokenizer, conts_cqa_subg, raw_data[test_ont], filter_bn=False)\n",
    "    loader = DataLoader(dataset, batch_size=batch_size)\n",
    "\n",
    "    cqloader = DataLoader(cqid, batch_size=batch_size, shuffle=False)\n",
    "    acqloader = [DataLoader(a, batch_size=batch_size, shuffle=False) for a in caq]\n",
    "    graph_loader = DataLoader(graph_data, batch_size=batch_size, shuffle=False)\n",
    "\n",
    "    model, optimizer, loader, cqloader, graph_loader, *acqloader = accelerator.prepare(model, optimizer, loader,\n",
    "                                                                                       cqloader, graph_loader,\n",
    "                                                                                       *acqloader)\n",
    "\n",
    "    model.find_unused_parameters = False\n",
    "    if not progress and accelerator.is_main_process:\n",
    "        progress = tqdm(total=epochs * len(loader))\n",
    "\n",
    "    accelerator.print('First evaluation:')\n",
    "    eval_test(accelerator, model, cqloader, graph_loader, cq, root_entities, res, acqloader, cqmask, tor)\n",
    "\n",
    "    accelerator.print(f'ev data: {evm(accelerator, model, dataset, th=0.9):.2f}')\n",
    "\n",
    "    for e in range(epochs):\n",
    "\n",
    "        model.train()\n",
    "\n",
    "        el = []\n",
    "        for batch in loader:\n",
    "            with accelerator.accumulate(model):\n",
    "                optimizer.zero_grad()\n",
    "\n",
    "                cqs, sbgs, nsbg = model(cqa=batch.cqs, positive_sbg=(batch.x_sf, batch.x_s,\n",
    "                                                                     batch.edge_index_s, batch.edge_feat_sf,\n",
    "                                                                     batch.edge_feat_s),\n",
    "                                        negative_sbg=(batch.x_nf, batch.x_n,\n",
    "                                                      batch.edge_index_n, batch.edge_feat_nf, batch.edge_feat_n))\n",
    "\n",
    "                isbgs = sbgs[batch.rsi]\n",
    "                isbgn = nsbg[batch.rni]\n",
    "\n",
    "                loss = triplet_loss(cqs, isbgs, isbgn)\n",
    "                el.append(accelerator.gather_for_metrics(loss.detach()))\n",
    "                accelerator.backward(loss)\n",
    "\n",
    "                optimizer.step()\n",
    "                if accelerator.is_main_process:\n",
    "                    progress.update(1)\n",
    "\n",
    "        lh.append(torch.stack(el).mean().item())\n",
    "\n",
    "        evh.append(evm(accelerator, model, dataset, th=0.9))\n",
    "        eval_test(accelerator, model, cqloader, graph_loader, cq, root_entities, res, acqloader, cqmask, tor)\n",
    "        accelerator.print(f'epoch {e} loss: {lh[-1]:.2f}, ev: {evh[-1]:.2f}')\n",
    "        wandb.log({'acc': evh[-1], 'loss': lh[-1]})\n",
    "\n",
    "    if accelerator.is_main_process:\n",
    "        progress.close()\n",
    "\n",
    "        fig, ax = plt.subplots(1, 2)\n",
    "        fig.tight_layout()\n",
    "        ax[0].plot(lh)\n",
    "        ax[1].plot(evh)\n",
    "        plt.show()\n",
    "\n",
    "    if accelerator.is_main_process:\n",
    "        wandb.finish()\n",
    "\n",
    "\n",
    "model = Model()\n",
    "\n",
    "notebook_launcher(train_function, (model, root_entities, graph_data, cq, cqid, fres, caq, cqmask, tor), num_processes=2,\n",
    "                  use_port='29502')"
   ],
   "metadata": {
    "collapsed": false,
    "ExecuteTime": {
     "end_time": "2024-02-01T15:40:52.147724976Z",
     "start_time": "2024-02-01T14:59:13.501995783Z"
    }
   },
   "id": "81cd16f8861a744f"
  },
  {
   "cell_type": "code",
   "outputs": [],
   "source": [],
   "metadata": {
    "collapsed": false
   },
   "id": "b750a65a90424657"
  }
 ],
 "metadata": {
  "kernelspec": {
   "name": "myenv",
   "language": "python",
   "display_name": "myenv"
  },
  "language_info": {
   "codemirror_mode": {
    "name": "ipython",
    "version": 2
   },
   "file_extension": ".py",
   "mimetype": "text/x-python",
   "name": "python",
   "nbconvert_exporter": "python",
   "pygments_lexer": "ipython2",
   "version": "2.7.6"
  }
 },
 "nbformat": 4,
 "nbformat_minor": 5
}
