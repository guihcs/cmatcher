{
 "cells": [
  {
   "metadata": {
    "ExecuteTime": {
     "end_time": "2024-09-20T13:19:53.470592Z",
     "start_time": "2024-09-20T13:19:53.202486Z"
    }
   },
   "cell_type": "code",
   "source": [
    "from transformers import AutoTokenizer, AutoModel, BitsAndBytesConfig, AutoModelForCausalLM\n",
    "import torch\n",
    "\n",
    "from tqdm.auto import tqdm\n",
    "\n",
    "import random\n",
    "import itertools\n",
    "import os\n",
    "\n",
    "from rdflib import Graph\n",
    "from rdflib.term import URIRef, Literal, BNode\n",
    "from rdflib.namespace import RDF, RDFS, OWL, XSD\n",
    "from om.ont import get_n, tokenize\n",
    "\n",
    "# define deterministic behavior\n",
    "random.seed(0)\n",
    "torch.manual_seed(0)\n",
    "torch.cuda.manual_seed(0)"
   ],
   "id": "520224798858e8c9",
   "outputs": [],
   "execution_count": 105
  },
  {
   "metadata": {
    "ExecuteTime": {
     "end_time": "2024-09-20T13:19:54.874831Z",
     "start_time": "2024-09-20T13:19:54.847576Z"
    }
   },
   "cell_type": "code",
   "source": [
    "base_path = '/projets/melodi/gsantoss/data/complex/conference/ont/'\n",
    "o1 = Graph().parse(base_path + 'cmt.owl')\n",
    "e = URIRef('http://cmt#Paper')\n"
   ],
   "id": "534d2b50ef4d2b12",
   "outputs": [],
   "execution_count": 106
  },
  {
   "metadata": {
    "ExecuteTime": {
     "end_time": "2024-09-20T13:44:55.314683Z",
     "start_time": "2024-09-20T13:44:55.307768Z"
    }
   },
   "cell_type": "code",
   "source": "",
   "id": "d1e6ecb22f1c87cb",
   "outputs": [],
   "execution_count": 134
  },
  {
   "metadata": {
    "ExecuteTime": {
     "end_time": "2024-09-20T13:49:08.722189Z",
     "start_time": "2024-09-20T13:49:08.702778Z"
    }
   },
   "cell_type": "code",
   "source": "",
   "id": "e163229124729315",
   "outputs": [],
   "execution_count": 143
  },
  {
   "metadata": {
    "ExecuteTime": {
     "end_time": "2024-09-20T13:49:25.169390Z",
     "start_time": "2024-09-20T13:49:25.122747Z"
    }
   },
   "cell_type": "code",
   "source": [
    "for p, d, fs in os.walk(base_path):\n",
    "    for f in fs:\n",
    "        o1 = Graph().parse(p + f)\n",
    "        for s in set(o1.subjects()):\n",
    "            print(gen_doc(s, o1, max_entities=15))\n",
    "            raise Exception('hue')\n"
   ],
   "id": "62e781b54e3842c4",
   "outputs": [
    {
     "name": "stdout",
     "output_type": "stream",
     "text": [
      "Target Concept:\n",
      "Name: UnionOf(Social event, Working event).\n",
      "Parents: Empty.\n",
      "Children: Empty.\n",
      "Incoming Properties: Empty.\n",
      "Outgoing Properties: union Of BNode, default Choice positive Integer.\n",
      "Disjoint with: Empty.\n"
     ]
    },
    {
     "ename": "Exception",
     "evalue": "hue",
     "output_type": "error",
     "traceback": [
      "\u001B[0;31m---------------------------------------------------------------------------\u001B[0m",
      "\u001B[0;31mException\u001B[0m                                 Traceback (most recent call last)",
      "Cell \u001B[0;32mIn[145], line 6\u001B[0m\n\u001B[1;32m      4\u001B[0m \u001B[38;5;28;01mfor\u001B[39;00m s \u001B[38;5;129;01min\u001B[39;00m \u001B[38;5;28mset\u001B[39m(o1\u001B[38;5;241m.\u001B[39msubjects()):\n\u001B[1;32m      5\u001B[0m     \u001B[38;5;28mprint\u001B[39m(gen_doc(s, o1, max_entities\u001B[38;5;241m=\u001B[39m\u001B[38;5;241m15\u001B[39m))\n\u001B[0;32m----> 6\u001B[0m     \u001B[38;5;28;01mraise\u001B[39;00m \u001B[38;5;167;01mException\u001B[39;00m(\u001B[38;5;124m'\u001B[39m\u001B[38;5;124mhue\u001B[39m\u001B[38;5;124m'\u001B[39m)\n",
      "\u001B[0;31mException\u001B[0m: hue"
     ]
    }
   ],
   "execution_count": 145
  },
  {
   "metadata": {},
   "cell_type": "code",
   "outputs": [],
   "execution_count": null,
   "source": " ",
   "id": "a507cff0105afd53"
  }
 ],
 "metadata": {
  "kernelspec": {
   "name": "myenv",
   "language": "python",
   "display_name": "Python (myenv)"
  },
  "language_info": {
   "codemirror_mode": {
    "name": "ipython",
    "version": 2
   },
   "file_extension": ".py",
   "mimetype": "text/x-python",
   "name": "python",
   "nbconvert_exporter": "python",
   "pygments_lexer": "ipython2",
   "version": "2.7.6"
  }
 },
 "nbformat": 4,
 "nbformat_minor": 5
}
