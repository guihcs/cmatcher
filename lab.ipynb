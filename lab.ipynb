{
 "cells": [
  {
   "cell_type": "code",
   "execution_count": 1,
   "id": "initial_id",
   "metadata": {
    "collapsed": true,
    "ExecuteTime": {
     "end_time": "2024-01-30T14:12:33.083000560Z",
     "start_time": "2024-01-30T14:10:49.923320068Z"
    }
   },
   "outputs": [],
   "source": [
    "from rdflib import Graph\n",
    "from rdflib.namespace import RDF, OWL\n",
    "from rdflib.term import BNode\n",
    "from cmatcher.owl_utils import load_entities, load_cqas, load_sg, add_depth, to_pyg\n",
    "from tqdm.auto import tqdm\n",
    "from torch.utils.data import DataLoader as TorchDataLoader\n",
    "from torch_geometric.data import Data, Dataset\n",
    "from torch_geometric.utils import degree\n",
    "from torch_geometric.loader import DataLoader\n",
    "from cmatcher.cqa_search import *\n",
    "from torch_geometric.nn import MessagePassing\n",
    "from cmatcher.eval_utils import prepare_eval_dataset, embed_cqas, embed_subg, eval_metrics\n",
    "from transformers import AutoTokenizer, BertModel, DistilBertModel, AutoModel\n",
    "import transformers.optimization as toptim\n",
    "import torch.utils.checkpoint as checkpoint\n",
    "import dill\n",
    "import os\n",
    "import torch\n",
    "import torch.nn as nn\n",
    "import torch.optim as optim\n",
    "import matplotlib.pyplot as plt\n",
    "import math\n",
    "import time\n",
    "import copy\n",
    "import torch_geometric.nn as gnn\n",
    "from torch_scatter import scatter_sum\n",
    "from accelerate import Accelerator, notebook_launcher\n",
    "import random\n",
    "\n",
    "torch.manual_seed(0)\n",
    "random.seed(0)"
   ]
  },
  {
   "cell_type": "code",
   "execution_count": 2,
   "outputs": [],
   "source": [
    "os.environ[\"TOKENIZERS_PARALLELISM\"] = \"false\""
   ],
   "metadata": {
    "collapsed": false,
    "ExecuteTime": {
     "end_time": "2024-01-30T14:12:33.197607075Z",
     "start_time": "2024-01-30T14:12:33.194884174Z"
    }
   },
   "id": "1dde3c07b5aa97ed"
  },
  {
   "cell_type": "code",
   "execution_count": 3,
   "outputs": [],
   "source": [
    "paths = {\n",
    "    'edas.owl': '/projets/melodi/gsantoss/data/oaei/tracks/conference/onts/edas.owl',\n",
    "    'ekaw.owl': '/projets/melodi/gsantoss/data/oaei/tracks/conference/onts/ekaw.owl',\n",
    "    'confOf.owl': '/projets/melodi/gsantoss/data/oaei/tracks/conference/onts/confOf.owl',\n",
    "    'conference.owl': '/projets/melodi/gsantoss/data/oaei/tracks/conference/onts/Conference.owl',\n",
    "    'cmt.owl': '/projets/melodi/gsantoss/data/oaei/tracks/conference/onts/cmt.owl',\n",
    "}\n",
    "\n",
    "cqa_path = '/projets/melodi/gsantoss/data/complex/CQAs'\n",
    "entities_path = '/projets/melodi/gsantoss/data/complex/entities-cqas'"
   ],
   "metadata": {
    "collapsed": false,
    "ExecuteTime": {
     "end_time": "2024-01-30T14:12:33.227298802Z",
     "start_time": "2024-01-30T14:12:33.198126719Z"
    }
   },
   "id": "973951f08328093b"
  },
  {
   "cell_type": "code",
   "execution_count": 4,
   "outputs": [
    {
     "name": "stdout",
     "output_type": "stream",
     "text": [
      "loaded from cache.\n"
     ]
    },
    {
     "data": {
      "text/plain": "  0%|          | 0/101 [00:00<?, ?it/s]",
      "application/vnd.jupyter.widget-view+json": {
       "version_major": 2,
       "version_minor": 0,
       "model_id": "603ea68513f6455db851c2d8ffe86717"
      }
     },
     "metadata": {},
     "output_type": "display_data"
    },
    {
     "data": {
      "text/plain": "  0%|          | 0/101 [00:00<?, ?it/s]",
      "application/vnd.jupyter.widget-view+json": {
       "version_major": 2,
       "version_minor": 0,
       "model_id": "253e5bf8cf19403db55d44fc824f5d15"
      }
     },
     "metadata": {},
     "output_type": "display_data"
    }
   ],
   "source": [
    "if os.path.exists('/projets/melodi/gsantoss/tmp/idata.pkl'):\n",
    "    with open('/projets/melodi/gsantoss/tmp/idata.pkl', 'rb') as f:\n",
    "        idata = dill.load(f)\n",
    "        print('loaded from cache.')\n",
    "else:\n",
    "    with open('/projets/melodi/gsantoss/tmp/idata.pkl', 'wb') as f:\n",
    "        dill.dump(load_entities(entities_path, paths), f)\n",
    "\n",
    "isg = load_sg(entities_path, paths)\n",
    "\n",
    "cqas = load_cqas(cqa_path)\n",
    "raw_data = build_raw_data(idata, cqas)\n"
   ],
   "metadata": {
    "collapsed": false,
    "ExecuteTime": {
     "end_time": "2024-01-30T14:12:43.253078687Z",
     "start_time": "2024-01-30T14:12:33.229115827Z"
    }
   },
   "id": "a2d90c9c05a990a6"
  },
  {
   "cell_type": "code",
   "execution_count": 5,
   "outputs": [],
   "source": [
    "tokenizer = AutoTokenizer.from_pretrained(\"bert-base-uncased\")\n",
    "# tokenizer = AutoTokenizer.from_pretrained(\"roberta-base\")\n",
    "# tokenizer = AutoTokenizer.from_pretrained(\"sentence-transformers/all-mpnet-base-v2\")\n",
    "# tokenizer = AutoTokenizer.from_pretrained(\"roberta-large\")\n",
    "# tokenizer = AutoTokenizer.from_pretrained(\"razent/spbert-mlm-base\")"
   ],
   "metadata": {
    "collapsed": false,
    "ExecuteTime": {
     "end_time": "2024-01-30T14:12:43.891462093Z",
     "start_time": "2024-01-30T14:12:43.253410073Z"
    }
   },
   "id": "3152b20c73d6c362"
  },
  {
   "cell_type": "code",
   "execution_count": 6,
   "outputs": [
    {
     "name": "stdout",
     "output_type": "stream",
     "text": [
      "loaded from cache.\n"
     ]
    }
   ],
   "source": [
    "\n",
    "\n",
    "\n",
    "if os.path.exists('/projets/melodi/gsantoss/tmp/edas.pkl'):\n",
    "    with open('/projets/melodi/gsantoss/tmp/edas.pkl', 'rb') as f:\n",
    "        ifd, mc, mp, fres = dill.load(f)\n",
    "        print('loaded from cache.')\n",
    "else:\n",
    "    ifd, mc, mp, fres = build_raw_ts('/projets/melodi/gsantoss/data/oaei/tracks/conference/onts/edas.owl', isg['edas'],\n",
    "                                    workers=6)\n",
    "    with open('/projets/melodi/gsantoss/tmp/edas.pkl', 'wb') as f:\n",
    "        dill.dump((ifd, mc, mp, fres), f)\n"
   ],
   "metadata": {
    "collapsed": false,
    "ExecuteTime": {
     "end_time": "2024-01-30T14:12:44.073017563Z",
     "start_time": "2024-01-30T14:12:43.896365606Z"
    }
   },
   "id": "a4d6089cdd39b083"
  },
  {
   "cell_type": "code",
   "execution_count": 7,
   "outputs": [],
   "source": [
    "cidata = copy.deepcopy(idata)\n",
    "del cidata['edas']"
   ],
   "metadata": {
    "collapsed": false,
    "ExecuteTime": {
     "end_time": "2024-01-30T10:43:50.659239981Z",
     "start_time": "2024-01-30T10:43:50.630147229Z"
    }
   },
   "id": "6c49b601e536da02"
  },
  {
   "cell_type": "code",
   "outputs": [],
   "source": [],
   "metadata": {
    "collapsed": false
   },
   "id": "1a8fa2283a55e035"
  },
  {
   "cell_type": "code",
   "execution_count": 8,
   "outputs": [],
   "source": [
    "def prepare_eval_dataset(data, ifd, tokenizer, mc, mp, fres, filter_bn=True):\n",
    "    ts = []\n",
    "    graph_data = []\n",
    "    for s, cm, pm, fm in tqdm(ifd):\n",
    "        pd1, pdi1 = pad_entities(tokenizer, cm, mc)\n",
    "\n",
    "        pd3, pdi3 = pad_entities(tokenizer, pm, mp)\n",
    "\n",
    "        edge1 = torch.LongTensor(fm)\n",
    "\n",
    "        ts.append(s)\n",
    "        graph_data.append(GraphData(\n",
    "            rsi=torch.LongTensor([0]),\n",
    "            x_s=pdi1.long(),\n",
    "            x_sf=pd1.long(),\n",
    "            edge_index_s=edge1.long(),\n",
    "            edge_feat_s=pdi3.long(),\n",
    "            edge_feat_sf=pd3.long(),\n",
    "        ))\n",
    "\n",
    "\n",
    "    cq = []\n",
    "    cqi = []\n",
    "    for k in data:\n",
    "        if filter_bn and type(fres[k]) is BNode:\n",
    "            fres.pop(k, None)\n",
    "            continue\n",
    "\n",
    "        cq.append(k)\n",
    "        cqi.append(data[k])\n",
    "\n",
    "    cqid = tokenizer(cqi, return_tensors='pt', padding=True)['input_ids']\n",
    "\n",
    "    return ts, graph_data, cq, cqid\n",
    "\n",
    "\n"
   ],
   "metadata": {
    "collapsed": false,
    "ExecuteTime": {
     "end_time": "2024-01-30T10:43:50.664161809Z",
     "start_time": "2024-01-30T10:43:50.654724489Z"
    }
   },
   "id": "8a02fa02e5191863"
  },
  {
   "cell_type": "code",
   "execution_count": 9,
   "outputs": [
    {
     "data": {
      "text/plain": "  0%|          | 0/524 [00:00<?, ?it/s]",
      "application/vnd.jupyter.widget-view+json": {
       "version_major": 2,
       "version_minor": 0,
       "model_id": "8f80c7a2d1c6497fbe11514407053474"
      }
     },
     "metadata": {},
     "output_type": "display_data"
    }
   ],
   "source": [
    "root_entities, graph_data, cq, cqid = prepare_eval_dataset(cqas['edas'], ifd, tokenizer, mc, mp, fres, filter_bn=True)\n"
   ],
   "metadata": {
    "collapsed": false,
    "ExecuteTime": {
     "end_time": "2024-01-30T10:43:53.412169443Z",
     "start_time": "2024-01-30T10:43:50.658232322Z"
    }
   },
   "id": "a17c7cb4470bc722"
  },
  {
   "cell_type": "code",
   "execution_count": 19,
   "outputs": [
    {
     "name": "stdout",
     "output_type": "stream",
     "text": [
      "torch.Size([70, 768])\n"
     ]
    }
   ],
   "source": [
    "\n",
    "class GNNL(gnn.MessagePassing):\n",
    "    def __init__(self, d_model, num_heads, drop=0.1):\n",
    "        super(GNNL, self).__init__(aggr='add')\n",
    "        self.d_model = d_model\n",
    "        self.num_heads = num_heads\n",
    "        \n",
    "        self.ck = nn.Linear(2 * d_model, d_model)\n",
    "        \n",
    "        self.qw = nn.Linear(d_model, d_model)\n",
    "        self.vw = nn.Linear(d_model, d_model)\n",
    "\n",
    "        self.aw = nn.Sequential(\n",
    "            nn.LeakyReLU(0.2),\n",
    "            nn.Linear(num_heads, num_heads)\n",
    "        )\n",
    "\n",
    "        self.drop = nn.Dropout(drop)\n",
    "\n",
    "        self.cw = nn.Linear(d_model, d_model)\n",
    "\n",
    "        self.lx = nn.Linear(d_model, d_model)\n",
    "        \n",
    "        self.la = nn.Sequential(\n",
    "            nn.Linear(2 * d_model, d_model),\n",
    "            nn.LeakyReLU(0.2),\n",
    "            nn.Linear(d_model, 2),\n",
    "            nn.Softmax(dim=1),\n",
    "            nn.Dropout(drop)\n",
    "        )\n",
    "\n",
    "\n",
    "    def forward(self, x, edge_index, edge_attr):\n",
    "        \n",
    "        q = self.qw(x[edge_index[1]])\n",
    "        k = self.ck(torch.cat([edge_attr, x[edge_index[0]]], dim=1))\n",
    "        \n",
    "        attention = self._attention(q, k, edge_index, x.shape[0]).unsqueeze(-1)\n",
    "        \n",
    "        h = self.propagate(edge_index, x=x, edge_attr=edge_attr, attention=attention)\n",
    "        \n",
    "        lx = self.lx(x)\n",
    "        \n",
    "        la = self.la(torch.cat([lx, h], dim=1))\n",
    "        \n",
    "        return x * la[:, 0].unsqueeze(-1) + h * la[:, 1].unsqueeze(-1)\n",
    "    \n",
    "    def _attention(self, q, k, ei, n):\n",
    "        \n",
    "        wq = self._reshape_mh(q)\n",
    "        wk = self._reshape_mh(k)\n",
    "        \n",
    "        aw = torch.einsum('bhd,bhq->bh', wq, wk) / math.sqrt(self.d_model)\n",
    "        a = torch.exp(self.aw(aw))\n",
    "        \n",
    "        sc = scatter_sum(a, ei[1], dim=0, dim_size=n)\n",
    "        \n",
    "        ad = sc[ei[1]]\n",
    "        ad[ad == 0] = 1\n",
    "        \n",
    "        return self.drop(a / ad)\n",
    "\n",
    "\n",
    "    def message(self, x_i, x_j, edge_attr, attention):\n",
    "        \n",
    "        v = self.vw(x_j)\n",
    "\n",
    "        wv = self._reshape_mh(v)\n",
    "    \n",
    "        fw = attention * wv\n",
    "        \n",
    "        return self.cw(self._reshape_out(fw))\n",
    "    \n",
    "    \n",
    "    def _reshape_mh(self, x):\n",
    "        return x.view(x.shape[0], self.num_heads, -1)\n",
    "\n",
    "    def _reshape_out(self, x):\n",
    "        return x.reshape(x.shape[0], self.d_model)\n",
    "    \n",
    "    \n",
    "    \n",
    "class GNN(nn.Module):\n",
    "    def __init__(self, d_model, num_heads, drop=0.1, d=3):\n",
    "        super(GNN, self).__init__()\n",
    "        self.gnns = nn.ModuleList([GNNL(d_model, num_heads, drop) for _ in range(d)])\n",
    "\n",
    "    def forward(self, x, edge_index, edge_attr):\n",
    "        for g in self.gnns:\n",
    "            x = g(x, edge_index, edge_attr)\n",
    "        return x\n",
    "    \n",
    "    \n",
    "edge_index = torch.tensor([[0, 1, 2],\n",
    "                           [1, 1, 1]], dtype=torch.long)\n",
    "x = torch.tensor([[-1], [0.5], [-1]], dtype=torch.float)\n",
    "\n",
    "#torch.Size([70, 768]) torch.Size([2, 195]) torch.Size([195, 768])\n",
    "data = Data(x=x, edge_index=edge_index, edge_attr=torch.ones((2, 1)))\n",
    "\n",
    "g = GNNL(768, 4)\n",
    "\n",
    "out = g(torch.randn(70, 768), torch.randint(0, 70, (2, 195)), torch.randn(195, 768))\n",
    "# out = g(x, edge_index, torch.ones((2, 1)))\n",
    "# print(out)\n",
    "print(out.shape)\n"
   ],
   "metadata": {
    "collapsed": false,
    "ExecuteTime": {
     "end_time": "2024-01-30T13:21:45.036081695Z",
     "start_time": "2024-01-30T13:21:44.173342723Z"
    }
   },
   "id": "4afec310e98c5e8d"
  },
  {
   "cell_type": "code",
   "execution_count": 20,
   "outputs": [],
   "source": [
    "    \n",
    "    \n",
    "class BertEmb(nn.Module):\n",
    "    def __init__(self):\n",
    "        super(BertEmb, self).__init__()\n",
    "        self.bert = BertModel.from_pretrained('bert-base-uncased')\n",
    "        # self.bert = BertModel.from_pretrained('bert-large-uncased')\n",
    "        # self.bert = AutoModel.from_pretrained(\"roberta-base\")\n",
    "        # self.bert = AutoModel.from_pretrained(\"sentence-transformers/all-mpnet-base-v2\")\n",
    "        # self.bert = AutoModel.from_pretrained(\"roberta-large\")\n",
    "        # self.bert = AutoModel.from_pretrained(\"razent/spbert-mlm-base\")\n",
    "        self.bert.pooler.requires_grad_(False)\n",
    "        # self.bert.gradient_checkpointing_enable()\n",
    "    def forward(self, x):\n",
    "        mask = x > 0\n",
    "        out = self.bert(input_ids=x, attention_mask=mask)['last_hidden_state']\n",
    "\n",
    "        om = mask.unsqueeze(-1).float()\n",
    "\n",
    "        mo = out * om\n",
    "        cf = om.sum(dim=1)\n",
    "        cf[cf == 0] = 1\n",
    "        return mo.sum(dim=1) / cf\n",
    "\n",
    "\n",
    "class Model(nn.Module):\n",
    "    def __init__(self):\n",
    "        super(Model, self).__init__()\n",
    "        self.emb1 = BertEmb()\n",
    "        self.gnn = GNN(768, 8, d=1)\n",
    "\n",
    "\n",
    "    def forward(self, cqa=None, positive_sbg=None, negative_sbg=None):\n",
    "        \n",
    "        if cqa is not None:\n",
    "            cqa = self.embed_cqa(cqa)\n",
    "\n",
    "        sbg = None\n",
    "        \n",
    "        if positive_sbg is not None:\n",
    "            x, xi, edge_index, edge_attr, edge_attr_i = positive_sbg\n",
    "\n",
    "            sbg = self.embed_subg(x, xi, edge_index, edge_attr, edge_attr_i)\n",
    "        nsbg = None\n",
    "        \n",
    "        if negative_sbg is not None:\n",
    "            nx, nxi, nedge_index, nedge_attr, nedge_attr_i = negative_sbg\n",
    "            nsbg = self.embed_subg(nx, nxi, nedge_index, nedge_attr, nedge_attr_i)\n",
    "\n",
    "        return cqa, sbg, nsbg\n",
    "\n",
    "    def embed_cqa(self, x):\n",
    "        return self.emb1(x)\n",
    "\n",
    "    def embed_subg(self, x, xi, edge_index, edge_attr, edge_attr_i):\n",
    "        feats = []\n",
    "        for f in TorchDataLoader(x, batch_size=4, shuffle=False):\n",
    "            feats.append(checkpoint.checkpoint(self.emb1, f, use_reentrant=False))\n",
    "        feats = torch.cat(feats, dim=0)\n",
    "        sf = feats[xi]\n",
    "        \n",
    "        props = []\n",
    "        for f in TorchDataLoader(edge_attr, batch_size=4, shuffle=False):\n",
    "            props.append(checkpoint.checkpoint(self.emb1, f, use_reentrant=False))\n",
    "        props = torch.cat(props, dim=0)\n",
    "        edge_attr_sf = props[edge_attr_i]\n",
    "\n",
    "        out = checkpoint.checkpoint(self.gnn, sf, edge_index, edge_attr_sf, use_reentrant=False)\n",
    "        return out\n",
    "\n",
    "\n",
    "model = Model()\n",
    "device = torch.device('cuda:0')\n",
    "# model.cuda(0)"
   ],
   "metadata": {
    "collapsed": false,
    "ExecuteTime": {
     "end_time": "2024-01-30T13:21:52.432467778Z",
     "start_time": "2024-01-30T13:21:46.892216116Z"
    }
   },
   "id": "d163d47c5ef7cd04"
  },
  {
   "cell_type": "code",
   "execution_count": 21,
   "outputs": [
    {
     "name": "stdout",
     "output_type": "stream",
     "text": [
      "Launching training on 2 GPUs.\n"
     ]
    },
    {
     "name": "stderr",
     "output_type": "stream",
     "text": [
      "Detected kernel version 3.10.0, which is below the recommended minimum of 5.5.0; this can cause the process to hang. It is recommended to upgrade the kernel to the minimum version or higher.\n"
     ]
    },
    {
     "data": {
      "text/plain": "  0%|          | 0/156 [00:00<?, ?it/s]",
      "application/vnd.jupyter.widget-view+json": {
       "version_major": 2,
       "version_minor": 0,
       "model_id": "cfb6844a041a4efda6af19c1ae874420"
      }
     },
     "metadata": {},
     "output_type": "display_data"
    },
    {
     "name": "stdout",
     "output_type": "stream",
     "text": [
      "First evaluation:\n",
      "bt: 0.75 avgp: 0.12, rec: 0.05, afm: 0.07\n",
      "ev data: 0.00\n",
      "bt: 0.90 avgp: 0.81, rec: 0.05, afm: 0.10\n",
      "epoch 0 loss: 0.34, ev: 0.05\n",
      "bt: 0.80 avgp: 0.53, rec: 0.84, afm: 0.65\n",
      "epoch 1 loss: 0.25, ev: 0.55\n",
      "bt: 0.70 avgp: 0.63, rec: 1.00, afm: 0.77\n",
      "epoch 2 loss: 0.16, ev: 0.75\n",
      "bt: 0.80 avgp: 0.69, rec: 1.00, afm: 0.81\n",
      "epoch 3 loss: 0.11, ev: 0.97\n"
     ]
    },
    {
     "data": {
      "text/plain": "<Figure size 640x480 with 2 Axes>",
      "image/png": "[encoded data removed]"
     },
     "metadata": {},
     "output_type": "display_data"
    }
   ],
   "source": [
    "def sim_loss(cq, pe, ne):\n",
    "    return torch.mean(1 - torch.cosine_similarity(cq, pe) + torch.cosine_similarity(cq, ne))\n",
    "\n",
    "def evm(accelerator, model, dataset, th=0.5):\n",
    "    model.eval()\n",
    "\n",
    "    res = []\n",
    "    for batch in DataLoader(dataset, batch_size=2):\n",
    "        with torch.no_grad():\n",
    "\n",
    "            cqs, sbgs, _ = model(cqa=batch.cqs, positive_sbg=(batch.x_sf, batch.x_s,\n",
    "                              batch.edge_index_s, batch.edge_feat_sf, batch.edge_feat_s))\n",
    "\n",
    "            isbgs = sbgs[batch.rsi]\n",
    "\n",
    "            sim = torch.cosine_similarity(cqs, isbgs) > th\n",
    "            res.append(accelerator.gather_for_metrics(sim))\n",
    "            \n",
    "\n",
    "    res = torch.cat(res, dim=0)\n",
    "\n",
    "    return (res.sum() / res.size(0)).item()\n",
    "\n",
    "\n",
    "def eval_test(accelerator, model, cqloader, graph_loader, cq, root_entities, res):\n",
    "    model.eval()\n",
    "\n",
    "    cqeb = embed_cqas(accelerator, model, cqloader)\n",
    "    graph_embeddings = embed_subg(accelerator, model, graph_loader)\n",
    "\n",
    "    if accelerator.is_main_process:\n",
    "        avgps = []\n",
    "        rcs = []\n",
    "        fms = []\n",
    "    \n",
    "        for t in torch.arange(0, 1, 0.05):\n",
    "            avgp, rc, fm = eval_metrics(cq, cqeb, graph_embeddings, root_entities, res, th=t)\n",
    "            avgps.append(avgp)\n",
    "            rcs.append(rc)\n",
    "            fms.append(fm)\n",
    "    \n",
    "        bv = torch.tensor(fms).argmax().item()\n",
    "        accelerator.print(f'bt: {bv * 0.05:.2f} avgp: {avgps[bv]:.2f}, rec: {rcs[bv]:.2f}, afm: {fms[bv]:.2f}')\n",
    "\n",
    "\n",
    "def train_function(model, root_entities, graph_data, cq, cqid, res):\n",
    "\n",
    "    # accelerator = Accelerator(gradient_accumulation_steps=4)\n",
    "    accelerator = Accelerator()\n",
    "    optimizer = optim.Adam(model.parameters(), lr=0.00001)\n",
    "    # optimizer = toptim.Adafactor(model.parameters())\n",
    "    \n",
    "    lh = []\n",
    "    evh = []\n",
    "    epochs = 4\n",
    "    batch_size = 2\n",
    "    progress = None\n",
    "    \n",
    "    triplet_loss = nn.TripletMarginWithDistanceLoss(\n",
    "         distance_function=lambda x, y: 1.0 - torch.cosine_similarity(x, y), margin=0.8)\n",
    "    \n",
    "    dataset = CQADataset(tokenizer, cidata, raw_data['edas'], filter_bn=True)\n",
    "    loader = DataLoader(dataset, batch_size=batch_size)\n",
    "    \n",
    "    \n",
    "    cqloader = DataLoader(cqid, batch_size=batch_size, shuffle=False)\n",
    "    graph_loader = DataLoader(graph_data, batch_size=batch_size, shuffle=False)\n",
    "    \n",
    "    model, optimizer, loader, cqloader, graph_loader = accelerator.prepare(model, optimizer, loader, cqloader, graph_loader)\n",
    "    \n",
    "    model.find_unused_parameters = False\n",
    "    if not progress and accelerator.is_main_process:\n",
    "        progress = tqdm(total=epochs * len(loader))\n",
    "\n",
    "    accelerator.print('First evaluation:')\n",
    "    eval_test(accelerator, model, cqloader, graph_loader, cq, root_entities, res)\n",
    "    accelerator.print(f'ev data: {evm(accelerator, model, dataset, th=0.9):.2f}')\n",
    "    \n",
    "    for e in range(epochs):\n",
    "    \n",
    "        model.train()\n",
    "        \n",
    "        el = []\n",
    "        for batch in loader:\n",
    "            with accelerator.accumulate(model):\n",
    "                optimizer.zero_grad()\n",
    "                \n",
    "\n",
    "                \n",
    "                cqs, sbgs, nsbg = model(cqa=batch.cqs, positive_sbg=(batch.x_sf, batch.x_s,\n",
    "                              batch.edge_index_s, batch.edge_feat_sf, batch.edge_feat_s), negative_sbg=(batch.x_nf, batch.x_n,\n",
    "                               batch.edge_index_n, batch.edge_feat_nf, batch.edge_feat_n))\n",
    "                    \n",
    "\n",
    "                isbgs = sbgs[batch.rsi]\n",
    "                isbgn = nsbg[batch.rni]\n",
    "        \n",
    "                # loss = sim_loss(cqs, isbgs, isbgn)\n",
    "                loss = triplet_loss(cqs, isbgs, isbgn)\n",
    "                el.append(accelerator.gather_for_metrics(loss.detach()))\n",
    "                accelerator.backward(loss)\n",
    "        \n",
    "                optimizer.step()\n",
    "                if accelerator.is_main_process:\n",
    "                    progress.update(1)\n",
    "                \n",
    "        lh.append(torch.stack(el).mean().item())\n",
    "\n",
    "        evh.append(evm(accelerator, model, dataset, th=0.9))\n",
    "        eval_test(accelerator, model, cqloader, graph_loader, cq, root_entities, res)\n",
    "        accelerator.print(f'epoch {e} loss: {lh[-1]:.2f}, ev: {evh[-1]:.2f}')\n",
    "    \n",
    "    \n",
    "    if accelerator.is_main_process:\n",
    "        progress.close()\n",
    "    \n",
    "        fig, ax = plt.subplots(1, 2)\n",
    "        fig.tight_layout()\n",
    "        ax[0].plot(lh)\n",
    "        ax[1].plot(evh)\n",
    "        plt.show()\n",
    "\n",
    "notebook_launcher(train_function, (model, root_entities, graph_data, cq, cqid, fres), num_processes=2, use_port='29502')"
   ],
   "metadata": {
    "collapsed": false,
    "ExecuteTime": {
     "end_time": "2024-01-30T13:57:36.645066400Z",
     "start_time": "2024-01-30T13:21:53.259115554Z"
    }
   },
   "id": "81cd16f8861a744f"
  },
  {
   "cell_type": "code",
   "execution_count": null,
   "outputs": [],
   "source": [],
   "metadata": {
    "collapsed": false
   },
   "id": "eec26bcf6a16a98a"
  }
 ],
 "metadata": {
  "kernelspec": {
   "name": "myenv",
   "language": "python",
   "display_name": "myenv"
  },
  "language_info": {
   "codemirror_mode": {
    "name": "ipython",
    "version": 2
   },
   "file_extension": ".py",
   "mimetype": "text/x-python",
   "name": "python",
   "nbconvert_exporter": "python",
   "pygments_lexer": "ipython2",
   "version": "2.7.6"
  }
 },
 "nbformat": 4,
 "nbformat_minor": 5
}
