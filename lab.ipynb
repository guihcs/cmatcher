{
 "cells": [
  {
   "metadata": {
    "ExecuteTime": {
     "end_time": "2024-09-24T10:30:40.905376Z",
     "start_time": "2024-09-24T10:30:37.921968Z"
    }
   },
   "cell_type": "code",
   "source": [
    "from rdflib import Graph\n",
    "from rdflib.term import URIRef\n",
    "from cmatcher.module_search.pagerank import gen_pagerank_sparql_queries\n",
    "from transformers import AutoTokenizer, AutoModel, BitsAndBytesConfig, AutoModelForCausalLM\n",
    "import torch\n",
    "from rdflib.namespace import RDF\n",
    "from cmatcher.rag.rag_reduce import ont_query_reduce, reduce_ont, get_detailed_instruct, gen_doc\n",
    "from cmatcher.rag.prompt_gen import gen_prompt\n",
    "from cmatcher.rag.prompt_to_edoal import match\n",
    "from tqdm.auto import tqdm\n",
    "import gc\n",
    "import dill\n",
    "import subprocess\n",
    "import os\n",
    "import re\n",
    "import random\n",
    "import itertools\n",
    "import torch.nn.functional as F\n",
    "import difflib\n",
    "# define deterministic behavior\n",
    "random.seed(0)\n",
    "torch.manual_seed(0)\n",
    "torch.cuda.manual_seed(0) "
   ],
   "id": "a507cff0105afd53",
   "outputs": [],
   "execution_count": 1
  },
  {
   "metadata": {
    "ExecuteTime": {
     "end_time": "2024-09-24T10:30:41.074219Z",
     "start_time": "2024-09-24T10:30:41.071276Z"
    }
   },
   "cell_type": "code",
   "source": [
    "def batched(iterable, n):\n",
    "    # batched('ABCDEFG', 3) → ABC DEF G\n",
    "    if n < 1:\n",
    "        raise ValueError('n must be at least one')\n",
    "    iterator = iter(iterable)\n",
    "    while batch := tuple(itertools.islice(iterator, n)):\n",
    "        yield batch"
   ],
   "id": "2b53a208cb912b57",
   "outputs": [],
   "execution_count": 2
  },
  {
   "metadata": {
    "ExecuteTime": {
     "end_time": "2024-09-24T10:51:21.511212Z",
     "start_time": "2024-09-24T10:49:21.744564Z"
    }
   },
   "cell_type": "code",
   "source": [
    "def embed(model, text, instruction='', batch_size=8, max_length=4096):\n",
    "    with torch.no_grad():\n",
    "        embeddings = []\n",
    "        for t in tqdm(list(batched(text, batch_size))):\n",
    "            embeddings.append(model.encode(t, instruction=instruction, max_length=max_length))\n",
    "        return torch.cat(embeddings, dim=0)\n",
    "\n",
    "\n",
    "def gen_docs(g, max_entities=10):\n",
    "    ls = list(filter(lambda x: (x, RDF.first, None) not in g, set(g.subjects())))\n",
    "    ls.sort()\n",
    "    \n",
    "    passages = []\n",
    "    for s in ls:\n",
    "        passages.append(gen_doc(s, g, max_entities=max_entities))\n",
    "    \n",
    "    return ls, passages\n",
    "\n",
    "def gen_prompts2():\n",
    "    \n",
    "    quantization_config = BitsAndBytesConfig(\n",
    "        load_in_4bit=True,\n",
    "        bnb_4bit_compute_dtype=torch.bfloat16,\n",
    "        bnb_4bit_use_double_quant=True,\n",
    "        bnb_4bit_quant_type=\"nf4\"\n",
    "    )\n",
    "    model = AutoModel.from_pretrained(\n",
    "        'nvidia/NV-Embed-v2',\n",
    "        quantization_config=quantization_config,\n",
    "        trust_remote_code=True,\n",
    "        device_map='auto',\n",
    "    )\n",
    "    model.eval()\n",
    "    base_path = '/projets/melodi/gsantoss/data/complex/conference/ont/'\n",
    "    \n",
    "    \n",
    "    o1 = Graph().parse(base_path + 'cmt.owl')\n",
    "    o2 = Graph().parse(base_path + 'conference.owl')\n",
    "    \n",
    "    queries1 = gen_pagerank_sparql_queries(o1)\n",
    "    queries1.sort()\n",
    "    \n",
    "    prompt = 'Given the following SPARQL query, retrieve relevant entities that are related to the query'\n",
    "    with open('cmatcher/prompt_examples/sample1.txt', 'r') as f:\n",
    "        sample1 = f.read()\n",
    "        \n",
    "    with open('cmatcher/prompt_examples/sample2.txt', 'r') as f:\n",
    "        sample2 = f.read()\n",
    "    \n",
    "    \n",
    "    ls_1, o1_passages = gen_docs(o1)\n",
    "    ls_2, o2_passages = gen_docs(o2)\n",
    "    \n",
    "    o1_embeddings = embed(model, o1_passages, instruction='', max_length=4096, batch_size=2)\n",
    "    o2_embeddings = embed(model, o2_passages, instruction='', max_length=4096, batch_size=2)\n",
    "    \n",
    "        \n",
    "    prompts = []\n",
    "    for query in tqdm(queries1):\n",
    "        \n",
    "        query_embeddings = embed(model, [query], instruction=f'Instruct: {prompt}\\nQuery: ', max_length=4096, batch_size=2)\n",
    "        \n",
    "        scores1 = o1_embeddings @ query_embeddings.T\n",
    "        scores2 = o2_embeddings @ query_embeddings.T\n",
    "    \n",
    "        module1 = reduce_ont(ls_1, scores1, o1, top_n=2, i_max_depth=1, o_max_depth=2)\n",
    "        module2 = reduce_ont(ls_2, scores2, o2, top_n=2, i_max_depth=1, o_max_depth=2)\n",
    "    \n",
    "        prompts.append(gen_prompt(module1, module2, None, sample1, sample2))\n",
    "        \n",
    "    return prompts"
   ],
   "id": "4170f81f76a0a890",
   "outputs": [
    {
     "data": {
      "text/plain": [
       "  0%|          | 0/50 [00:00<?, ?it/s]"
      ],
      "application/vnd.jupyter.widget-view+json": {
       "version_major": 2,
       "version_minor": 0,
       "model_id": "d105edf83f924394ab6f76b2782a9c68"
      }
     },
     "metadata": {},
     "output_type": "display_data"
    },
    {
     "data": {
      "text/plain": [
       "  0%|          | 0/80 [00:00<?, ?it/s]"
      ],
      "application/vnd.jupyter.widget-view+json": {
       "version_major": 2,
       "version_minor": 0,
       "model_id": "63d89a824a394b6e9e9476f5c0258ee2"
      }
     },
     "metadata": {},
     "output_type": "display_data"
    },
    {
     "data": {
      "text/plain": [
       "  0%|          | 0/9 [00:00<?, ?it/s]"
      ],
      "application/vnd.jupyter.widget-view+json": {
       "version_major": 2,
       "version_minor": 0,
       "model_id": "5fce9613f2634bee8ed8c74ee7f53d9c"
      }
     },
     "metadata": {},
     "output_type": "display_data"
    },
    {
     "data": {
      "text/plain": [
       "  0%|          | 0/1 [00:00<?, ?it/s]"
      ],
      "application/vnd.jupyter.widget-view+json": {
       "version_major": 2,
       "version_minor": 0,
       "model_id": "a99d748bcffa41e2a2db6525b06c32ad"
      }
     },
     "metadata": {},
     "output_type": "display_data"
    },
    {
     "data": {
      "text/plain": [
       "  0%|          | 0/1 [00:00<?, ?it/s]"
      ],
      "application/vnd.jupyter.widget-view+json": {
       "version_major": 2,
       "version_minor": 0,
       "model_id": "93b4c778ac6647aeb6730ab9e486fc8a"
      }
     },
     "metadata": {},
     "output_type": "display_data"
    },
    {
     "data": {
      "text/plain": [
       "  0%|          | 0/1 [00:00<?, ?it/s]"
      ],
      "application/vnd.jupyter.widget-view+json": {
       "version_major": 2,
       "version_minor": 0,
       "model_id": "f20edcf3e93f4ccb81e69178441a4bd1"
      }
     },
     "metadata": {},
     "output_type": "display_data"
    },
    {
     "data": {
      "text/plain": [
       "  0%|          | 0/1 [00:00<?, ?it/s]"
      ],
      "application/vnd.jupyter.widget-view+json": {
       "version_major": 2,
       "version_minor": 0,
       "model_id": "dd6ef4699b3a44238f0e8bc3f6a883e2"
      }
     },
     "metadata": {},
     "output_type": "display_data"
    },
    {
     "data": {
      "text/plain": [
       "  0%|          | 0/1 [00:00<?, ?it/s]"
      ],
      "application/vnd.jupyter.widget-view+json": {
       "version_major": 2,
       "version_minor": 0,
       "model_id": "c77cb7bbca1a488ebec84d85b65369dc"
      }
     },
     "metadata": {},
     "output_type": "display_data"
    },
    {
     "data": {
      "text/plain": [
       "  0%|          | 0/1 [00:00<?, ?it/s]"
      ],
      "application/vnd.jupyter.widget-view+json": {
       "version_major": 2,
       "version_minor": 0,
       "model_id": "a57e7f8e29a54c5ebdebb843062aeb4d"
      }
     },
     "metadata": {},
     "output_type": "display_data"
    },
    {
     "data": {
      "text/plain": [
       "  0%|          | 0/1 [00:00<?, ?it/s]"
      ],
      "application/vnd.jupyter.widget-view+json": {
       "version_major": 2,
       "version_minor": 0,
       "model_id": "53880c8b4c2146a1b975040c1d790024"
      }
     },
     "metadata": {},
     "output_type": "display_data"
    },
    {
     "data": {
      "text/plain": [
       "  0%|          | 0/1 [00:00<?, ?it/s]"
      ],
      "application/vnd.jupyter.widget-view+json": {
       "version_major": 2,
       "version_minor": 0,
       "model_id": "5dc3f94b2037417b9e70daf927fb2bbd"
      }
     },
     "metadata": {},
     "output_type": "display_data"
    },
    {
     "data": {
      "text/plain": [
       "  0%|          | 0/1 [00:00<?, ?it/s]"
      ],
      "application/vnd.jupyter.widget-view+json": {
       "version_major": 2,
       "version_minor": 0,
       "model_id": "48a53ad52e1143b384e10a55639859f5"
      }
     },
     "metadata": {},
     "output_type": "display_data"
    }
   ],
   "execution_count": 17
  },
  {
   "metadata": {
    "ExecuteTime": {
     "end_time": "2024-09-24T10:49:20.143754Z",
     "start_time": "2024-09-24T10:49:20.141485Z"
    }
   },
   "cell_type": "code",
   "source": "# old_prompts = prompts\n",
   "id": "3392540a60dab4bc",
   "outputs": [],
   "execution_count": 16
  },
  {
   "metadata": {
    "ExecuteTime": {
     "end_time": "2024-09-24T10:53:07.680075Z",
     "start_time": "2024-09-24T10:53:07.672781Z"
    }
   },
   "cell_type": "code",
   "source": [
    "    \n",
    "    \n",
    "    \n",
    "for i, (p1, p2) in enumerate(zip(old_prompts, prompts)):\n",
    "    print(f'Prompt {i}')\n",
    "    diff = difflib.ndiff(p1.splitlines(), p2.splitlines())\n",
    "    for line in diff:\n",
    "        if line.startswith('- ') or line.startswith('+ '):\n",
    "            print(line)\n",
    "    \n",
    "    print('=' * 100)"
   ],
   "id": "da3650ca26b64f50",
   "outputs": [
    {
     "name": "stdout",
     "output_type": "stream",
     "text": [
      "Prompt 0\n",
      "====================================================================================================\n",
      "Prompt 1\n",
      "====================================================================================================\n",
      "Prompt 2\n",
      "====================================================================================================\n",
      "Prompt 3\n",
      "====================================================================================================\n",
      "Prompt 4\n",
      "====================================================================================================\n",
      "Prompt 5\n",
      "====================================================================================================\n",
      "Prompt 6\n",
      "====================================================================================================\n",
      "Prompt 7\n",
      "====================================================================================================\n",
      "Prompt 8\n",
      "====================================================================================================\n"
     ]
    }
   ],
   "execution_count": 18
  },
  {
   "metadata": {},
   "cell_type": "code",
   "outputs": [],
   "execution_count": null,
   "source": "",
   "id": "5fbc0eed5b249ca2"
  }
 ],
 "metadata": {
  "kernelspec": {
   "name": "myenv",
   "language": "python",
   "display_name": "Python (myenv)"
  },
  "language_info": {
   "codemirror_mode": {
    "name": "ipython",
    "version": 2
   },
   "file_extension": ".py",
   "mimetype": "text/x-python",
   "name": "python",
   "nbconvert_exporter": "python",
   "pygments_lexer": "ipython2",
   "version": "2.7.6"
  }
 },
 "nbformat": 4,
 "nbformat_minor": 5
}
