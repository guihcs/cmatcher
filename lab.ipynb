{
 "cells": [
  {
   "cell_type": "code",
   "execution_count": 1,
   "id": "initial_id",
   "metadata": {
    "collapsed": true,
    "ExecuteTime": {
     "end_time": "2023-11-15T12:17:10.527926893Z",
     "start_time": "2023-11-15T12:17:03.964413564Z"
    }
   },
   "outputs": [],
   "source": [
    "from rdflib import Graph\n",
    "from rdflib.namespace import RDF, OWL\n",
    "from rdflib.term import BNode\n",
    "from cmatcher.owl_utils import load_entities, load_cqas, load_sg, add_depth, to_pyg\n",
    "from tqdm.auto import tqdm\n",
    "from torch.utils.data import DataLoader as TorchDataLoader\n",
    "from torch_geometric.data import Data, Dataset\n",
    "from torch_geometric.utils import degree\n",
    "from torch_geometric.loader import DataLoader\n",
    "from cmatcher.cqa_search import build_raw_data, build_graph_dataset, pad_seq, pad_entities, CQADataset\n",
    "from torch_geometric.nn import MessagePassing\n",
    "from multiprocessing_on_dill import Pool\n",
    "from transformers import AutoTokenizer, BertModel, DistilBertModel\n",
    "import torch.utils.checkpoint as checkpoint\n",
    "import dill\n",
    "import os\n",
    "import torch\n",
    "import torch.nn as nn\n",
    "import torch.optim as optim\n",
    "import matplotlib.pyplot as plt\n",
    "import math\n",
    "import time\n",
    "import copy\n",
    "import torch_geometric.nn as gnn\n",
    "from torch_scatter import scatter_sum\n",
    "from accelerate import Accelerator, notebook_launcher, DistributedDataParallelKwargs"
   ]
  },
  {
   "cell_type": "code",
   "execution_count": 2,
   "outputs": [],
   "source": [
    "os.environ[\"TOKENIZERS_PARALLELISM\"] = \"false\""
   ],
   "metadata": {
    "collapsed": false,
    "ExecuteTime": {
     "end_time": "2023-11-15T12:17:13.262636659Z",
     "start_time": "2023-11-15T12:17:13.260541048Z"
    }
   },
   "id": "1dde3c07b5aa97ed"
  },
  {
   "cell_type": "code",
   "execution_count": 3,
   "outputs": [],
   "source": [
    "paths = {\n",
    "    'edas.owl': '/projets/melodi/gsantoss/data/oaei/tracks/conference/onts/edas.owl',\n",
    "    'ekaw.owl': '/projets/melodi/gsantoss/data/oaei/tracks/conference/onts/ekaw.owl',\n",
    "    'confOf.owl': '/projets/melodi/gsantoss/data/oaei/tracks/conference/onts/confOf.owl',\n",
    "    'conference.owl': '/projets/melodi/gsantoss/data/oaei/tracks/conference/onts/Conference.owl',\n",
    "    'cmt.owl': '/projets/melodi/gsantoss/data/oaei/tracks/conference/onts/cmt.owl',\n",
    "}\n",
    "\n",
    "cqa_path = '/projets/melodi/gsantoss/data/complex/CQAs'\n",
    "entities_path = '/projets/melodi/gsantoss/data/complex/entities-cqas'"
   ],
   "metadata": {
    "collapsed": false,
    "ExecuteTime": {
     "end_time": "2023-11-15T12:17:13.606758612Z",
     "start_time": "2023-11-15T12:17:13.563299639Z"
    }
   },
   "id": "973951f08328093b"
  },
  {
   "cell_type": "code",
   "execution_count": 4,
   "outputs": [],
   "source": [
    "# paths = {\n",
    "#     'edas.owl': '/home/guilherme/Documents/kg/conference/edas.owl',\n",
    "#     'ekaw.owl': '/home/guilherme/Documents/kg/conference/ekaw.owl',\n",
    "#     'confOf.owl': '/home/guilherme/Documents/kg/conference/confOf.owl',\n",
    "#     'conference.owl': '/home/guilherme/Documents/kg/conference/Conference.owl',\n",
    "#     'cmt.owl': '/home/guilherme/Documents/kg/conference/cmt.owl',\n",
    "# }\n",
    "# \n",
    "# cqa_path = '/home/guilherme/Documents/complex/CQAs'\n",
    "# entities_path = '/home/guilherme/Documents/complex/entities-cqas'"
   ],
   "metadata": {
    "collapsed": false,
    "ExecuteTime": {
     "end_time": "2023-11-15T12:17:14.275445565Z",
     "start_time": "2023-11-15T12:17:14.231961765Z"
    }
   },
   "id": "fbe4e92976acafb4"
  },
  {
   "cell_type": "code",
   "execution_count": 5,
   "outputs": [
    {
     "data": {
      "text/plain": "  0%|          | 0/101 [00:00<?, ?it/s]",
      "application/vnd.jupyter.widget-view+json": {
       "version_major": 2,
       "version_minor": 0,
       "model_id": "576a01c79b6141849784e0dcf7a5cceb"
      }
     },
     "metadata": {},
     "output_type": "display_data"
    },
    {
     "data": {
      "text/plain": "  0%|          | 0/101 [00:00<?, ?it/s]",
      "application/vnd.jupyter.widget-view+json": {
       "version_major": 2,
       "version_minor": 0,
       "model_id": "65cacc3aa9064987892cea17972837ec"
      }
     },
     "metadata": {},
     "output_type": "display_data"
    },
    {
     "data": {
      "text/plain": "  0%|          | 0/101 [00:00<?, ?it/s]",
      "application/vnd.jupyter.widget-view+json": {
       "version_major": 2,
       "version_minor": 0,
       "model_id": "930ff68e007f422297195cf7c7d6a408"
      }
     },
     "metadata": {},
     "output_type": "display_data"
    }
   ],
   "source": [
    "\n",
    "idata = load_entities(entities_path, paths)\n",
    "isg = load_sg(entities_path, paths)\n",
    "\n",
    "cqas = load_cqas(cqa_path)\n",
    "raw_data = build_raw_data(idata, cqas)\n"
   ],
   "metadata": {
    "collapsed": false,
    "ExecuteTime": {
     "end_time": "2023-11-15T12:17:55.380376982Z",
     "start_time": "2023-11-15T12:17:14.492478895Z"
    }
   },
   "id": "a2d90c9c05a990a6"
  },
  {
   "cell_type": "code",
   "execution_count": 6,
   "outputs": [],
   "source": [
    "tokenizer = AutoTokenizer.from_pretrained(\"bert-base-uncased\")"
   ],
   "metadata": {
    "collapsed": false,
    "ExecuteTime": {
     "end_time": "2023-11-15T12:17:56.519547761Z",
     "start_time": "2023-11-15T12:17:55.380056422Z"
    }
   },
   "id": "3152b20c73d6c362"
  },
  {
   "cell_type": "code",
   "execution_count": 7,
   "outputs": [
    {
     "name": "stdout",
     "output_type": "stream",
     "text": [
      "loaded from cache.\n"
     ]
    }
   ],
   "source": [
    "def sg_topg(s, ge, depth=4):\n",
    "    eg = Graph()\n",
    "    eg.add((s, RDF.type, OWL.Class))\n",
    "    add_depth(s, eg, ge, depth)\n",
    "    cm, pm, fm = to_pyg(s, eg)\n",
    "    return s, cm, pm, fm\n",
    "\n",
    "\n",
    "def build_raw_ts(op, data, workers=2):\n",
    "    ge = Graph().parse(op)\n",
    "\n",
    "    res = {}\n",
    "    for k in data:\n",
    "        tn, ng = data[k]\n",
    "        res[k] = tn\n",
    "        for t in ng:\n",
    "            ge.add(t)\n",
    "\n",
    "    mc = 0\n",
    "    mp = 0\n",
    "    ifd = []\n",
    "\n",
    "    subjects = set(ge.subjects())\n",
    "\n",
    "    with Pool(workers) as p:\n",
    "        pgs = list(tqdm(p.imap(lambda x: sg_topg(x, ge, depth=4), subjects), total=len(subjects)))\n",
    "\n",
    "    for s, cm, pm, fm in pgs:\n",
    "\n",
    "        mcc = max(map(len, cm))\n",
    "        mpc = max(map(len, pm))\n",
    "        if mcc > mc:\n",
    "            mc = mcc\n",
    "        if mpc > mp:\n",
    "            mp = mpc\n",
    "\n",
    "        ifd.append((s, cm, pm, fm))\n",
    "\n",
    "    return ifd, mc, mp, res\n",
    "\n",
    "\n",
    "if os.path.exists('/projets/melodi/gsantoss/tmp/edas.pkl'):\n",
    "    with open('/projets/melodi/gsantoss/tmp/edas.pkl', 'rb') as f:\n",
    "        ifd, mc, mp, res = dill.load(f)\n",
    "        print('loaded from cache.')\n",
    "else:\n",
    "    ifd, mc, mp, res = build_raw_ts('/projets/melodi/gsantoss/data/oaei/tracks/conference/onts/edas.owl', isg['edas'],\n",
    "                                    workers=6)\n",
    "    with open('/projets/melodi/gsantoss/tmp/edas.pkl', 'wb') as f:\n",
    "        dill.dump((ifd, mc, mp, res), f)\n"
   ],
   "metadata": {
    "collapsed": false,
    "ExecuteTime": {
     "end_time": "2023-11-15T12:17:57.011529986Z",
     "start_time": "2023-11-15T12:17:56.519172614Z"
    }
   },
   "id": "a4d6089cdd39b083"
  },
  {
   "cell_type": "code",
   "execution_count": 8,
   "outputs": [],
   "source": [
    "cidata = copy.deepcopy(idata)\n",
    "del cidata['edas']"
   ],
   "metadata": {
    "collapsed": false,
    "ExecuteTime": {
     "end_time": "2023-11-15T12:17:57.064035737Z",
     "start_time": "2023-11-15T12:17:57.038410777Z"
    }
   },
   "id": "6c49b601e536da02"
  },
  {
   "cell_type": "code",
   "execution_count": 9,
   "outputs": [],
   "source": [
    "def clear_bn(ds):\n",
    "    new_dataset = []\n",
    "    for batch in ds:\n",
    "        ps = tokenizer.decode(batch.x_sf[batch.x_s][batch.rsi][0]).replace('[PAD]', '').strip()\n",
    "        if 'blank node' in ps or 'edas' in ps:\n",
    "            continue\n",
    "        \n",
    "        ns = tokenizer.decode(batch.x_nf[batch.x_n][batch.rni][0]).replace('[PAD]', '').strip()\n",
    "        \n",
    "        if 'blank node' in ns or 'edas' in ns:\n",
    "            continue\n",
    "            \n",
    "        new_dataset.append(batch)\n",
    "        \n",
    "    return new_dataset"
   ],
   "metadata": {
    "collapsed": false,
    "ExecuteTime": {
     "end_time": "2023-11-15T12:17:57.072819631Z",
     "start_time": "2023-11-15T12:17:57.038742363Z"
    }
   },
   "id": "d2e1bfcc2a268841"
  },
  {
   "cell_type": "code",
   "execution_count": 10,
   "outputs": [],
   "source": [
    "class GNN(gnn.MessagePassing):\n",
    "    def __init__(self):\n",
    "        super(GNN, self).__init__(aggr='add')\n",
    "        self.ln1 = nn.Linear(768, 768)\n",
    "        self.ln2 = nn.Linear(768, 768)\n",
    "        self.ln3 = nn.Linear(768, 768)\n",
    "        self.ln4 = nn.Linear(768, 768)\n",
    "\n",
    "\n",
    "    def forward(self, x, edge_index, edge_attr):\n",
    "        # x has shape [N, in_channels]\n",
    "        # edge_index has shape [2, E]\n",
    "        dg = degree(edge_index[1], x.shape[0])\n",
    "        dg[dg == 0] = 1\n",
    "        dg = dg.unsqueeze(-1).float()\n",
    "        o1 = self.ln1(self.propagate(edge_index, x=x)) / dg + x\n",
    "        o2 = self.ln2(self.propagate(edge_index, x=o1)) / dg + o1\n",
    "        o3 = self.ln3(self.propagate(edge_index, x=o2)) / dg + o2\n",
    "        o4 = self.ln4(self.propagate(edge_index, x=o3)) / dg + o3\n",
    "\n",
    "        return o4\n",
    "\n",
    "    def message(self, x_i, x_j):\n",
    "        # x_i has shape [E, in_channels]\n",
    "        # x_j has shape [E, in_channels]\n",
    "        return x_j\n",
    "    \n",
    "    \n",
    "    \n",
    "edge_index = torch.tensor([[0, 1],\n",
    "                           [1, 1]], dtype=torch.long)\n",
    "x = torch.tensor([[-1], [0], [1]], dtype=torch.float)\n",
    "\n",
    "data = Data(x=x, edge_index=edge_index, edge_attr=torch.ones((2, 1)))\n",
    "\n",
    "g = GNN()\n",
    "\n",
    "\n",
    "# print(g(x, edge_index, torch.ones((2, 1))))\n"
   ],
   "metadata": {
    "collapsed": false,
    "ExecuteTime": {
     "end_time": "2023-11-15T12:17:57.073107835Z",
     "start_time": "2023-11-15T12:17:57.065035359Z"
    }
   },
   "id": "4afec310e98c5e8d"
  },
  {
   "cell_type": "code",
   "execution_count": 11,
   "outputs": [],
   "source": [
    "\n",
    "    \n",
    "    \n",
    "class BertEmb(nn.Module):\n",
    "    def __init__(self):\n",
    "        super(BertEmb, self).__init__()\n",
    "        self.bert = BertModel.from_pretrained('bert-base-uncased')\n",
    "        \n",
    "        self.bert.pooler.requires_grad_(False)\n",
    "\n",
    "    def forward(self, x):\n",
    "        mask = x > 0\n",
    "        out = self.bert(input_ids=x, attention_mask=mask)['last_hidden_state']\n",
    "\n",
    "        om = mask.unsqueeze(-1).float()\n",
    "\n",
    "        mo = out * om\n",
    "        cf = om.sum(dim=1)\n",
    "        cf[cf == 0] = 1\n",
    "        return mo.sum(dim=1) / cf\n",
    "\n",
    "\n",
    "class Model(nn.Module):\n",
    "    def __init__(self):\n",
    "        super(Model, self).__init__()\n",
    "        self.emb1 = BertEmb()\n",
    "        # self.emb2 = BertEmb()\n",
    "        self.gnn = GNN()\n",
    "\n",
    "    def forward(self, cqa, x, xi, edge_index, edge_attr, edge_attr_i, nx, nxi, nedge_index, nedge_attr, nedge_attr_i):\n",
    "        cqa = self.embed_cqa(cqa)\n",
    "\n",
    "        sbg = self.embed_subg(x, xi, edge_index, edge_attr, edge_attr_i)\n",
    "        nsbg = self.embed_subg(nx, nxi, nedge_index, nedge_attr, nedge_attr_i)\n",
    "\n",
    "        return cqa, sbg, nsbg\n",
    "\n",
    "    def embed_cqa(self, x):\n",
    "        return self.emb1(x)\n",
    "\n",
    "    def embed_subg(self, x, xi, edge_index, edge_attr, edge_attr_i):\n",
    "        feats = []\n",
    "        for f in TorchDataLoader(x, batch_size=4, shuffle=False):\n",
    "            feats.append(checkpoint.checkpoint(self.emb1, f, use_reentrant=False))\n",
    "            # feats.append(self.emb(f))\n",
    "        feats = torch.cat(feats, dim=0)\n",
    "        sf = feats[xi]\n",
    "        \n",
    "        out = checkpoint.checkpoint(self.gnn, sf, edge_index, edge_attr_i, use_reentrant=False)\n",
    "        return out\n",
    "\n",
    "\n",
    "model = Model()\n",
    "device = torch.device('cuda:0')\n",
    "# model.cuda(0)"
   ],
   "metadata": {
    "collapsed": false,
    "ExecuteTime": {
     "end_time": "2023-11-15T12:17:58.362297289Z",
     "start_time": "2023-11-15T12:17:57.065886068Z"
    }
   },
   "id": "d163d47c5ef7cd04"
  },
  {
   "cell_type": "code",
   "execution_count": 12,
   "outputs": [
    {
     "name": "stdout",
     "output_type": "stream",
     "text": [
      "GraphDataBatch(rsi=[2], rpi=[2], rni=[2], cqs=[2, 429], cqp=[2, 429], cqn=[2, 429], x_s=[31], x_sf=[24, 459], x_p=[63], x_pf=[48, 459], x_n=[95], x_nf=[60, 459], edge_index_s=[2, 60], edge_index_p=[2, 168], edge_index_n=[2, 255], edge_feat_s=[60], edge_feat_sf=[16, 50], edge_feat_p=[168], edge_feat_pf=[18, 50], edge_feat_n=[255], edge_feat_nf=[22, 50])\n"
     ]
    }
   ],
   "source": [
    "\n",
    "    \n",
    "\n",
    "dataset = CQADataset()\n",
    "\n",
    "\n",
    "for batch in DataLoader(dataset, batch_size=2):\n",
    "    print(batch)\n",
    "    break"
   ],
   "metadata": {
    "collapsed": false,
    "ExecuteTime": {
     "end_time": "2023-11-15T12:18:01.312020922Z",
     "start_time": "2023-11-15T12:17:58.362101880Z"
    }
   },
   "id": "81cd16f8861a744f"
  },
  {
   "cell_type": "code",
   "execution_count": 18,
   "outputs": [
    {
     "name": "stderr",
     "output_type": "stream",
     "text": [
      "100%|██████████| 546/546 [1:14:25<00:00,  8.18s/it]\n"
     ]
    },
    {
     "data": {
      "text/plain": "<Figure size 640x480 with 2 Axes>",
      "image/png": "[encoded data removed]"
     },
     "metadata": {},
     "output_type": "display_data"
    }
   ],
   "source": [
    "def sim_loss(cq, pe, ne):\n",
    "    return torch.mean(1 - torch.cosine_similarity(cq, pe) + torch.cosine_similarity(cq, ne))\n",
    "\n",
    "def evm(model, dataset, th=0.5):\n",
    "    model.eval()\n",
    "\n",
    "    res = []\n",
    "    for batch in DataLoader(dataset, batch_size=2):\n",
    "        with torch.no_grad():\n",
    "\n",
    "            cqs = model.embed_cqa(batch.cqs.to(device))\n",
    "            sbgs = model.embed_subg(batch.x_sf.to(device), batch.x_s.to(device),\n",
    "                              batch.edge_index_s.to(device), batch.edge_feat_sf.to(device),\n",
    "                              batch.edge_feat_s.to(device))\n",
    "            \n",
    "\n",
    "\n",
    "            isbgs = sbgs[batch.rsi]\n",
    "\n",
    "            sim = torch.cosine_similarity(cqs, isbgs) > th\n",
    "            res.append(sim)\n",
    "            \n",
    "\n",
    "    res = torch.cat(res, dim=0)\n",
    "\n",
    "    return (res.sum() / res.size(0)).item()\n",
    "\n",
    "\n",
    "optimizer = optim.AdamW(model.parameters(), lr=0.00001)\n",
    "\n",
    "triplet_loss = nn.TripletMarginWithDistanceLoss(margin=0.9,\n",
    "                                                distance_function=lambda x, y: 1.0 - nn.functional.cosine_similarity(x,\n",
    "                                                                                                                     y))\n",
    "cossine_loss = nn.CosineSimilarity()\n",
    "\n",
    "lh = []\n",
    "evh = []\n",
    "epochs = 3\n",
    "batch_size = 2\n",
    "progress = None\n",
    "for e in range(epochs):\n",
    "    dataset = build_graph_dataset(tokenizer, cqas, cidata, raw_data['edas'])\n",
    "    if not progress:\n",
    "        progress = tqdm(total=epochs * math.ceil(len(dataset) / batch_size))\n",
    "    evh.append(evm(model, dataset, th=0.9))\n",
    "\n",
    "    model.train()\n",
    "    \n",
    "    el = []\n",
    "    for batch in DataLoader(dataset, batch_size=batch_size):\n",
    "        optimizer.zero_grad()\n",
    "        cqs, sbgs, nsbg = model(batch.cqs.to(device), batch.x_sf.to(device), batch.x_s.to(device),\n",
    "                          batch.edge_index_s.to(device), batch.edge_feat_sf.to(device), batch.edge_feat_s.to(device), batch.x_nf.to(device), batch.x_n.to(device),\n",
    "                           batch.edge_index_n.to(device), batch.edge_feat_nf.to(device), batch.edge_feat_n.to(device))\n",
    "        isbgs = sbgs[batch.rsi.to(device)]\n",
    "        isbgn = nsbg[batch.rni.to(device)]\n",
    "\n",
    "        loss = sim_loss(cqs, isbgs, isbgn)\n",
    "\n",
    "        el.append(loss.item())\n",
    "        loss.backward()\n",
    "\n",
    "        optimizer.step()\n",
    "        progress.update(1)\n",
    "\n",
    "    lh.append(sum(el) / len(el))\n",
    "\n",
    "\n",
    "evh.append(evm(model, dataset, th=0.9))\n",
    "\n",
    "progress.close()\n",
    "fig, ax = plt.subplots(1, 2)\n",
    "fig.tight_layout()\n",
    "ax[0].plot(lh)\n",
    "ax[1].plot(evh)\n",
    "plt.show()"
   ],
   "metadata": {
    "collapsed": false,
    "ExecuteTime": {
     "end_time": "2023-11-14T18:57:46.870997635Z",
     "start_time": "2023-11-14T17:43:18.678475012Z"
    }
   },
   "id": "9300e37871cadd48"
  },
  {
   "cell_type": "code",
   "execution_count": 13,
   "outputs": [],
   "source": [
    "dataset = build_graph_dataset(tokenizer, cqas, cidata, raw_data['edas'])\n",
    "dataset = clear_bn(dataset)"
   ],
   "metadata": {
    "collapsed": false,
    "ExecuteTime": {
     "end_time": "2023-11-14T01:13:27.038695575Z",
     "start_time": "2023-11-14T01:13:23.704440930Z"
    }
   },
   "id": "9aea9385c4b22cf2"
  },
  {
   "cell_type": "code",
   "execution_count": 31,
   "outputs": [],
   "source": [
    "model = Model()\n",
    "device = torch.device('cuda:0')\n",
    "model.cuda(0)\n",
    "\n",
    "optimizer = optim.AdamW(model.parameters(), lr=0.00001)\n",
    "\n",
    "triplet_loss = nn.TripletMarginWithDistanceLoss(margin=0.9,\n",
    "                                                distance_function=lambda x, y: 1.0 - nn.functional.cosine_similarity(x,\n",
    "                                                                                                                     y))"
   ],
   "metadata": {
    "collapsed": false,
    "ExecuteTime": {
     "end_time": "2023-11-05T11:30:02.860580643Z",
     "start_time": "2023-11-05T11:30:00.190117002Z"
    }
   },
   "id": "3168f1d34254b3ec"
  },
  {
   "cell_type": "code",
   "execution_count": 12,
   "outputs": [
    {
     "name": "stdout",
     "output_type": "stream",
     "text": [
      "cqa====================\n",
      "[CLS] select distinct? s where {? s < http : / / www. w3. org / 1999 / 02 / 22 - rdf - syntax - ns # type > < http : / / cmt # externalreviewer >. } [SEP]\n",
      "[CLS] select distinct? s where {? s < http : / / www. w3. org / 1999 / 02 / 22 - rdf - syntax - ns # type > < http : / / cmt # author >. } [SEP]\n",
      "pos====================\n",
      "[CLS] http : / / cmt # externalreviewer [SEP]\n",
      "[CLS] http : / / cmt # author [SEP]\n",
      "neg====================\n",
      "[CLS] http : / / confof # university [SEP]\n",
      "[CLS] http : / / confof # banquet [SEP]\n",
      "sim====================\n",
      "tensor([0.5125, 0.8305], device='cuda:0', grad_fn=<SumBackward1>) tensor([0.1026, 0.0832], device='cuda:0', grad_fn=<SumBackward1>)\n",
      "tensor(0.3214, device='cuda:0', grad_fn=<MeanBackward0>)\n",
      "tensor(0.4214, device='cuda:0', grad_fn=<MeanBackward0>)\n"
     ]
    },
    {
     "ename": "Exception",
     "evalue": "hue",
     "output_type": "error",
     "traceback": [
      "\u001B[0;31m---------------------------------------------------------------------------\u001B[0m",
      "\u001B[0;31mException\u001B[0m                                 Traceback (most recent call last)",
      "Cell \u001B[0;32mIn[12], line 40\u001B[0m\n\u001B[1;32m     23\u001B[0m \u001B[38;5;28mprint\u001B[39m(sl)\n\u001B[1;32m     25\u001B[0m \u001B[38;5;66;03m# optimizer.step()\u001B[39;00m\n\u001B[1;32m     26\u001B[0m \u001B[38;5;66;03m# \u001B[39;00m\n\u001B[1;32m     27\u001B[0m \u001B[38;5;66;03m# cqs, sbgs, nsbg = model(batch.cqs.to(device), batch.x_sf.to(device), batch.x_s.to(device),\u001B[39;00m\n\u001B[0;32m   (...)\u001B[0m\n\u001B[1;32m     36\u001B[0m \u001B[38;5;66;03m# sl = sim_loss(cqs, isbgs, isbgn)\u001B[39;00m\n\u001B[1;32m     37\u001B[0m \u001B[38;5;66;03m# print(sl)\u001B[39;00m\n\u001B[0;32m---> 40\u001B[0m \u001B[38;5;28;01mraise\u001B[39;00m \u001B[38;5;167;01mException\u001B[39;00m(\u001B[38;5;124m'\u001B[39m\u001B[38;5;124mhue\u001B[39m\u001B[38;5;124m'\u001B[39m)\n",
      "\u001B[0;31mException\u001B[0m: hue"
     ]
    }
   ],
   "source": [
    "for batch in DataLoader(dataset, batch_size=2):\n",
    "    cqs, sbgs, nsbg = model(batch.cqs.to(device), batch.x_sf.to(device), batch.x_s.to(device),\n",
    "          batch.edge_index_s.to(device), batch.edge_feat_sf.to(device), batch.edge_feat_s.to(device), batch.x_nf.to(device), batch.x_n.to(device),\n",
    "           batch.edge_index_n.to(device), batch.edge_feat_nf.to(device), batch.edge_feat_n.to(device))\n",
    "    isbgs = sbgs[batch.rsi.to(device)]\n",
    "    isbgn = nsbg[batch.rni]\n",
    "    \n",
    "    print('cqa' + '=' * 20)\n",
    "    print(tokenizer.decode(batch.cqs[0]).replace('[PAD]', '').strip())\n",
    "    print(tokenizer.decode(batch.cqs[1]).replace('[PAD]', '').strip())\n",
    "    print('pos' + '=' * 20)\n",
    "    print(tokenizer.decode(batch.x_sf[batch.x_s][batch.rsi][0]).replace('[PAD]', '').strip())\n",
    "    print(tokenizer.decode(batch.x_sf[batch.x_s][batch.rsi][1]).replace('[PAD]', '').strip())\n",
    "    print('neg' + '=' * 20)\n",
    "    print(tokenizer.decode(batch.x_nf[batch.x_n][batch.rni][0]).replace('[PAD]', '').strip())\n",
    "    print(tokenizer.decode(batch.x_nf[batch.x_n][batch.rni][1]).replace('[PAD]', '').strip())\n",
    "    print('sim' + '=' * 20)\n",
    "    print(torch.cosine_similarity(cqs, isbgs), torch.cosine_similarity(cqs, isbgn))\n",
    "    tl = triplet_loss(cqs, isbgs, isbgn)\n",
    "    print(tl)\n",
    "    sl = sim_loss(cqs, isbgs, isbgn)\n",
    "    # sl.backward()\n",
    "    print(sl)\n",
    "    \n",
    "    # optimizer.step()\n",
    "    # \n",
    "    # cqs, sbgs, nsbg = model(batch.cqs.to(device), batch.x_sf.to(device), batch.x_s.to(device),\n",
    "    #       batch.edge_index_s.to(device), batch.edge_feat_sf.to(device), batch.edge_feat_s.to(device), batch.x_nf.to(device), batch.x_n.to(device),\n",
    "    #        batch.edge_index_n.to(device), batch.edge_feat_nf.to(device), batch.edge_feat_n.to(device))\n",
    "    # isbgs = sbgs[batch.rsi.to(device)]\n",
    "    # isbgn = nsbg[batch.rni]\n",
    "    # \n",
    "    # print(torch.cosine_similarity(cqs, isbgs), torch.cosine_similarity(cqs, isbgn))\n",
    "    # tl = triplet_loss(cqs, isbgs, isbgn)\n",
    "    # print(tl)\n",
    "    # sl = sim_loss(cqs, isbgs, isbgn)\n",
    "    # print(sl)\n",
    "    \n",
    "    \n",
    "    raise Exception('hue')"
   ],
   "metadata": {
    "collapsed": false,
    "ExecuteTime": {
     "end_time": "2023-11-05T11:49:42.295740464Z",
     "start_time": "2023-11-05T11:49:39.916383916Z"
    }
   },
   "id": "a11c747d076b0f63"
  },
  {
   "cell_type": "code",
   "execution_count": 19,
   "outputs": [
    {
     "name": "stderr",
     "output_type": "stream",
     "text": [
      "100%|██████████| 524/524 [00:02<00:00, 214.01it/s]\n",
      "100%|██████████| 262/262 [02:44<00:00,  1.59it/s]\n"
     ]
    }
   ],
   "source": [
    "class IData(Data):\n",
    "    def __inc__(self, key, value, *args, **kwargs):\n",
    "        if key == 'rsi':\n",
    "            return self.x_s.size(0)\n",
    "\n",
    "        if key == 'x_s':\n",
    "            return self.x_sf.size(0)\n",
    "\n",
    "        if key == 'edge_index_s':\n",
    "            return self.x_s.size(0)\n",
    "\n",
    "        if key == 'edge_feat_s':\n",
    "            return self.edge_feat_sf.size(0)\n",
    "\n",
    "        return super().__inc__(key, value, *args, **kwargs)\n",
    "\n",
    "\n",
    "def embed_subg(model, ifd, tokenizer, mc, mp):\n",
    "    model.eval()\n",
    "    ts = []\n",
    "    graph_data = []\n",
    "    ai = 0\n",
    "    for s, cm, pm, fm in tqdm(ifd):\n",
    "\n",
    "        pd1, pdi1 = pad_entities(tokenizer, cm, mc)\n",
    "\n",
    "        pd3, pdi3 = pad_entities(tokenizer, pm, mp)\n",
    "\n",
    "        edge1 = torch.LongTensor(fm)\n",
    "\n",
    "        ts.append(s)\n",
    "        graph_data.append(IData(\n",
    "            rsi=torch.LongTensor([0]),\n",
    "\n",
    "            x_s=pdi1.long(),\n",
    "            x_sf=pd1.long(),\n",
    "\n",
    "            edge_index_s=edge1.long(),\n",
    "\n",
    "            edge_feat_s=pdi3,\n",
    "            edge_feat_sf=pd3,\n",
    "\n",
    "        ))\n",
    "\n",
    "        ai += 1\n",
    "\n",
    "    fe = []\n",
    "    for batch in tqdm(DataLoader(graph_data, batch_size=2, shuffle=False)):\n",
    "        with torch.no_grad():\n",
    "            out = model.embed_subg(batch.x_sf.cuda(0), batch.x_s.cuda(0), batch.edge_index_s.cuda(0),\n",
    "                                   batch.edge_feat_sf.cuda(0), batch.edge_feat_s.cuda(0))\n",
    "            fe.append(out[batch.rsi])\n",
    "\n",
    "    fe = torch.cat(fe, dim=0)\n",
    "\n",
    "    return ts, fe\n",
    "\n",
    "\n",
    "model.eval()\n",
    "model.cuda(0)\n",
    "root_entities, graph_embeddings = embed_subg(model, ifd, tokenizer, mc, mp)"
   ],
   "metadata": {
    "collapsed": false,
    "ExecuteTime": {
     "end_time": "2023-11-14T19:01:27.554896570Z",
     "start_time": "2023-11-14T18:58:40.229041186Z"
    }
   },
   "id": "d1228e4163fe8c56"
  },
  {
   "cell_type": "code",
   "execution_count": 20,
   "outputs": [],
   "source": [
    "def embed_cqas(model, data, tokenizer):\n",
    "    model.eval()\n",
    "    cq = []\n",
    "    cqi = []\n",
    "    ai = 0\n",
    "    for k in data:\n",
    "        cq.append(k)\n",
    "        cqi.append(data[k])\n",
    "        ai += 1\n",
    "\n",
    "    cqid = tokenizer(cqi, return_tensors='pt', padding=True)['input_ids']\n",
    "\n",
    "    cqeb = []\n",
    "\n",
    "    for c in DataLoader(cqid, batch_size=2, shuffle=False):\n",
    "        with torch.no_grad():\n",
    "            out = model.embed_cqa(c.cuda(0))\n",
    "            cqeb.append(out)\n",
    "\n",
    "    cqeb = torch.cat(cqeb, dim=0)\n",
    "    return cq, cqeb\n",
    "\n",
    "\n",
    "model.eval()\n",
    "cq, cqeb = embed_cqas(model, cqas['edas'], tokenizer)"
   ],
   "metadata": {
    "collapsed": false,
    "ExecuteTime": {
     "end_time": "2023-11-14T19:01:27.880595060Z",
     "start_time": "2023-11-14T19:01:27.562435106Z"
    }
   },
   "id": "f346c0e3cf3960ab"
  },
  {
   "cell_type": "code",
   "execution_count": 21,
   "outputs": [
    {
     "data": {
      "text/plain": "<Figure size 640x480 with 1 Axes>",
      "image/png": "[encoded data removed]"
     },
     "metadata": {},
     "output_type": "display_data"
    },
    {
     "name": "stdout",
     "output_type": "stream",
     "text": [
      "best threshold: 0.95\n",
      "avgp: 0.00, rec: 1.00, afm: 0.00\n"
     ]
    }
   ],
   "source": [
    "def eval_metrics(cqa_list, cqa_embeddings, fe, ts, res, th=0.8):\n",
    "    metrics = []\n",
    "\n",
    "    for cqa_name, e in zip(cqa_list, cqa_embeddings):\n",
    "\n",
    "        sim = torch.cosine_similarity(e.unsqueeze(0), fe, dim=1)\n",
    "        resid = torch.where(sim > th)[0].tolist()\n",
    "        rs = set()\n",
    "        for r in resid:\n",
    "            rs.add(ts[r])\n",
    "\n",
    "        metrics.append((1 if res[cqa_name] in rs else 0, len(rs)))\n",
    "\n",
    "    avgp = sum([1 / m[1] if m[1] > 0 else 0 for m in metrics]) / len(metrics)\n",
    "    rc = sum([m[0] for m in metrics]) / len(metrics)\n",
    "    fm = 2 * rc * avgp / (rc + avgp) if rc + avgp > 0 else 0\n",
    "    return avgp, rc, fm\n",
    "\n",
    "\n",
    "avgps = []\n",
    "rcs = []\n",
    "fms = []\n",
    "\n",
    "for t in torch.arange(0, 1, 0.05):\n",
    "    avgp, rc, fm = eval_metrics(cq, cqeb, graph_embeddings, root_entities, res, th=t)\n",
    "    avgps.append(avgp)\n",
    "    rcs.append(rc)\n",
    "    fms.append(fm)\n",
    "\n",
    "# avgp, rc, fm = eval_metrics(cq, cqeb, graph_embeddings, root_entities, res, th=0.70)\n",
    "\n",
    "plt.plot(avgps, label='avgp')\n",
    "plt.plot(rcs, label='rc')\n",
    "plt.plot(fms, label='fm')\n",
    "plt.legend()\n",
    "# verical line on max fm\n",
    "bv = torch.tensor(fms).argmax().item()\n",
    "plt.axvline(x=bv, color='black', linestyle='--')\n",
    "\n",
    "plt.show()\n",
    "\n",
    "print(f'best threshold: {bv * 0.05:.2f}')\n",
    "print(f'avgp: {avgps[bv]:.2f}, rec: {rcs[bv]:.2f}, afm: {fms[bv]:.2f}')"
   ],
   "metadata": {
    "collapsed": false,
    "ExecuteTime": {
     "end_time": "2023-11-14T19:01:28.329372349Z",
     "start_time": "2023-11-14T19:01:27.885370817Z"
    }
   },
   "id": "46fb604297f890e7"
  },
  {
   "cell_type": "code",
   "execution_count": 68,
   "outputs": [],
   "source": [],
   "metadata": {
    "collapsed": false,
    "ExecuteTime": {
     "end_time": "2023-10-30T09:41:41.977928615Z",
     "start_time": "2023-10-30T09:41:40.523286012Z"
    }
   },
   "id": "6d86ea77b479265f"
  }
 ],
 "metadata": {
  "kernelspec": {
   "name": "myenv",
   "language": "python",
   "display_name": "myenv"
  },
  "language_info": {
   "codemirror_mode": {
    "name": "ipython",
    "version": 2
   },
   "file_extension": ".py",
   "mimetype": "text/x-python",
   "name": "python",
   "nbconvert_exporter": "python",
   "pygments_lexer": "ipython2",
   "version": "2.7.6"
  }
 },
 "nbformat": 4,
 "nbformat_minor": 5
}
