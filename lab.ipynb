{
 "cells": [
  {
   "cell_type": "code",
   "execution_count": 1,
   "id": "initial_id",
   "metadata": {
    "collapsed": true,
    "ExecuteTime": {
     "end_time": "2023-11-16T21:10:19.501054045Z",
     "start_time": "2023-11-16T21:09:36.873089799Z"
    }
   },
   "outputs": [],
   "source": [
    "from rdflib import Graph\n",
    "from rdflib.namespace import RDF, OWL\n",
    "from rdflib.term import BNode\n",
    "from cmatcher.owl_utils import load_entities, load_cqas, load_sg, add_depth, to_pyg\n",
    "from tqdm.auto import tqdm\n",
    "from torch.utils.data import DataLoader as TorchDataLoader\n",
    "from torch_geometric.data import Data, Dataset\n",
    "from torch_geometric.utils import degree\n",
    "from torch_geometric.loader import DataLoader\n",
    "from cmatcher.cqa_search import build_raw_data, build_graph_dataset, pad_seq, pad_entities, CQADataset\n",
    "from torch_geometric.nn import MessagePassing\n",
    "from multiprocessing_on_dill import Pool\n",
    "from transformers import AutoTokenizer, BertModel, DistilBertModel\n",
    "import torch.utils.checkpoint as checkpoint\n",
    "import dill\n",
    "import os\n",
    "import torch\n",
    "import torch.nn as nn\n",
    "import torch.optim as optim\n",
    "import matplotlib.pyplot as plt\n",
    "import math\n",
    "import time\n",
    "import copy\n",
    "import torch_geometric.nn as gnn\n",
    "from torch_scatter import scatter_sum\n",
    "from accelerate import Accelerator, notebook_launcher\n",
    "import random\n",
    "\n",
    "torch.manual_seed(0)\n",
    "random.seed(0)"
   ]
  },
  {
   "cell_type": "code",
   "execution_count": 2,
   "outputs": [],
   "source": [
    "os.environ[\"TOKENIZERS_PARALLELISM\"] = \"false\""
   ],
   "metadata": {
    "collapsed": false,
    "ExecuteTime": {
     "end_time": "2023-11-16T21:10:19.506454653Z",
     "start_time": "2023-11-16T21:10:19.502239232Z"
    }
   },
   "id": "1dde3c07b5aa97ed"
  },
  {
   "cell_type": "code",
   "execution_count": 3,
   "outputs": [],
   "source": [
    "paths = {\n",
    "    'edas.owl': '/projets/melodi/gsantoss/data/oaei/tracks/conference/onts/edas.owl',\n",
    "    'ekaw.owl': '/projets/melodi/gsantoss/data/oaei/tracks/conference/onts/ekaw.owl',\n",
    "    'confOf.owl': '/projets/melodi/gsantoss/data/oaei/tracks/conference/onts/confOf.owl',\n",
    "    'conference.owl': '/projets/melodi/gsantoss/data/oaei/tracks/conference/onts/Conference.owl',\n",
    "    'cmt.owl': '/projets/melodi/gsantoss/data/oaei/tracks/conference/onts/cmt.owl',\n",
    "}\n",
    "\n",
    "cqa_path = '/projets/melodi/gsantoss/data/complex/CQAs'\n",
    "entities_path = '/projets/melodi/gsantoss/data/complex/entities-cqas'"
   ],
   "metadata": {
    "collapsed": false,
    "ExecuteTime": {
     "end_time": "2023-11-16T21:10:19.591943865Z",
     "start_time": "2023-11-16T21:10:19.505809203Z"
    }
   },
   "id": "973951f08328093b"
  },
  {
   "cell_type": "code",
   "execution_count": 4,
   "outputs": [
    {
     "data": {
      "text/plain": "  0%|          | 0/101 [00:00<?, ?it/s]",
      "application/vnd.jupyter.widget-view+json": {
       "version_major": 2,
       "version_minor": 0,
       "model_id": "ee8d9c8560ee4592ace0b8c062ea8be7"
      }
     },
     "metadata": {},
     "output_type": "display_data"
    },
    {
     "data": {
      "text/plain": "  0%|          | 0/101 [00:00<?, ?it/s]",
      "application/vnd.jupyter.widget-view+json": {
       "version_major": 2,
       "version_minor": 0,
       "model_id": "6d38b812c85b4ba7a5894da8931dcbd3"
      }
     },
     "metadata": {},
     "output_type": "display_data"
    },
    {
     "data": {
      "text/plain": "  0%|          | 0/101 [00:00<?, ?it/s]",
      "application/vnd.jupyter.widget-view+json": {
       "version_major": 2,
       "version_minor": 0,
       "model_id": "9460588e4b26435c87fc13bd9d9d62dc"
      }
     },
     "metadata": {},
     "output_type": "display_data"
    }
   ],
   "source": [
    "\n",
    "idata = load_entities(entities_path, paths)\n",
    "isg = load_sg(entities_path, paths)\n",
    "\n",
    "cqas = load_cqas(cqa_path)\n",
    "raw_data = build_raw_data(idata, cqas)\n"
   ],
   "metadata": {
    "collapsed": false,
    "ExecuteTime": {
     "end_time": "2023-11-16T21:10:58.306754207Z",
     "start_time": "2023-11-16T21:10:19.592333651Z"
    }
   },
   "id": "a2d90c9c05a990a6"
  },
  {
   "cell_type": "code",
   "execution_count": 5,
   "outputs": [],
   "source": [
    "tokenizer = AutoTokenizer.from_pretrained(\"bert-base-uncased\")"
   ],
   "metadata": {
    "collapsed": false,
    "ExecuteTime": {
     "end_time": "2023-11-16T21:10:58.860112044Z",
     "start_time": "2023-11-16T21:10:58.309304324Z"
    }
   },
   "id": "3152b20c73d6c362"
  },
  {
   "cell_type": "code",
   "execution_count": 6,
   "outputs": [
    {
     "name": "stdout",
     "output_type": "stream",
     "text": [
      "loaded from cache.\n"
     ]
    }
   ],
   "source": [
    "def sg_topg(s, ge, depth=4):\n",
    "    eg = Graph()\n",
    "    eg.add((s, RDF.type, OWL.Class))\n",
    "    add_depth(s, eg, ge, depth)\n",
    "    cm, pm, fm = to_pyg(s, eg)\n",
    "    return s, cm, pm, fm\n",
    "\n",
    "\n",
    "def build_raw_ts(op, data, workers=2):\n",
    "    ge = Graph().parse(op)\n",
    "\n",
    "    res = {}\n",
    "    for k in data:\n",
    "        tn, ng = data[k]\n",
    "        res[k] = tn\n",
    "        for t in ng:\n",
    "            ge.add(t)\n",
    "\n",
    "    mc = 0\n",
    "    mp = 0\n",
    "    ifd = []\n",
    "\n",
    "    subjects = set(ge.subjects())\n",
    "\n",
    "    with Pool(workers) as p:\n",
    "        pgs = list(tqdm(p.imap(lambda x: sg_topg(x, ge, depth=4), subjects), total=len(subjects)))\n",
    "\n",
    "    for s, cm, pm, fm in pgs:\n",
    "\n",
    "        mcc = max(map(len, cm))\n",
    "        mpc = max(map(len, pm))\n",
    "        if mcc > mc:\n",
    "            mc = mcc\n",
    "        if mpc > mp:\n",
    "            mp = mpc\n",
    "\n",
    "        ifd.append((s, cm, pm, fm))\n",
    "\n",
    "    return ifd, mc, mp, res\n",
    "\n",
    "\n",
    "if os.path.exists('/projets/melodi/gsantoss/tmp/edas.pkl'):\n",
    "    with open('/projets/melodi/gsantoss/tmp/edas.pkl', 'rb') as f:\n",
    "        ifd, mc, mp, res = dill.load(f)\n",
    "        print('loaded from cache.')\n",
    "else:\n",
    "    ifd, mc, mp, res = build_raw_ts('/projets/melodi/gsantoss/data/oaei/tracks/conference/onts/edas.owl', isg['edas'],\n",
    "                                    workers=6)\n",
    "    with open('/projets/melodi/gsantoss/tmp/edas.pkl', 'wb') as f:\n",
    "        dill.dump((ifd, mc, mp, res), f)\n"
   ],
   "metadata": {
    "collapsed": false,
    "ExecuteTime": {
     "end_time": "2023-11-16T21:10:59.167041237Z",
     "start_time": "2023-11-16T21:10:58.864777124Z"
    }
   },
   "id": "a4d6089cdd39b083"
  },
  {
   "cell_type": "code",
   "execution_count": 7,
   "outputs": [],
   "source": [
    "cidata = copy.deepcopy(idata)\n",
    "del cidata['edas']"
   ],
   "metadata": {
    "collapsed": false,
    "ExecuteTime": {
     "end_time": "2023-11-16T21:10:59.219918657Z",
     "start_time": "2023-11-16T21:10:59.217151979Z"
    }
   },
   "id": "6c49b601e536da02"
  },
  {
   "cell_type": "code",
   "execution_count": 8,
   "outputs": [],
   "source": [
    "def clear_bn(ds):\n",
    "    new_dataset = []\n",
    "    for batch in ds:\n",
    "        ps = tokenizer.decode(batch.x_sf[batch.x_s][batch.rsi][0]).replace('[PAD]', '').strip()\n",
    "        if 'blank node' in ps or 'edas' in ps:\n",
    "            continue\n",
    "        \n",
    "        ns = tokenizer.decode(batch.x_nf[batch.x_n][batch.rni][0]).replace('[PAD]', '').strip()\n",
    "        \n",
    "        if 'blank node' in ns or 'edas' in ns:\n",
    "            continue\n",
    "            \n",
    "        new_dataset.append(batch)\n",
    "        \n",
    "    return new_dataset"
   ],
   "metadata": {
    "collapsed": false,
    "ExecuteTime": {
     "end_time": "2023-11-16T21:10:59.230184377Z",
     "start_time": "2023-11-16T21:10:59.221581632Z"
    }
   },
   "id": "d2e1bfcc2a268841"
  },
  {
   "cell_type": "code",
   "execution_count": 9,
   "outputs": [],
   "source": [
    "dataset = CQADataset(tokenizer, cidata, raw_data['edas'])\n"
   ],
   "metadata": {
    "collapsed": false,
    "ExecuteTime": {
     "end_time": "2023-11-16T21:11:01.030690485Z",
     "start_time": "2023-11-16T21:10:59.225187076Z"
    }
   },
   "id": "23473409cf02c084"
  },
  {
   "cell_type": "code",
   "execution_count": 74,
   "outputs": [
    {
     "name": "stdout",
     "output_type": "stream",
     "text": [
      "torch.Size([70, 768])\n"
     ]
    }
   ],
   "source": [
    "\n",
    "class GNNL(gnn.MessagePassing):\n",
    "    def __init__(self, d_model, num_heads, drop=0.1):\n",
    "        super(GNNL, self).__init__(aggr='add')\n",
    "        self.d_model = d_model\n",
    "        self.num_heads = num_heads\n",
    "        \n",
    "        self.ck = nn.Linear(2 * d_model, d_model)\n",
    "        \n",
    "        self.qw = nn.Linear(d_model, d_model)\n",
    "        self.vw = nn.Linear(d_model, d_model)\n",
    "\n",
    "        self.aw = nn.Sequential(\n",
    "            nn.LeakyReLU(0.2),\n",
    "            nn.Linear(num_heads, num_heads)\n",
    "        )\n",
    "\n",
    "        self.drop = nn.Dropout(drop)\n",
    "\n",
    "        self.cw = nn.Linear(d_model, d_model)\n",
    "\n",
    "        self.lx = nn.Linear(d_model, d_model)\n",
    "        \n",
    "        self.la = nn.Sequential(\n",
    "            nn.Linear(2 * d_model, d_model),\n",
    "            nn.LeakyReLU(0.2),\n",
    "            nn.Linear(d_model, 2),\n",
    "            nn.Softmax(dim=1),\n",
    "            nn.Dropout(drop)\n",
    "        )\n",
    "\n",
    "\n",
    "    def forward(self, x, edge_index, edge_attr):\n",
    "        \n",
    "        q = self.qw(x[edge_index[1]])\n",
    "        k = self.ck(torch.cat([edge_attr, x[edge_index[0]]], dim=1))\n",
    "        \n",
    "        attention = self._attention(q, k, edge_index).unsqueeze(-1)\n",
    "        \n",
    "        h = self.propagate(edge_index, x=x, edge_attr=edge_attr, attention=attention)\n",
    "        \n",
    "        lx = self.lx(x)\n",
    "        \n",
    "        la = self.la(torch.cat([lx, h], dim=1))\n",
    "        \n",
    "        return x * la[:, 0].unsqueeze(-1) + h * la[:, 1].unsqueeze(-1)\n",
    "    \n",
    "    def _attention(self, q, k, ei):\n",
    "        \n",
    "        wq = self._reshape_mh(q)\n",
    "        wk = self._reshape_mh(k)\n",
    "        \n",
    "        aw = torch.einsum('bhd,bhq->bh', wq, wk) / math.sqrt(self.d_model)\n",
    "        a = torch.exp(self.aw(aw))\n",
    "        \n",
    "        sc = scatter_sum(a, ei[1], dim=0, dim_size=q.shape[0])\n",
    "        \n",
    "        ad = sc[ei[1]]\n",
    "        ad[ad == 0] = 1\n",
    "        \n",
    "        return self.drop(a / ad)\n",
    "\n",
    "\n",
    "    def message(self, x_i, x_j, edge_attr, attention):\n",
    "        \n",
    "        v = self.vw(x_j)\n",
    "\n",
    "        wv = self._reshape_mh(v)\n",
    "    \n",
    "        fw = attention * wv\n",
    "        \n",
    "        return self.cw(self._reshape_out(fw))\n",
    "    \n",
    "    \n",
    "    def _reshape_mh(self, x):\n",
    "        return x.view(x.shape[0], self.num_heads, -1)\n",
    "\n",
    "    def _reshape_out(self, x):\n",
    "        return x.reshape(x.shape[0], self.d_model)\n",
    "    \n",
    "    \n",
    "    \n",
    "class GNN(nn.Module):\n",
    "    def __init__(self, d_model, num_heads, drop=0.1, d=3):\n",
    "        super(GNN, self).__init__()\n",
    "        self.gnns = nn.ModuleList([GNNL(d_model, num_heads, drop) for _ in range(d)])\n",
    "\n",
    "    def forward(self, x, edge_index, edge_attr):\n",
    "        for g in self.gnns:\n",
    "            x = g(x, edge_index, edge_attr)\n",
    "        return x\n",
    "    \n",
    "    \n",
    "edge_index = torch.tensor([[0, 1, 2],\n",
    "                           [1, 1, 1]], dtype=torch.long)\n",
    "x = torch.tensor([[-1], [0.5], [-1]], dtype=torch.float)\n",
    "\n",
    "#torch.Size([70, 768]) torch.Size([2, 195]) torch.Size([195, 768])\n",
    "data = Data(x=x, edge_index=edge_index, edge_attr=torch.ones((2, 1)))\n",
    "\n",
    "g = GNNL(768, 4)\n",
    "\n",
    "out = g(torch.randn(70, 768), torch.randint(0, 70, (2, 195)), torch.randn(195, 768))\n",
    "# out = g(x, edge_index, torch.ones((2, 1)))\n",
    "# print(out)\n",
    "print(out.shape)\n"
   ],
   "metadata": {
    "collapsed": false,
    "ExecuteTime": {
     "end_time": "2023-11-16T23:50:19.686023373Z",
     "start_time": "2023-11-16T23:50:19.597306716Z"
    }
   },
   "id": "4afec310e98c5e8d"
  },
  {
   "cell_type": "code",
   "execution_count": 77,
   "outputs": [],
   "source": [
    "\n",
    "    \n",
    "    \n",
    "class BertEmb(nn.Module):\n",
    "    def __init__(self):\n",
    "        super(BertEmb, self).__init__()\n",
    "        self.bert = BertModel.from_pretrained('bert-base-uncased')\n",
    "        \n",
    "        self.bert.pooler.requires_grad_(False)\n",
    "\n",
    "    def forward(self, x):\n",
    "        mask = x > 0\n",
    "        out = self.bert(input_ids=x, attention_mask=mask)['last_hidden_state']\n",
    "\n",
    "        om = mask.unsqueeze(-1).float()\n",
    "\n",
    "        mo = out * om\n",
    "        cf = om.sum(dim=1)\n",
    "        cf[cf == 0] = 1\n",
    "        return mo.sum(dim=1) / cf\n",
    "\n",
    "\n",
    "class Model(nn.Module):\n",
    "    def __init__(self):\n",
    "        super(Model, self).__init__()\n",
    "        self.emb1 = BertEmb()\n",
    "        self.gnn = GNN(768, 4, d=3)\n",
    "\n",
    "\n",
    "    def forward(self, cqa, x, xi, edge_index, edge_attr, edge_attr_i, nx, nxi, nedge_index, nedge_attr, nedge_attr_i, embed_negative=True):\n",
    "        cqa = self.embed_cqa(cqa)\n",
    "\n",
    "        sbg = self.embed_subg(x, xi, edge_index, edge_attr, edge_attr_i)\n",
    "        nsbg = None\n",
    "        if embed_negative:\n",
    "            nsbg = self.embed_subg(nx, nxi, nedge_index, nedge_attr, nedge_attr_i)\n",
    "\n",
    "        return cqa, sbg, nsbg\n",
    "\n",
    "    def embed_cqa(self, x):\n",
    "        return self.emb1(x)\n",
    "\n",
    "    def embed_subg(self, x, xi, edge_index, edge_attr, edge_attr_i):\n",
    "        feats = []\n",
    "        for f in TorchDataLoader(x, batch_size=4, shuffle=False):\n",
    "            feats.append(checkpoint.checkpoint(self.emb1, f, use_reentrant=False))\n",
    "        feats = torch.cat(feats, dim=0)\n",
    "        sf = feats[xi]\n",
    "        \n",
    "        props = []\n",
    "        for f in TorchDataLoader(edge_attr, batch_size=4, shuffle=False):\n",
    "            props.append(checkpoint.checkpoint(self.emb1, f, use_reentrant=False))\n",
    "        props = torch.cat(props, dim=0)\n",
    "        edge_attr_sf = props[edge_attr_i]\n",
    "        \n",
    "        out = checkpoint.checkpoint(self.gnn, sf, edge_index, edge_attr_sf, use_reentrant=False)\n",
    "        return out\n",
    "\n",
    "\n",
    "model = Model()\n",
    "device = torch.device('cuda:0')\n",
    "# model.cuda(0)"
   ],
   "metadata": {
    "collapsed": false,
    "ExecuteTime": {
     "end_time": "2023-11-16T23:51:21.205713491Z",
     "start_time": "2023-11-16T23:51:19.867281763Z"
    }
   },
   "id": "d163d47c5ef7cd04"
  },
  {
   "cell_type": "code",
   "execution_count": 22,
   "outputs": [
    {
     "name": "stdout",
     "output_type": "stream",
     "text": [
      "GraphDataBatch(rsi=[1], rni=[1], cqs=[1, 429], x_s=[70], x_sf=[44, 459], x_n=[56], x_nf=[33, 459], edge_index_s=[2, 195], edge_index_n=[2, 186], edge_feat_s=[195], edge_feat_sf=[12, 50], edge_feat_n=[186], edge_feat_nf=[13, 50])\n",
      "torch.Size([70, 768]) torch.Size([2, 195]) torch.Size([195, 768])\n",
      "torch.Size([195, 768])\n",
      "torch.Size([195, 768])\n",
      "torch.Size([195, 768])\n",
      "torch.Size([70, 768])\n"
     ]
    }
   ],
   "source": [
    "model = Model()\n",
    "\n",
    "\n",
    "for batch in DataLoader(dataset, batch_size=1):\n",
    "    # cqs, sbgs, _ = model(batch.cqs, batch.x_sf, batch.x_s,\n",
    "    #               batch.edge_index_s, batch.edge_feat_sf, batch.edge_feat_s, None, None,\n",
    "    #                None, None, None, embed_negative=False)\n",
    "    print(batch)\n",
    "    cqs, sbgs, _ = model(batch.cqs, batch.x_sf, batch.x_s,\n",
    "                      batch.edge_index_s, batch.edge_feat_sf, batch.edge_feat_s, None, None,\n",
    "                       None, None, None, embed_negative=False)\n",
    "    print(sbgs.shape)\n",
    "    break"
   ],
   "metadata": {
    "collapsed": false,
    "ExecuteTime": {
     "end_time": "2023-11-16T21:29:20.395445975Z",
     "start_time": "2023-11-16T21:29:02.211399466Z"
    }
   },
   "id": "b34f0414ebd00ba5"
  },
  {
   "cell_type": "code",
   "execution_count": 78,
   "outputs": [
    {
     "name": "stdout",
     "output_type": "stream",
     "text": [
      "Launching training on 2 GPUs.\n"
     ]
    },
    {
     "name": "stderr",
     "output_type": "stream",
     "text": [
      "Detected kernel version 3.10.0, which is below the recommended minimum of 5.5.0; this can cause the process to hang. It is recommended to upgrade the kernel to the minimum version or higher.\n"
     ]
    },
    {
     "data": {
      "text/plain": "  0%|          | 0/273 [00:00<?, ?it/s]",
      "application/vnd.jupyter.widget-view+json": {
       "version_major": 2,
       "version_minor": 0,
       "model_id": "db217ab35761471aaf0596800094eeaf"
      }
     },
     "metadata": {},
     "output_type": "display_data"
    },
    {
     "ename": "KeyboardInterrupt",
     "evalue": "",
     "output_type": "error",
     "traceback": [
      "\u001B[0;31m---------------------------------------------------------------------------\u001B[0m",
      "\u001B[0;31mKeyboardInterrupt\u001B[0m                         Traceback (most recent call last)",
      "Cell \u001B[0;32mIn[78], line 91\u001B[0m\n\u001B[1;32m     88\u001B[0m         ax[\u001B[38;5;241m1\u001B[39m]\u001B[38;5;241m.\u001B[39mplot(evh)\n\u001B[1;32m     89\u001B[0m         plt\u001B[38;5;241m.\u001B[39mshow()\n\u001B[0;32m---> 91\u001B[0m \u001B[43mnotebook_launcher\u001B[49m\u001B[43m(\u001B[49m\u001B[43mtrain_function\u001B[49m\u001B[43m,\u001B[49m\u001B[43m \u001B[49m\u001B[43m(\u001B[49m\u001B[43mmodel\u001B[49m\u001B[43m,\u001B[49m\u001B[43m \u001B[49m\u001B[43m)\u001B[49m\u001B[43m,\u001B[49m\u001B[43m \u001B[49m\u001B[43mnum_processes\u001B[49m\u001B[38;5;241;43m=\u001B[39;49m\u001B[38;5;241;43m2\u001B[39;49m\u001B[43m)\u001B[49m\n",
      "File \u001B[0;32m/projets/melodi/gsantoss/miniconda3/envs/myenv/lib/python3.11/site-packages/accelerate/launchers.py:175\u001B[0m, in \u001B[0;36mnotebook_launcher\u001B[0;34m(function, args, num_processes, mixed_precision, use_port, master_addr, node_rank, num_nodes)\u001B[0m\n\u001B[1;32m    173\u001B[0m \u001B[38;5;28mprint\u001B[39m(\u001B[38;5;124mf\u001B[39m\u001B[38;5;124m\"\u001B[39m\u001B[38;5;124mLaunching training on \u001B[39m\u001B[38;5;132;01m{\u001B[39;00mnum_processes\u001B[38;5;132;01m}\u001B[39;00m\u001B[38;5;124m GPUs.\u001B[39m\u001B[38;5;124m\"\u001B[39m)\n\u001B[1;32m    174\u001B[0m \u001B[38;5;28;01mtry\u001B[39;00m:\n\u001B[0;32m--> 175\u001B[0m     \u001B[43mstart_processes\u001B[49m\u001B[43m(\u001B[49m\u001B[43mlauncher\u001B[49m\u001B[43m,\u001B[49m\u001B[43m \u001B[49m\u001B[43margs\u001B[49m\u001B[38;5;241;43m=\u001B[39;49m\u001B[43margs\u001B[49m\u001B[43m,\u001B[49m\u001B[43m \u001B[49m\u001B[43mnprocs\u001B[49m\u001B[38;5;241;43m=\u001B[39;49m\u001B[43mnum_processes\u001B[49m\u001B[43m,\u001B[49m\u001B[43m \u001B[49m\u001B[43mstart_method\u001B[49m\u001B[38;5;241;43m=\u001B[39;49m\u001B[38;5;124;43m\"\u001B[39;49m\u001B[38;5;124;43mfork\u001B[39;49m\u001B[38;5;124;43m\"\u001B[39;49m\u001B[43m)\u001B[49m\n\u001B[1;32m    176\u001B[0m \u001B[38;5;28;01mexcept\u001B[39;00m ProcessRaisedException \u001B[38;5;28;01mas\u001B[39;00m e:\n\u001B[1;32m    177\u001B[0m     \u001B[38;5;28;01mif\u001B[39;00m \u001B[38;5;124m\"\u001B[39m\u001B[38;5;124mCannot re-initialize CUDA in forked subprocess\u001B[39m\u001B[38;5;124m\"\u001B[39m \u001B[38;5;129;01min\u001B[39;00m e\u001B[38;5;241m.\u001B[39margs[\u001B[38;5;241m0\u001B[39m]:\n",
      "File \u001B[0;32m/projets/melodi/gsantoss/miniconda3/envs/myenv/lib/python3.11/site-packages/torch/multiprocessing/spawn.py:202\u001B[0m, in \u001B[0;36mstart_processes\u001B[0;34m(fn, args, nprocs, join, daemon, start_method)\u001B[0m\n\u001B[1;32m    199\u001B[0m     \u001B[38;5;28;01mreturn\u001B[39;00m context\n\u001B[1;32m    201\u001B[0m \u001B[38;5;66;03m# Loop on join until it returns True or raises an exception.\u001B[39;00m\n\u001B[0;32m--> 202\u001B[0m \u001B[38;5;28;01mwhile\u001B[39;00m \u001B[38;5;129;01mnot\u001B[39;00m \u001B[43mcontext\u001B[49m\u001B[38;5;241;43m.\u001B[39;49m\u001B[43mjoin\u001B[49m\u001B[43m(\u001B[49m\u001B[43m)\u001B[49m:\n\u001B[1;32m    203\u001B[0m     \u001B[38;5;28;01mpass\u001B[39;00m\n",
      "File \u001B[0;32m/projets/melodi/gsantoss/miniconda3/envs/myenv/lib/python3.11/site-packages/torch/multiprocessing/spawn.py:114\u001B[0m, in \u001B[0;36mProcessContext.join\u001B[0;34m(self, timeout)\u001B[0m\n\u001B[1;32m    111\u001B[0m     \u001B[38;5;28;01mreturn\u001B[39;00m \u001B[38;5;28;01mTrue\u001B[39;00m\n\u001B[1;32m    113\u001B[0m \u001B[38;5;66;03m# Wait for any process to fail or all of them to succeed.\u001B[39;00m\n\u001B[0;32m--> 114\u001B[0m ready \u001B[38;5;241m=\u001B[39m \u001B[43mmultiprocessing\u001B[49m\u001B[38;5;241;43m.\u001B[39;49m\u001B[43mconnection\u001B[49m\u001B[38;5;241;43m.\u001B[39;49m\u001B[43mwait\u001B[49m\u001B[43m(\u001B[49m\n\u001B[1;32m    115\u001B[0m \u001B[43m    \u001B[49m\u001B[38;5;28;43mself\u001B[39;49m\u001B[38;5;241;43m.\u001B[39;49m\u001B[43msentinels\u001B[49m\u001B[38;5;241;43m.\u001B[39;49m\u001B[43mkeys\u001B[49m\u001B[43m(\u001B[49m\u001B[43m)\u001B[49m\u001B[43m,\u001B[49m\n\u001B[1;32m    116\u001B[0m \u001B[43m    \u001B[49m\u001B[43mtimeout\u001B[49m\u001B[38;5;241;43m=\u001B[39;49m\u001B[43mtimeout\u001B[49m\u001B[43m,\u001B[49m\n\u001B[1;32m    117\u001B[0m \u001B[43m\u001B[49m\u001B[43m)\u001B[49m\n\u001B[1;32m    119\u001B[0m error_index \u001B[38;5;241m=\u001B[39m \u001B[38;5;28;01mNone\u001B[39;00m\n\u001B[1;32m    120\u001B[0m \u001B[38;5;28;01mfor\u001B[39;00m sentinel \u001B[38;5;129;01min\u001B[39;00m ready:\n",
      "File \u001B[0;32m/projets/melodi/gsantoss/miniconda3/envs/myenv/lib/python3.11/multiprocessing/connection.py:947\u001B[0m, in \u001B[0;36mwait\u001B[0;34m(object_list, timeout)\u001B[0m\n\u001B[1;32m    944\u001B[0m     deadline \u001B[38;5;241m=\u001B[39m time\u001B[38;5;241m.\u001B[39mmonotonic() \u001B[38;5;241m+\u001B[39m timeout\n\u001B[1;32m    946\u001B[0m \u001B[38;5;28;01mwhile\u001B[39;00m \u001B[38;5;28;01mTrue\u001B[39;00m:\n\u001B[0;32m--> 947\u001B[0m     ready \u001B[38;5;241m=\u001B[39m \u001B[43mselector\u001B[49m\u001B[38;5;241;43m.\u001B[39;49m\u001B[43mselect\u001B[49m\u001B[43m(\u001B[49m\u001B[43mtimeout\u001B[49m\u001B[43m)\u001B[49m\n\u001B[1;32m    948\u001B[0m     \u001B[38;5;28;01mif\u001B[39;00m ready:\n\u001B[1;32m    949\u001B[0m         \u001B[38;5;28;01mreturn\u001B[39;00m [key\u001B[38;5;241m.\u001B[39mfileobj \u001B[38;5;28;01mfor\u001B[39;00m (key, events) \u001B[38;5;129;01min\u001B[39;00m ready]\n",
      "File \u001B[0;32m/projets/melodi/gsantoss/miniconda3/envs/myenv/lib/python3.11/selectors.py:415\u001B[0m, in \u001B[0;36m_PollLikeSelector.select\u001B[0;34m(self, timeout)\u001B[0m\n\u001B[1;32m    413\u001B[0m ready \u001B[38;5;241m=\u001B[39m []\n\u001B[1;32m    414\u001B[0m \u001B[38;5;28;01mtry\u001B[39;00m:\n\u001B[0;32m--> 415\u001B[0m     fd_event_list \u001B[38;5;241m=\u001B[39m \u001B[38;5;28mself\u001B[39m\u001B[38;5;241m.\u001B[39m_selector\u001B[38;5;241m.\u001B[39mpoll(timeout)\n\u001B[1;32m    416\u001B[0m \u001B[38;5;28;01mexcept\u001B[39;00m \u001B[38;5;167;01mInterruptedError\u001B[39;00m:\n\u001B[1;32m    417\u001B[0m     \u001B[38;5;28;01mreturn\u001B[39;00m ready\n",
      "\u001B[0;31mKeyboardInterrupt\u001B[0m: "
     ]
    }
   ],
   "source": [
    "def sim_loss(cq, pe, ne):\n",
    "    return torch.mean(1 - torch.cosine_similarity(cq, pe) + torch.cosine_similarity(cq, ne))\n",
    "\n",
    "def evm(accelerator, model, dataset, th=0.5):\n",
    "    model.eval()\n",
    "\n",
    "    res = []\n",
    "    for batch in DataLoader(dataset, batch_size=2):\n",
    "        with torch.no_grad():\n",
    "\n",
    "            cqs, sbgs, _ = model(batch.cqs, batch.x_sf, batch.x_s,\n",
    "                              batch.edge_index_s, batch.edge_feat_sf, batch.edge_feat_s, None, None,\n",
    "                               None, None, None, embed_negative=False)\n",
    "\n",
    "            isbgs = sbgs[batch.rsi]\n",
    "\n",
    "            sim = torch.cosine_similarity(cqs, isbgs) > th\n",
    "            res.append(sim)\n",
    "            \n",
    "\n",
    "    res = torch.cat(res, dim=0)\n",
    "\n",
    "    return (res.sum() / res.size(0)).item()\n",
    "\n",
    "\n",
    "def train_function(model):\n",
    "\n",
    "    accelerator = Accelerator()\n",
    "    optimizer = optim.AdamW(model.parameters(), lr=0.00001)\n",
    "    \n",
    "    \n",
    "    lh = []\n",
    "    evh = []\n",
    "    epochs = 3\n",
    "    batch_size = 2\n",
    "    progress = None\n",
    "    \n",
    "    dataset = CQADataset(tokenizer, cidata, raw_data['edas'])\n",
    "    loader = DataLoader(dataset, batch_size=batch_size)\n",
    "    \n",
    "    model, optimizer, loader = accelerator.prepare(model, optimizer, loader)\n",
    "    \n",
    "    if not progress and accelerator.is_main_process:\n",
    "        progress = tqdm(total=epochs * len(loader))\n",
    "\n",
    "    \n",
    "    \n",
    "    for e in range(epochs):\n",
    "    \n",
    "        model.train()\n",
    "        \n",
    "        el = []\n",
    "        for batch in loader:\n",
    "            with accelerator.accumulate(model):\n",
    "                optimizer.zero_grad()\n",
    "                cqs, sbgs, nsbg = model(batch.cqs, batch.x_sf, batch.x_s,\n",
    "                                  batch.edge_index_s, batch.edge_feat_sf, batch.edge_feat_s, batch.x_nf, batch.x_n,\n",
    "                                   batch.edge_index_n, batch.edge_feat_nf, batch.edge_feat_n)\n",
    "                isbgs = sbgs[batch.rsi]\n",
    "                isbgn = nsbg[batch.rni]\n",
    "        \n",
    "                loss = sim_loss(cqs, isbgs, isbgn)\n",
    "        \n",
    "                el.append(loss.item())\n",
    "                accelerator.backward(loss)\n",
    "        \n",
    "                optimizer.step()\n",
    "                if accelerator.is_main_process:\n",
    "                    progress.update(1)\n",
    "    \n",
    "    \n",
    "        lh.append(sum(el) / len(el))\n",
    "        evh.append(evm(accelerator, model, dataset, th=0.5))\n",
    "\n",
    "        accelerator.print(f'epoch {e} loss: {lh[-1]:.2f}, ev: {evh[-1]:.2f}')\n",
    "    \n",
    "    \n",
    "    evh.append(evm(accelerator, model, dataset, th=0.5))\n",
    "    accelerator.print(f'epoch {e} loss: {lh[-1]:.2f}, ev: {evh[-1]:.2f}')\n",
    "\n",
    "    if accelerator.is_main_process:\n",
    "        progress.close()\n",
    "    \n",
    "        fig, ax = plt.subplots(1, 2)\n",
    "        fig.tight_layout()\n",
    "        ax[0].plot(lh)\n",
    "        ax[1].plot(evh)\n",
    "        plt.show()\n",
    "\n",
    "notebook_launcher(train_function, (model, ), num_processes=2)"
   ],
   "metadata": {
    "collapsed": false,
    "ExecuteTime": {
     "end_time": "2023-11-17T00:05:00.015935919Z",
     "start_time": "2023-11-16T23:51:23.059992365Z"
    }
   },
   "id": "81cd16f8861a744f"
  },
  {
   "cell_type": "code",
   "execution_count": 12,
   "outputs": [
    {
     "data": {
      "text/plain": "  0%|          | 0/524 [00:00<?, ?it/s]",
      "application/vnd.jupyter.widget-view+json": {
       "version_major": 2,
       "version_minor": 0,
       "model_id": "ab42d01e9c5e4fa09d4c4389fb78c290"
      }
     },
     "metadata": {},
     "output_type": "display_data"
    },
    {
     "data": {
      "text/plain": "  0%|          | 0/262 [00:00<?, ?it/s]",
      "application/vnd.jupyter.widget-view+json": {
       "version_major": 2,
       "version_minor": 0,
       "model_id": "9f59084d9b4446c3a2028440e58005d5"
      }
     },
     "metadata": {},
     "output_type": "display_data"
    }
   ],
   "source": [
    "class IData(Data):\n",
    "    def __inc__(self, key, value, *args, **kwargs):\n",
    "        if key == 'rsi':\n",
    "            return self.x_s.size(0)\n",
    "\n",
    "        if key == 'x_s':\n",
    "            return self.x_sf.size(0)\n",
    "\n",
    "        if key == 'edge_index_s':\n",
    "            return self.x_s.size(0)\n",
    "\n",
    "        if key == 'edge_feat_s':\n",
    "            return self.edge_feat_sf.size(0)\n",
    "\n",
    "        return super().__inc__(key, value, *args, **kwargs)\n",
    "\n",
    "\n",
    "def embed_subg(model, ifd, tokenizer, mc, mp):\n",
    "    model.eval()\n",
    "    ts = []\n",
    "    graph_data = []\n",
    "    ai = 0\n",
    "    for s, cm, pm, fm in tqdm(ifd):\n",
    "\n",
    "        pd1, pdi1 = pad_entities(tokenizer, cm, mc)\n",
    "\n",
    "        pd3, pdi3 = pad_entities(tokenizer, pm, mp)\n",
    "\n",
    "        edge1 = torch.LongTensor(fm)\n",
    "\n",
    "        ts.append(s)\n",
    "        graph_data.append(IData(\n",
    "            rsi=torch.LongTensor([0]),\n",
    "\n",
    "            x_s=pdi1.long(),\n",
    "            x_sf=pd1.long(),\n",
    "\n",
    "            edge_index_s=edge1.long(),\n",
    "\n",
    "            edge_feat_s=pdi3,\n",
    "            edge_feat_sf=pd3,\n",
    "\n",
    "        ))\n",
    "\n",
    "        ai += 1\n",
    "\n",
    "    fe = []\n",
    "    for batch in tqdm(DataLoader(graph_data, batch_size=2, shuffle=False)):\n",
    "        with torch.no_grad():\n",
    "            out = model.embed_subg(batch.x_sf.cuda(0), batch.x_s.cuda(0), batch.edge_index_s.cuda(0),\n",
    "                                   batch.edge_feat_sf.cuda(0), batch.edge_feat_s.cuda(0))\n",
    "            fe.append(out[batch.rsi])\n",
    "\n",
    "    fe = torch.cat(fe, dim=0)\n",
    "\n",
    "    return ts, fe\n",
    "\n",
    "\n",
    "model.eval()\n",
    "model.cuda(0)\n",
    "root_entities, graph_embeddings = embed_subg(model, ifd, tokenizer, mc, mp)"
   ],
   "metadata": {
    "collapsed": false,
    "ExecuteTime": {
     "end_time": "2023-11-16T18:21:57.553529586Z",
     "start_time": "2023-11-16T18:19:08.532952850Z"
    }
   },
   "id": "d1228e4163fe8c56"
  },
  {
   "cell_type": "code",
   "execution_count": 13,
   "outputs": [],
   "source": [
    "def embed_cqas(model, data, tokenizer):\n",
    "    model.eval()\n",
    "    cq = []\n",
    "    cqi = []\n",
    "    ai = 0\n",
    "    for k in data:\n",
    "        cq.append(k)\n",
    "        cqi.append(data[k])\n",
    "        ai += 1\n",
    "\n",
    "    cqid = tokenizer(cqi, return_tensors='pt', padding=True)['input_ids']\n",
    "\n",
    "    cqeb = []\n",
    "\n",
    "    for c in DataLoader(cqid, batch_size=2, shuffle=False):\n",
    "        with torch.no_grad():\n",
    "            out = model.embed_cqa(c.cuda(0))\n",
    "            cqeb.append(out)\n",
    "\n",
    "    cqeb = torch.cat(cqeb, dim=0)\n",
    "    return cq, cqeb\n",
    "\n",
    "\n",
    "model.eval()\n",
    "cq, cqeb = embed_cqas(model, cqas['edas'], tokenizer)"
   ],
   "metadata": {
    "collapsed": false,
    "ExecuteTime": {
     "end_time": "2023-11-16T18:21:57.942798760Z",
     "start_time": "2023-11-16T18:21:57.553031921Z"
    }
   },
   "id": "f346c0e3cf3960ab"
  },
  {
   "cell_type": "code",
   "execution_count": 14,
   "outputs": [
    {
     "data": {
      "text/plain": "<Figure size 640x480 with 1 Axes>",
      "image/png": "[encoded data removed]"
     },
     "metadata": {},
     "output_type": "display_data"
    },
    {
     "name": "stdout",
     "output_type": "stream",
     "text": [
      "best threshold: 0.55\n",
      "avgp: 0.16, rec: 0.08, afm: 0.10\n"
     ]
    }
   ],
   "source": [
    "def eval_metrics(cqa_list, cqa_embeddings, fe, ts, res, th=0.8):\n",
    "    metrics = []\n",
    "\n",
    "    for cqa_name, e in zip(cqa_list, cqa_embeddings):\n",
    "\n",
    "        sim = torch.cosine_similarity(e.unsqueeze(0), fe, dim=1)\n",
    "        resid = torch.where(sim > th)[0].tolist()\n",
    "        rs = set()\n",
    "        for r in resid:\n",
    "            rs.add(ts[r])\n",
    "\n",
    "        metrics.append((1 if res[cqa_name] in rs else 0, len(rs)))\n",
    "\n",
    "    avgp = sum([1 / m[1] if m[1] > 0 else 0 for m in metrics]) / len(metrics)\n",
    "    rc = sum([m[0] for m in metrics]) / len(metrics)\n",
    "    fm = 2 * rc * avgp / (rc + avgp) if rc + avgp > 0 else 0\n",
    "    return avgp, rc, fm\n",
    "\n",
    "\n",
    "avgps = []\n",
    "rcs = []\n",
    "fms = []\n",
    "\n",
    "for t in torch.arange(0, 1, 0.05):\n",
    "    avgp, rc, fm = eval_metrics(cq, cqeb, graph_embeddings, root_entities, res, th=t)\n",
    "    avgps.append(avgp)\n",
    "    rcs.append(rc)\n",
    "    fms.append(fm)\n",
    "\n",
    "# avgp, rc, fm = eval_metrics(cq, cqeb, graph_embeddings, root_entities, res, th=0.70)\n",
    "\n",
    "plt.plot(avgps, label='avgp')\n",
    "plt.plot(rcs, label='rc')\n",
    "plt.plot(fms, label='fm')\n",
    "plt.legend()\n",
    "# verical line on max fm\n",
    "bv = torch.tensor(fms).argmax().item()\n",
    "plt.axvline(x=bv, color='black', linestyle='--')\n",
    "\n",
    "plt.show()\n",
    "\n",
    "print(f'best threshold: {bv * 0.05:.2f}')\n",
    "print(f'avgp: {avgps[bv]:.2f}, rec: {rcs[bv]:.2f}, afm: {fms[bv]:.2f}')"
   ],
   "metadata": {
    "collapsed": false,
    "ExecuteTime": {
     "end_time": "2023-11-16T18:21:58.574499789Z",
     "start_time": "2023-11-16T18:21:57.942540466Z"
    }
   },
   "id": "46fb604297f890e7"
  },
  {
   "cell_type": "code",
   "execution_count": 68,
   "outputs": [],
   "source": [],
   "metadata": {
    "collapsed": false,
    "ExecuteTime": {
     "end_time": "2023-10-30T09:41:41.977928615Z",
     "start_time": "2023-10-30T09:41:40.523286012Z"
    }
   },
   "id": "6d86ea77b479265f"
  }
 ],
 "metadata": {
  "kernelspec": {
   "name": "myenv",
   "language": "python",
   "display_name": "myenv"
  },
  "language_info": {
   "codemirror_mode": {
    "name": "ipython",
    "version": 2
   },
   "file_extension": ".py",
   "mimetype": "text/x-python",
   "name": "python",
   "nbconvert_exporter": "python",
   "pygments_lexer": "ipython2",
   "version": "2.7.6"
  }
 },
 "nbformat": 4,
 "nbformat_minor": 5
}
