{
 "cells": [
  {
   "cell_type": "code",
   "outputs": [],
   "source": [
    "from cmatcher.owl_utils import *\n",
    "from cmatcher.cqa_search import *\n",
    "from cmatcher.eval_utils import *\n",
    "from transformers import AutoTokenizer\n",
    "import dill\n",
    "import os\n",
    "import torch\n",
    "import torch.optim as optim\n",
    "import copy\n",
    "import tqdm\n",
    "from cmatcher.model import *\n",
    "from tqdm.auto import tqdm\n",
    "from accelerate import Accelerator\n",
    "import random\n",
    "import wandb\n",
    "\n",
    "import argparse\n",
    "\n",
    "\n",
    "os.environ[\"TOKENIZERS_PARALLELISM\"] = 'false'\n",
    "\n",
    "torch.manual_seed(0)\n",
    "random.seed(0)"
   ],
   "metadata": {
    "collapsed": false,
    "ExecuteTime": {
     "end_time": "2024-02-21T16:26:59.236812973Z",
     "start_time": "2024-02-21T16:26:53.420637696Z"
    }
   },
   "id": "b5bb9c9503b14f29",
   "execution_count": 1
  },
  {
   "cell_type": "code",
   "outputs": [],
   "source": [
    "\n",
    "\n",
    "def parse_arguments():\n",
    "    arg_parser = argparse.ArgumentParser(description='')\n",
    "\n",
    "    arg_parser.add_argument('--sweep', dest='sweep', nargs='?', type=int)\n",
    "\n",
    "    return arg_parser.parse_args()\n"
   ],
   "metadata": {
    "collapsed": false,
    "ExecuteTime": {
     "end_time": "2024-02-21T16:26:59.243137346Z",
     "start_time": "2024-02-21T16:26:59.239240487Z"
    }
   },
   "id": "6098871c219ba65d",
   "execution_count": 2
  },
  {
   "cell_type": "code",
   "outputs": [
    {
     "name": "stdout",
     "output_type": "stream",
     "text": [
      "loaded from cache.\n"
     ]
    },
    {
     "data": {
      "text/plain": "  0%|          | 0/101 [00:00<?, ?it/s]",
      "application/vnd.jupyter.widget-view+json": {
       "version_major": 2,
       "version_minor": 0,
       "model_id": "b7ede88a908646ae82698305e0665abb"
      }
     },
     "metadata": {},
     "output_type": "display_data"
    },
    {
     "data": {
      "text/plain": "  0%|          | 0/101 [00:00<?, ?it/s]",
      "application/vnd.jupyter.widget-view+json": {
       "version_major": 2,
       "version_minor": 0,
       "model_id": "3e4c707446da4fb995dc4a24908db20e"
      }
     },
     "metadata": {},
     "output_type": "display_data"
    },
    {
     "name": "stdout",
     "output_type": "stream",
     "text": [
      "loaded from cache.\n",
      "start training\n"
     ]
    }
   ],
   "source": [
    "\n",
    "\n",
    "\n",
    "\n",
    "\n",
    "# args = parse_arguments()\n",
    "\n",
    "test_onts = ['cmt', 'conference', 'confOf', 'edas', 'ekaw']\n",
    "language_models = ['BAAI/bge-base-en', 'infgrad/stella-base-en-v2', 'BAAI/bge-large-en-v1.5', 'llmrails/ember-v1',\n",
    "                   'thenlper/gte-large']\n",
    "architectures = ['lm', 'gnn', 'sgnn']\n",
    "lm_grad = ['none', 'grad']\n",
    "pred = ['none', 'pred']\n",
    "dephs = [1, 2, 3, 4]\n",
    "\n",
    "\n",
    "def all_combinations():\n",
    "    combs = []\n",
    "    for to in test_onts:\n",
    "        for lm in language_models:\n",
    "            for a in architectures:\n",
    "                if a == 'lm':\n",
    "                    combs.append((to, lm, a, 'grad', 'none', 0))\n",
    "                    continue\n",
    "                for g in lm_grad:\n",
    "                    for p in pred:\n",
    "                        for d in dephs:\n",
    "                            combs.append((to, lm, a, g, p, d))\n",
    "\n",
    "    return combs\n",
    "\n",
    "\n",
    "# test_ont, language_model, architecture, grad, cpred, depth = all_combinations()[args.sweep]\n",
    "test_ont, language_model, architecture, grad, cpred, depth = all_combinations()[0]\n",
    "\n",
    "config = {\n",
    "    'test_ont': test_ont,\n",
    "    'learning_rate': 0.00001,\n",
    "    'language_model': language_model,\n",
    "    'architecture': architecture,\n",
    "    'pred': cpred,\n",
    "    'epochs': 5,\n",
    "    'batch_size': 2,\n",
    "    'evm_th': 0.9,\n",
    "    'ev_sim_threshold': 0.8,\n",
    "    'sim_margin': 0.8,\n",
    "    'depth': depth,\n",
    "    'grad': grad\n",
    "}\n",
    "\n",
    "ontology_paths = {\n",
    "    'edas.owl': '/projets/melodi/gsantoss/data/oaei/tracks/conference/onts/edas.owl',\n",
    "    'ekaw.owl': '/projets/melodi/gsantoss/data/oaei/tracks/conference/onts/ekaw.owl',\n",
    "    'confOf.owl': '/projets/melodi/gsantoss/data/oaei/tracks/conference/onts/confOf.owl',\n",
    "    'conference.owl': '/projets/melodi/gsantoss/data/oaei/tracks/conference/onts/conference.owl',\n",
    "    'cmt.owl': '/projets/melodi/gsantoss/data/oaei/tracks/conference/onts/cmt.owl',\n",
    "}\n",
    "\n",
    "cqa_path = '/projets/melodi/gsantoss/data/complex/CQAs'\n",
    "entities_path = '/projets/melodi/gsantoss/data/complex/entities-cqas'\n",
    "\n",
    "if os.path.exists('/projets/melodi/gsantoss/tmp/idata.pkl'):\n",
    "    with open('/projets/melodi/gsantoss/tmp/idata.pkl', 'rb') as f:\n",
    "        train_ont_cqa_subg = dill.load(f)\n",
    "        print('loaded from cache.')\n",
    "else:\n",
    "    with open('/projets/melodi/gsantoss/tmp/idata.pkl', 'wb') as f:\n",
    "        dill.dump(load_entities(entities_path, ontology_paths), f)\n",
    "\n",
    "isg = load_sg(entities_path, ontology_paths)\n",
    "\n",
    "cqas = load_cqas(cqa_path)\n",
    "raw_data = build_raw_data(train_ont_cqa_subg, cqas)\n",
    "\n",
    "test_ont = config['test_ont']\n",
    "\n",
    "if os.path.exists(f'/projets/melodi/gsantoss/tmp/{test_ont}.pkl'):\n",
    "    with open(f'/projets/melodi/gsantoss/tmp/{test_ont}.pkl', 'rb') as f:\n",
    "        ifd, mc, mp, fres = dill.load(f)\n",
    "        print('loaded from cache.')\n",
    "else:\n",
    "    ifd, mc, mp, fres = build_raw_ts(f'/projets/melodi/gsantoss/data/oaei/tracks/conference/onts/{test_ont}.owl',\n",
    "                                     isg[test_ont],\n",
    "                                     workers=4)\n",
    "    with open(f'/projets/melodi/gsantoss/tmp/{test_ont}.pkl', 'wb') as f:\n",
    "        dill.dump((ifd, mc, mp, fres), f)\n",
    "\n",
    "conts_cqa_subg = copy.deepcopy(train_ont_cqa_subg)\n",
    "del conts_cqa_subg[test_ont]\n",
    "\n",
    "tokenizer = AutoTokenizer.from_pretrained(config['language_model'])\n",
    "\n",
    "root_entities, graph_data, cq, cqid, caq, cqmask, tor = prepare_eval_dataset(test_ont, cqas, ifd, tokenizer, mc, mp,\n",
    "                                                                             fres)\n",
    "\n",
    "# wandb.init(\n",
    "#     project='cmatcher',\n",
    "#     config=config,\n",
    "#     group=f'{language_model}-{architecture}-{cpred}-{grad}',\n",
    "#     settings=wandb.Settings(_disable_stats=True, _disable_meta=True)\n",
    "# )\n",
    "\n",
    "\n",
    "print('start training')\n"
   ],
   "metadata": {
    "collapsed": false,
    "ExecuteTime": {
     "end_time": "2024-02-21T16:27:00.807011375Z",
     "start_time": "2024-02-21T16:26:59.264465401Z"
    }
   },
   "id": "181b99eb0dfda947",
   "execution_count": 3
  },
  {
   "cell_type": "code",
   "outputs": [],
   "source": [
    "model = nn.DataParallel(Model(config['language_model'], d=config['depth'], lm_grad=config['grad'] == 'grad'))\n",
    "model.cuda(0)"
   ],
   "metadata": {
    "collapsed": false,
    "is_executing": true,
    "ExecuteTime": {
     "start_time": "2024-02-21T16:27:00.806642343Z"
    }
   },
   "id": "347309f8ff254060",
   "execution_count": null
  },
  {
   "cell_type": "code",
   "outputs": [],
   "source": [
    "optimizer = optim.Adam(model.parameters(), lr=config['learning_rate'])\n",
    "\n",
    "lh = []\n",
    "evh = []\n",
    "epochs = config['epochs']\n",
    "batch_size = config['batch_size']\n",
    "progress = None\n",
    "\n",
    "triplet_loss = nn.TripletMarginWithDistanceLoss(\n",
    "    distance_function=lambda x, y: 1.0 - torch.cosine_similarity(x, y), margin=config['sim_margin'])\n",
    "\n",
    "print('build datasets')\n",
    "dataset = CQADataset(tokenizer, conts_cqa_subg, raw_data[test_ont], filter_bn=False)\n",
    "loader = DataLoader(dataset, batch_size=batch_size)\n",
    "\n",
    "cqloader = DataLoader(cqid, batch_size=batch_size, shuffle=False)\n",
    "acqloader = [DataLoader(a, batch_size=batch_size, shuffle=False) for a in caq]\n",
    "graph_loader = DataLoader(graph_data, batch_size=batch_size, shuffle=False)"
   ],
   "metadata": {
    "collapsed": false,
    "is_executing": true
   },
   "id": "7be1432cec5dc32e",
   "execution_count": null
  },
  {
   "cell_type": "code",
   "outputs": [],
   "source": [
    "\n",
    "\n",
    "\n",
    "\n",
    "print('data prepared')\n",
    "model.find_unused_parameters = False\n",
    "if not progress:\n",
    "    progress = tqdm(total=epochs * len(loader))\n",
    "\n",
    "print('start training')\n",
    "evh.append(evm(model, dataset, th=config[\"ev_sim_threshold\"]))\n",
    "eval_test(model, cqloader, graph_loader, cq, root_entities, res, acqloader, cqmask, tor)\n",
    "wandb.log({'global/acc': evh[-1], 'global/loss': lh[-1]})\n",
    "\n",
    "for e in range(epochs):\n",
    "\n",
    "    model.train()\n",
    "\n",
    "    el = []\n",
    "    for batch in loader:\n",
    "\n",
    "        optimizer.zero_grad()\n",
    "\n",
    "        cqs, sbgs, nsbg = model(cqa=batch.cqs, positive_sbg=(batch.x_sf, batch.x_s,\n",
    "                                                             batch.edge_index_s, batch.edge_feat_sf,\n",
    "                                                             batch.edge_feat_s),\n",
    "                                negative_sbg=(batch.x_nf, batch.x_n,\n",
    "                                              batch.edge_index_n, batch.edge_feat_nf, batch.edge_feat_n))\n",
    "\n",
    "        isbgs = sbgs[batch.rsi]\n",
    "        isbgn = nsbg[batch.rni]\n",
    "\n",
    "        loss = triplet_loss(cqs, isbgs, isbgn)\n",
    "        el.append(loss.detach())\n",
    "        loss.backward()\n",
    "\n",
    "        optimizer.step()\n",
    "        progress.update(1)\n",
    "\n",
    "    lh.append(torch.stack(el).mean().item())\n",
    "\n",
    "    evh.append(evm(model, dataset, th=config[\"ev_sim_threshold\"]))\n",
    "    eval_test(model, cqloader, graph_loader, cq, root_entities, res, acqloader, cqmask, tor)\n",
    "    wandb.log({'global/acc': evh[-1], 'global/loss': lh[-1]})\n",
    "\n",
    "progress.close()\n",
    "    \n",
    "wandb.finish()\n"
   ],
   "metadata": {
    "collapsed": false,
    "is_executing": true
   },
   "id": "495ac6bfc31d755b",
   "execution_count": null
  },
  {
   "cell_type": "code",
   "outputs": [],
   "source": [],
   "metadata": {
    "collapsed": false
   },
   "id": "c8f331778e61c20d"
  }
 ],
 "metadata": {
  "kernelspec": {
   "name": "myenv",
   "language": "python",
   "display_name": "myenv"
  },
  "language_info": {
   "codemirror_mode": {
    "name": "ipython",
    "version": 2
   },
   "file_extension": ".py",
   "mimetype": "text/x-python",
   "name": "python",
   "nbconvert_exporter": "python",
   "pygments_lexer": "ipython2",
   "version": "2.7.6"
  }
 },
 "nbformat": 4,
 "nbformat_minor": 5
}
