{
 "cells": [
  {
   "cell_type": "code",
   "id": "initial_id",
   "metadata": {
    "collapsed": true,
    "ExecuteTime": {
     "end_time": "2024-04-15T17:23:27.881758Z",
     "start_time": "2024-04-15T17:23:27.877566Z"
    }
   },
   "source": "import os",
   "execution_count": 1,
   "outputs": []
  },
  {
   "metadata": {
    "ExecuteTime": {
     "end_time": "2024-04-15T17:24:16.031444Z",
     "start_time": "2024-04-15T17:24:13.830881Z"
    }
   },
   "cell_type": "code",
   "source": [
    "for p, d, fs in os.walk('/projets/melodi/gsantoss/canarde/canard_emb_tax'):\n",
    "    for f in fs:\n",
    "        if 'gritlm' not in f:\n",
    "            continue\n",
    "        print(f)\n",
    "        with open(os.path.join(p, f), 'r') as fl:\n",
    "            lines = fl.readlines()\n",
    "            \n",
    "            for l in lines:\n",
    "                if len(l) > 500:\n",
    "                    print(l)\n",
    "                    \n",
    "                    raise Exception('hue')\n",
    "            \n"
   ],
   "id": "1c9f554af07e0e36",
   "execution_count": 4,
   "outputs": []
  },
  {
   "metadata": {},
   "cell_type": "code",
   "execution_count": null,
   "source": "",
   "id": "97239a9e56330a83",
   "outputs": []
  }
 ],
 "metadata": {
  "kernelspec": {
   "display_name": "Python (myenv)",
   "language": "python",
   "name": "myenv"
  },
  "language_info": {
   "codemirror_mode": {
    "name": "ipython",
    "version": 2
   },
   "file_extension": ".py",
   "mimetype": "text/x-python",
   "name": "python",
   "nbconvert_exporter": "python",
   "pygments_lexer": "ipython2",
   "version": "2.7.6"
  }
 },
 "nbformat": 4,
 "nbformat_minor": 5
}
