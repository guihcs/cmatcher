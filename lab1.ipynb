{
 "cells": [
  {
   "cell_type": "code",
   "id": "initial_id",
   "metadata": {
    "collapsed": true,
    "ExecuteTime": {
     "end_time": "2024-05-02T12:51:41.435341Z",
     "start_time": "2024-05-02T12:49:41.232741Z"
    }
   },
   "source": [
    "# %%\n",
    "import os\n",
    "\n",
    "os.environ[\"TOKENIZERS_PARALLELISM\"] = 'false'\n",
    "os.environ[\"WANDB_DIR\"] = '/projets/melodi/gsantoss/wandbt'\n",
    "\n",
    "from cmatcher.owl_utils import *\n",
    "from cmatcher.cqa_search import *\n",
    "from cmatcher.eval_utils import *\n",
    "from transformers import AutoTokenizer\n",
    "import dill\n",
    "import torch\n",
    "import torch.optim as optim\n",
    "import copy\n",
    "import tqdm\n",
    "from cmatcher.model import *\n",
    "from tqdm.auto import tqdm\n",
    "import random\n",
    "import wandb\n",
    "\n",
    "import argparse\n",
    "\n",
    "from rdflib import Graph, URIRef, BNode\n",
    "from rdflib.namespace import RDF, RDFS, OWL\n",
    "from om.ont import get_namespace, get_n\n",
    "from termcolor import colored\n",
    "import os\n",
    "from tqdm.auto import tqdm\n",
    "from os import path\n",
    "from cmatcher.epc import parser\n",
    "from multiprocessing_on_dill import Pool\n",
    "import torch\n",
    "\n",
    "\n",
    "\n",
    "torch.manual_seed(0)\n",
    "random.seed(0)"
   ],
   "execution_count": 1,
   "outputs": []
  },
  {
   "metadata": {
    "ExecuteTime": {
     "end_time": "2024-05-02T12:51:41.552426Z",
     "start_time": "2024-05-02T12:51:41.546860Z"
    }
   },
   "cell_type": "code",
   "source": [
    "ontology_paths = {\n",
    "    'edas.owl': '/projets/melodi/gsantoss/data/oaei/tracks/conference/onts/edas.owl',\n",
    "    'ekaw.owl': '/projets/melodi/gsantoss/data/oaei/tracks/conference/onts/ekaw.owl',\n",
    "    'confOf.owl': '/projets/melodi/gsantoss/data/oaei/tracks/conference/onts/confOf.owl',\n",
    "    'conference.owl': '/projets/melodi/gsantoss/data/oaei/tracks/conference/onts/conference.owl',\n",
    "    'cmt.owl': '/projets/melodi/gsantoss/data/oaei/tracks/conference/onts/cmt.owl',\n",
    "}\n",
    "\n",
    "cqa_path = '/projets/melodi/gsantoss/data/complex/CQAs'\n",
    "entities_path = '/projets/melodi/gsantoss/data/complex/entities-cqas'"
   ],
   "id": "6bd175939dcbe42f",
   "execution_count": 2,
   "outputs": []
  },
  {
   "metadata": {
    "ExecuteTime": {
     "end_time": "2024-05-02T12:51:47.239987Z",
     "start_time": "2024-05-02T12:51:41.556338Z"
    }
   },
   "cell_type": "code",
   "source": "cqas = load_cqas(cqa_path)",
   "id": "7d35107403f51f55",
   "execution_count": 3,
   "outputs": []
  },
  {
   "metadata": {
    "ExecuteTime": {
     "end_time": "2024-05-02T12:51:47.248647Z",
     "start_time": "2024-05-02T12:51:47.243517Z"
    }
   },
   "cell_type": "code",
   "source": "print(cqas.keys())",
   "id": "84573077db88311c",
   "execution_count": 4,
   "outputs": []
  },
  {
   "metadata": {
    "ExecuteTime": {
     "end_time": "2024-05-02T14:49:32.895413Z",
     "start_time": "2024-05-02T14:49:32.766535Z"
    }
   },
   "cell_type": "code",
   "source": [
    "class VirtualDocumentGenerator:\n",
    "    \n",
    "    def __init__(self, g):\n",
    "        self.g = g\n",
    "\n",
    "\n",
    "    def get_ns(self, e):\n",
    "        if e is None:\n",
    "            return 'None'\n",
    "        return e.split('#')[0]\n",
    "    \n",
    "    def get_parents(self, e):    \n",
    "        parent = self.g.value(e, RDFS.subClassOf)    \n",
    "        if parent is None:\n",
    "            return []\n",
    "        \n",
    "        return [parent] + self.get_parents(parent)\n",
    "    \n",
    "    def get_children(self, e):    \n",
    "        children = list(self.g.subjects(RDFS.subClassOf, e))  \n",
    "        return children \n",
    "        \n",
    "    def get_outgoing_properties(self, e):\n",
    "        op = []\n",
    "        \n",
    "        for s, p, o in self.g.triples((e, None, None)):\n",
    "            if p in {RDF.type}:\n",
    "                continue\n",
    "            op.append((p, o))\n",
    "        \n",
    "        return op\n",
    "    \n",
    "    def get_incoming_properties(self, e):\n",
    "        ip = []\n",
    "        \n",
    "        for s, p, o in self.g.triples((None, None, e)):\n",
    "            if p in {RDF.first, RDF.rest}:\n",
    "                continue\n",
    "            ip.append((s, p))\n",
    "        \n",
    "        return ip\n",
    "    \n",
    "    \n",
    "    \n",
    "    def list_to_virtual_document(self, l):\n",
    "        if len(l) == 0:\n",
    "            return 'Empty'\n",
    "        \n",
    "        \n",
    "        fl = []\n",
    "        \n",
    "        for e in l:\n",
    "            if type(e) is tuple:\n",
    "                fl.append(f'{e[0]} {e[1]}')\n",
    "            else:\n",
    "                fl.append(e)\n",
    "        \n",
    "        return ', '.join(fl)\n",
    "    \n",
    "    \n",
    "    def to_virtual_document(self, e):\n",
    "        \n",
    "        if e is OWL.Thing:\n",
    "    \n",
    "            return f'''Description of the entity: {e}'''\n",
    "        \n",
    "        if type(e) is BNode:\n",
    "                   \n",
    "            return f'''Description of the entity: {e}'''\n",
    "        elif self.get_ns(g.value(e, RDF.type)) == 'http://www.w3.org/2002/07/owl':\n",
    "            \n",
    "            parents = self.list_to_virtual_document(self.get_parents(e))\n",
    "            children = self.list_to_virtual_document(self.get_children(e))\n",
    "            outgoing_properties = self.list_to_virtual_document(self.get_outgoing_properties(e))\n",
    "            incoming_properties = self.list_to_virtual_document(self.get_incoming_properties(e))\n",
    "        \n",
    "            return f'''Description of the entity: {e}.\\n\\tParents: {parents}.\\n\\tChildren: {children}.\\n\\tOutgoing properties: {outgoing_properties}.\\n\\tIncoming properties: {incoming_properties}.'''\n",
    "        \n",
    "        else:\n",
    "            parentType = self.g.value(e, RDF.type)\n",
    "            parents = self.list_to_virtual_document(self.get_parents(parentType))\n",
    "            children = self.list_to_virtual_document(self.get_children(parentType))\n",
    "            outgoing_properties = self.list_to_virtual_document(self.get_outgoing_properties(e))\n",
    "            incoming_properties = self.list_to_virtual_document(self.get_incoming_properties(e))\n",
    "            return f'''Description of the entity: {e}.\\n\\tInstance of: {parentType}.\\n\\tParents: {parents}.\\n\\tChildren: {children}.\\n\\tOutgoing properties: {outgoing_properties}.\\n\\tIncoming properties: {incoming_properties}.'''\n",
    "    \n",
    "\n",
    "\n",
    "\n",
    "\n",
    "for v in ontology_paths.values():\n",
    "    g = Graph().parse(v) \n",
    "    dg = VirtualDocumentGenerator(g)\n",
    "    for s in set(g.subjects()):\n",
    "        if g.value(s, RDF.first) is not None:\n",
    "            continue\n",
    "        \n",
    "        d = dg.to_virtual_document(s)\n",
    "        print(d)\n",
    "        print('-'*50)\n",
    "    \n",
    "    break"
   ],
   "id": "ec7bc2a2796418a",
   "execution_count": 103,
   "outputs": []
  },
  {
   "metadata": {
    "ExecuteTime": {
     "end_time": "2024-05-02T10:04:41.247285Z",
     "start_time": "2024-05-02T10:04:41.057207Z"
    }
   },
   "cell_type": "code",
   "source": [
    "data = {}\n",
    "\n",
    "graphs = {}\n",
    "\n",
    "for p, d, fs in tqdm(list(os.walk(entities_path))):\n",
    "    for f in fs:\n",
    "\n",
    "        if f not in graphs:\n",
    "            graphs[f] = Graph().parse(ontology_paths[f])\n",
    "\n",
    "        g = graphs[f]\n",
    "        cqa = p.split('/')[-1]\n",
    "        if cqa not in data:\n",
    "            data[cqa] = {}\n",
    "\n",
    "        with open(path.join(p, f), 'r') as fl:\n",
    "            text = fl.read()\n",
    "            tree = parser.parse(text)\n",
    "            ng = Graph()\n",
    "\n",
    "            tn = parse_tree(tree, g, ng)\n",
    "            \n",
    "            \n",
    "            for s, p, o in ng:\n",
    "                print(s, p, o)\n",
    "            \n",
    "            \n",
    "            \n",
    "\n",
    "            \n",
    "            raise Exception('hue')\n"
   ],
   "id": "86932596a7a7f9f2",
   "execution_count": 17,
   "outputs": []
  },
  {
   "metadata": {},
   "cell_type": "code",
   "execution_count": null,
   "source": " ",
   "id": "a3fca2ec8e70b4ec",
   "outputs": []
  }
 ],
 "metadata": {
  "kernelspec": {
   "display_name": "Python (myenv)",
   "language": "python",
   "name": "myenv"
  },
  "language_info": {
   "codemirror_mode": {
    "name": "ipython",
    "version": 2
   },
   "file_extension": ".py",
   "mimetype": "text/x-python",
   "name": "python",
   "nbconvert_exporter": "python",
   "pygments_lexer": "ipython2",
   "version": "2.7.6"
  }
 },
 "nbformat": 4,
 "nbformat_minor": 5
}
