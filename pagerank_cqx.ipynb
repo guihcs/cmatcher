{
 "cells": [
  {
   "cell_type": "code",
   "id": "initial_id",
   "metadata": {
    "collapsed": true,
    "ExecuteTime": {
     "end_time": "2024-05-18T11:48:50.247082Z",
     "start_time": "2024-05-18T11:48:50.145402Z"
    }
   },
   "source": [
    "from rdflib import Graph\n",
    "from rdflib.term import URIRef, Literal, BNode\n",
    "from rdflib.namespace import RDF, RDFS, OWL, XSD, SKOS\n",
    "import os\n",
    "from tqdm.auto import tqdm"
   ],
   "outputs": [],
   "execution_count": 1
  },
  {
   "metadata": {
    "ExecuteTime": {
     "end_time": "2024-05-18T11:48:50.254859Z",
     "start_time": "2024-05-18T11:48:50.248342Z"
    }
   },
   "cell_type": "code",
   "source": [
    "\n",
    "\n",
    "\n",
    "def page_rank(g, ents, num_iterations=10, damping_factor=0.85):\n",
    "    pr = {e: 1/len(ents) for e in ents}\n",
    "    \n",
    "    for _ in range(num_iterations):\n",
    "        new_pr = {e: 0 for e in ents}\n",
    "        for e in ents:\n",
    "            incoming_links = find_incoming_links(e, g)\n",
    "            sum_rank = 0\n",
    "            for l in incoming_links:\n",
    "                lo = count_outgoing_links(l, g)\n",
    "                sum_rank += damping_factor * pr[l] / lo + (1 - damping_factor) / len(ents)\n",
    "                \n",
    "            new_pr[e] = sum_rank\n",
    "        \n",
    "        pr = new_pr\n",
    "    \n",
    "    return pr\n",
    "\n",
    "def find_incoming_links(e, g):\n",
    "    incoming_links = set()\n",
    "    \n",
    "    for s, p, o in g.triples((None, None, e)):\n",
    "            incoming_links.add(s)\n",
    "    return incoming_links\n",
    "\n",
    "def count_outgoing_links(e, g):\n",
    "    objects = set()\n",
    "    for s, p, o in g.triples((e, None, None)):\n",
    "        objects.add(o)\n",
    "    return len(objects)\n",
    "\n"
   ],
   "id": "611eb46598c524b9",
   "outputs": [],
   "execution_count": 2
  },
  {
   "metadata": {
    "ExecuteTime": {
     "end_time": "2024-05-18T12:28:05.467255Z",
     "start_time": "2024-05-18T11:49:21.113252Z"
    }
   },
   "cell_type": "code",
   "source": [
    "paths = {\n",
    "    'conference': '/home/guilherme/Documents/kg/complex/conference/ont',\n",
    "    'populated_conference': '/home/guilherme/Documents/kg/complex/conference_100/ont',\n",
    "    'geolink': '/home/guilherme/Documents/kg/complex/geolink',\n",
    "    'hydrography': '/home/guilherme/Documents/kg/complex/hydrography_ontology/ontology',\n",
    "    'taxon': '/home/guilherme/Documents/kg/complex/taxon/ont'\n",
    "}\n",
    "nb = 0\n",
    "for ont_name, v in paths.items():\n",
    "    \n",
    "    for p, d, f in os.walk(v):\n",
    "        for fs in tqdm(f):\n",
    "            if not fs.endswith('.owl') and not fs.endswith('.rdf'):\n",
    "                continue\n",
    "            \n",
    "                \n",
    "            g = Graph().parse(os.path.join(p, fs))\n",
    "            \n",
    "            ents = set(g.subjects())\n",
    "            ranks = page_rank(g, ents, num_iterations=10, damping_factor=0.8)\n",
    "            \n",
    "            values = list(sorted(ranks.items(), key=lambda x: x[1], reverse=True))\n",
    "            \n",
    "            bk, bv = values[0]\n",
    "            \n",
    "            fv = list(filter(lambda x: x[1] / bv > 0.4, values))\n",
    "            for k, v in fv[:30]:\n",
    "                kv = g.value(k, RDF.type)\n",
    "                if kv is None:\n",
    "                    continue\n",
    "                if kv == OWL.Class:\n",
    "                    cqn = k.split('#')[-1].lower().split(\"/\")[-1]\n",
    "                    \n",
    "                    os.makedirs(f'/home/guilherme/Documents/kg/complex/prcqas/{ont_name}/{fs.split(\".\")[0]}', exist_ok=True)\n",
    "                    with open(f'/home/guilherme/Documents/kg/complex/prcqas/{ont_name}/{fs.split(\".\")[0]}/c-{cqn}.sparql', 'w') as f:\n",
    "                        f.write(f'SELECT DISTINCT ?x WHERE {{?x a <{k}>.}}')\n",
    "                elif 'property' in kv.lower():\n",
    "                    cqn = k.split('#')[-1].lower().split(\"/\")[-1]\n",
    "                    os.makedirs(f'/home/guilherme/Documents/kg/complex/prcqas/{ont_name}/{fs.split(\".\")[0]}', exist_ok=True)\n",
    "                    with open(f'/home/guilherme/Documents/kg/complex/prcqas/{ont_name}/{fs.split(\".\")[0]}/p-{cqn}.sparql', 'w') as f:\n",
    "                        f.write(f'SELECT DISTINCT ?x ?y WHERE {{?x <{k}> ?y.}}')\n",
    "                else:\n",
    "                    cqn = k.split('#')[-1].lower().split(\"/\")[-1]\n",
    "                    \n",
    "                    os.makedirs(f'/home/guilherme/Documents/kg/complex/prcqas/{ont_name}/{fs.split(\".\")[0]}', exist_ok=True)\n",
    "                    with open(f'/home/guilherme/Documents/kg/complex/prcqas/{ont_name}/{fs.split(\".\")[0]}/nc-{cqn}.sparql', 'w') as f:\n",
    "                        f.write(f'SELECT DISTINCT ?x WHERE {{?x a <{k}>.}}')\n",
    "                    \n",
    "    \n",
    "                    \n",
    "                "
   ],
   "id": "9ebb551f62880c30",
   "outputs": [
    {
     "data": {
      "text/plain": [
       "  0%|          | 0/16 [00:00<?, ?it/s]"
      ],
      "application/vnd.jupyter.widget-view+json": {
       "version_major": 2,
       "version_minor": 0,
       "model_id": "18e42e5d3d184fb280c5ad718eb875c2"
      }
     },
     "metadata": {},
     "output_type": "display_data"
    },
    {
     "data": {
      "text/plain": [
       "  0%|          | 0/5 [00:00<?, ?it/s]"
      ],
      "application/vnd.jupyter.widget-view+json": {
       "version_major": 2,
       "version_minor": 0,
       "model_id": "d6d4c4f56e3f4ea99a7cfc57c7e18f32"
      }
     },
     "metadata": {},
     "output_type": "display_data"
    },
    {
     "data": {
      "text/plain": [
       "  0%|          | 0/2 [00:00<?, ?it/s]"
      ],
      "application/vnd.jupyter.widget-view+json": {
       "version_major": 2,
       "version_minor": 0,
       "model_id": "17a9ec3c01d7417a8a70b93ac2e14b06"
      }
     },
     "metadata": {},
     "output_type": "display_data"
    },
    {
     "data": {
      "text/plain": [
       "  0%|          | 0/6 [00:00<?, ?it/s]"
      ],
      "application/vnd.jupyter.widget-view+json": {
       "version_major": 2,
       "version_minor": 0,
       "model_id": "663059c010bc4413ac044f2ceda0abd6"
      }
     },
     "metadata": {},
     "output_type": "display_data"
    },
    {
     "data": {
      "text/plain": [
       "  0%|          | 0/4 [00:00<?, ?it/s]"
      ],
      "application/vnd.jupyter.widget-view+json": {
       "version_major": 2,
       "version_minor": 0,
       "model_id": "e3db7fe287e24393a41e84f3d4de1be0"
      }
     },
     "metadata": {},
     "output_type": "display_data"
    }
   ],
   "execution_count": 3
  }
 ],
 "metadata": {
  "kernelspec": {
   "display_name": "Python 3",
   "language": "python",
   "name": "python3"
  },
  "language_info": {
   "codemirror_mode": {
    "name": "ipython",
    "version": 2
   },
   "file_extension": ".py",
   "mimetype": "text/x-python",
   "name": "python",
   "nbconvert_exporter": "python",
   "pygments_lexer": "ipython2",
   "version": "2.7.6"
  }
 },
 "nbformat": 4,
 "nbformat_minor": 5
}
