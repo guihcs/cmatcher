{
 "cells": [
  {
   "cell_type": "code",
   "id": "initial_id",
   "metadata": {
    "collapsed": true,
    "ExecuteTime": {
     "end_time": "2024-07-01T15:24:04.218536Z",
     "start_time": "2024-07-01T15:23:20.506318Z"
    }
   },
   "source": [
    "from rdflib import Graph\n",
    "from rdflib.term import URIRef, BNode, Literal\n",
    "from rdflib.namespace import RDF, RDFS, OWL, XSD\n",
    "from transformers import AutoTokenizer"
   ],
   "outputs": [],
   "execution_count": 2
  },
  {
   "metadata": {
    "ExecuteTime": {
     "end_time": "2024-07-01T15:24:05.063586Z",
     "start_time": "2024-07-01T15:24:04.219957Z"
    }
   },
   "cell_type": "code",
   "source": [
    "model_id = \"meta-llama/Meta-Llama-3-8B-Instruct\"\n",
    "tokenizer = AutoTokenizer.from_pretrained(model_id)\n"
   ],
   "id": "cef025912c274f97",
   "outputs": [
    {
     "name": "stderr",
     "output_type": "stream",
     "text": [
      "Special tokens have been added in the vocabulary, make sure the associated word embeddings are fine-tuned or trained.\n"
     ]
    }
   ],
   "execution_count": 3
  },
  {
   "metadata": {
    "ExecuteTime": {
     "end_time": "2024-07-01T15:24:05.563332Z",
     "start_time": "2024-07-01T15:24:05.064477Z"
    }
   },
   "cell_type": "code",
   "source": [
    "g1 = Graph().parse('/projets/melodi/gsantoss/data/oaei/tracks/complex/geolink/rdfgmo.rdf')\n",
    "g2 = Graph().parse('/projets/melodi/gsantoss/data/oaei/tracks/complex/geolink/rdfgbo.rdf')"
   ],
   "id": "9b8141d681b7489d",
   "outputs": [],
   "execution_count": 4
  },
  {
   "metadata": {
    "ExecuteTime": {
     "end_time": "2024-07-01T15:24:06.874315Z",
     "start_time": "2024-07-01T15:24:05.564496Z"
    }
   },
   "cell_type": "code",
   "source": [
    "formats = ['ttl', 'xml', 'json-ld', 'nt', 'n3', 'trig']\n",
    "\n",
    "for f in formats:\n",
    "    print(f, 'g1: ', len(tokenizer.tokenize(g1.serialize(format=f))), 'g2: ', len(tokenizer.tokenize(g2.serialize(format=f))))"
   ],
   "id": "75fb7a7470fc27cd",
   "outputs": [
    {
     "name": "stdout",
     "output_type": "stream",
     "text": [
      "ttl g1:  14364 g2:  12304\n",
      "xml g1:  46131 g2:  44769\n",
      "json-ld g1:  56787 g2:  44566\n",
      "nt g1:  70221 g2:  64940\n",
      "n3 g1:  14364 g2:  12304\n",
      "trig g1:  24954 g2:  23083\n"
     ]
    }
   ],
   "execution_count": 5
  },
  {
   "metadata": {
    "ExecuteTime": {
     "end_time": "2024-07-01T15:42:54.615312Z",
     "start_time": "2024-07-01T15:42:54.609349Z"
    }
   },
   "cell_type": "code",
   "source": [
    "em = {}\n",
    "i = 0\n",
    "\n",
    "es = []\n",
    "for s, p, o in g1:\n",
    "    if s not in em:\n",
    "        em[s] = 'i'\n",
    "        i += 1\n",
    "    if p not in em:\n",
    "        em[p] = 'i'\n",
    "        i += 1\n",
    "    if o not in em:\n",
    "        em[o] = 'i'\n",
    "        i += 1\n",
    "    es.append((em[s], em[p], em[o]))"
   ],
   "id": "1263924934eb2dd8",
   "outputs": [],
   "execution_count": 24
  },
  {
   "metadata": {
    "ExecuteTime": {
     "end_time": "2024-07-01T15:42:55.095580Z",
     "start_time": "2024-07-01T15:42:55.092553Z"
    }
   },
   "cell_type": "code",
   "source": [
    "res = []\n",
    "\n",
    "for i, v in em.items():\n",
    "    fn = i.replace('\\n', '\\\\n')\n",
    "    \n",
    "    res.append(f'{v}: {fn}\\n')\n",
    "    \n",
    "for s, p, o in es:\n",
    "    res.append(f'{s} {p} {o}\\n')"
   ],
   "id": "1102549b70f798ca",
   "outputs": [],
   "execution_count": 25
  },
  {
   "metadata": {
    "ExecuteTime": {
     "end_time": "2024-07-01T15:42:55.750167Z",
     "start_time": "2024-07-01T15:42:55.722700Z"
    }
   },
   "cell_type": "code",
   "source": "print(len(tokenizer.tokenize(''.join(res))))",
   "id": "d34b81e3cb1fe5c3",
   "outputs": [
    {
     "name": "stdout",
     "output_type": "stream",
     "text": [
      "16492\n"
     ]
    }
   ],
   "execution_count": 26
  },
  {
   "metadata": {},
   "cell_type": "code",
   "outputs": [],
   "execution_count": null,
   "source": "",
   "id": "15294b789592145a"
  }
 ],
 "metadata": {
  "kernelspec": {
   "display_name": "Python (myenv)",
   "language": "python",
   "name": "myenv"
  },
  "language_info": {
   "codemirror_mode": {
    "name": "ipython",
    "version": 2
   },
   "file_extension": ".py",
   "mimetype": "text/x-python",
   "name": "python",
   "nbconvert_exporter": "python",
   "pygments_lexer": "ipython2",
   "version": "2.7.6"
  }
 },
 "nbformat": 4,
 "nbformat_minor": 5
}
