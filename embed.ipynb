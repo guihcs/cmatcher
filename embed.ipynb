{
 "cells": [
  {
   "cell_type": "code",
   "source": [
    "import os\n",
    "from rdflib import Graph, BNode\n",
    "from om.ont import tokenize\n",
    "import itertools\n",
    "from tqdm.auto import tqdm\n",
    "from transformers import AutoTokenizer, AutoModel\n",
    "import torch\n",
    "from torch.utils.data import DataLoader, TensorDataset\n",
    "\n",
    "import re"
   ],
   "metadata": {
    "collapsed": false,
    "ExecuteTime": {
     "end_time": "2024-04-10T01:58:04.325374Z",
     "start_time": "2024-04-10T01:58:04.295683Z"
    }
   },
   "id": "71c0c9548ebba93f",
   "execution_count": 3,
   "outputs": []
  },
  {
   "cell_type": "code",
   "source": [
    "os.environ[\"TOKENIZERS_PARALLELISM\"] = \"false\"\n"
   ],
   "metadata": {
    "collapsed": false,
    "ExecuteTime": {
     "end_time": "2024-04-10T01:58:04.451555Z",
     "start_time": "2024-04-10T01:58:04.330807Z"
    }
   },
   "id": "b37b6c1a9290139e",
   "execution_count": 4,
   "outputs": []
  },
  {
   "cell_type": "code",
   "source": [
    "def average_pool(last_hidden_states, attention_mask):\n",
    "    last_hidden = last_hidden_states.masked_fill(~attention_mask[..., None].bool(), 0.0)\n",
    "    return last_hidden.sum(dim=1) / attention_mask.sum(dim=1)[..., None]"
   ],
   "metadata": {
    "collapsed": false,
    "ExecuteTime": {
     "end_time": "2024-04-10T01:58:04.472735Z",
     "start_time": "2024-04-10T01:58:04.454760Z"
    }
   },
   "id": "7e0116336b041dde",
   "execution_count": 5,
   "outputs": []
  },
  {
   "cell_type": "code",
   "source": [
    "\n",
    "\n",
    "def batched(iterable, n):\n",
    "    # batched('ABCDEFG', 3) --> ABC DEF G\n",
    "    if n < 1:\n",
    "        raise ValueError('n must be at least one')\n",
    "    it = iter(iterable)\n",
    "    while batch := tuple(itertools.islice(it, n)):\n",
    "        yield batch"
   ],
   "metadata": {
    "collapsed": false,
    "ExecuteTime": {
     "end_time": "2024-04-10T01:58:04.494792Z",
     "start_time": "2024-04-10T01:58:04.475729Z"
    }
   },
   "id": "f17c9edbc4e987da",
   "execution_count": 6,
   "outputs": []
  },
  {
   "cell_type": "code",
   "source": [
    "base_path = '/projets/melodi/gsantoss/data/oaei/tracks/taxon/ont'\n",
    "out_base = '/projets/melodi/gsantoss/canarde/canard_emb_tax'"
   ],
   "metadata": {
    "collapsed": false,
    "ExecuteTime": {
     "end_time": "2024-04-10T01:58:04.514674Z",
     "start_time": "2024-04-10T01:58:04.498136Z"
    }
   },
   "id": "6528d8d4964b7aa8",
   "execution_count": 7,
   "outputs": []
  },
  {
   "cell_type": "code",
   "source": "models = [('GritLM/GritLM-7B', 'gritlm-7b'), ('infgrad/stella-base-en-v2', 'stella-base')]",
   "metadata": {
    "collapsed": false,
    "ExecuteTime": {
     "end_time": "2024-04-10T01:58:04.537015Z",
     "start_time": "2024-04-10T01:58:04.517851Z"
    }
   },
   "id": "ce2f8c021a3ad2a6",
   "execution_count": 8,
   "outputs": []
  },
  {
   "cell_type": "code",
   "source": [
    "\n",
    "for md, mn in tqdm(models):\n",
    "\n",
    "    tokenizer = AutoTokenizer.from_pretrained(md)\n",
    "    if tokenizer.pad_token is None:\n",
    "        tokenizer.pad_token = tokenizer.eos_token\n",
    "    \n",
    "    model = AutoModel.from_pretrained(md)\n",
    "    if mn == 'gritlm-7b':\n",
    "        model.half()\n",
    "    model.eval()\n",
    "    model.cuda(0)\n",
    "    \n",
    "    \n",
    "    for p, d, fs in os.walk(base_path):\n",
    "        for f in tqdm(fs):\n",
    "            if f.endswith('.owl'):\n",
    "                if mn == 'gritlm-7b' and f in {'agronomicTaxon.owl', 'dbpedia-light.owl'}:\n",
    "                    continue\n",
    "                ont_name = f\n",
    "                print(f)\n",
    "                g = Graph().parse(os.path.join(p, f))\n",
    "                \n",
    "                subs = set(g.subjects())\n",
    "                props = set(g.predicates())\n",
    "                objs = set(g.objects())\n",
    "                \n",
    "                ks = []\n",
    "                sents = []\n",
    "                \n",
    "                for s in subs.union(props, objs):\n",
    "                \n",
    "                    if type(s) == BNode:\n",
    "                        continue\n",
    "                        \n",
    "                    \n",
    "                    if s.startswith('http://'):\n",
    "                        txt = ' '.join(tokenize(s.split('#')[-1]))\n",
    "                    else:\n",
    "                        txt = s\n",
    "                        \n",
    "                    ks.append(re.sub(r'\\n+', ' ', s))\n",
    "                    sents.append(txt)\n",
    "                    \n",
    "                encoded_input = tokenizer(sents, padding=\"longest\", return_tensors=\"pt\", max_length=512, truncation=True)\n",
    "                \n",
    "                embs = []\n",
    "    \n",
    "                for i, a in tqdm(DataLoader(TensorDataset(encoded_input['input_ids'], encoded_input['attention_mask']), batch_size=2)):\n",
    "                    with torch.no_grad():\n",
    "                        outputs = model(input_ids=i.cuda(0), attention_mask=a.cuda(0))\n",
    "                        embeddings = average_pool(outputs.last_hidden_state, a.cuda(0))\n",
    "                        sentence_embeddings = torch.nn.functional.normalize(embeddings, p=2, dim=1)\n",
    "                        embs.extend(sentence_embeddings.cpu())\n",
    "                \n",
    "                embs = torch.stack(embs)\n",
    "                embl = embs.tolist()\n",
    "                eln = []\n",
    "                for l in embl:\n",
    "                    eln.append(' '.join([str(v) for v in l]))\n",
    "                    \n",
    "                with open(os.path.join(out_base, f'{ont_name}-{mn}'), 'w') as f:\n",
    "                    f.write(f'{len(embs)}\\n')\n",
    "                    \n",
    "                    f.writelines([f'{k}\\n' for k in ks])\n",
    "                    f.writelines([f'{l}\\n' for l in eln])"
   ],
   "metadata": {
    "collapsed": false,
    "ExecuteTime": {
     "end_time": "2024-04-10T06:53:28.848058Z",
     "start_time": "2024-04-10T03:01:25.240804Z"
    }
   },
   "id": "b9f0533e20a24e1e",
   "execution_count": 11,
   "outputs": []
  },
  {
   "metadata": {},
   "cell_type": "code",
   "execution_count": null,
   "source": "",
   "id": "b367ff220b99f70b",
   "outputs": []
  }
 ],
 "metadata": {
  "kernelspec": {
   "name": "myenv",
   "language": "python",
   "display_name": "myenv"
  },
  "language_info": {
   "codemirror_mode": {
    "name": "ipython",
    "version": 2
   },
   "file_extension": ".py",
   "mimetype": "text/x-python",
   "name": "python",
   "nbconvert_exporter": "python",
   "pygments_lexer": "ipython2",
   "version": "2.7.6"
  }
 },
 "nbformat": 4,
 "nbformat_minor": 5
}
