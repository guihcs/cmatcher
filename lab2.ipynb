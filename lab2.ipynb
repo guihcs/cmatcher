{
 "cells": [
  {
   "cell_type": "code",
   "id": "initial_id",
   "metadata": {
    "collapsed": true,
    "ExecuteTime": {
     "end_time": "2024-05-15T21:56:22.228483Z",
     "start_time": "2024-05-15T21:56:21.746181Z"
    }
   },
   "source": [
    "from rdflib import Graph\n",
    "from rdflib.term import URIRef, Literal, BNode\n",
    "from rdflib.namespace import RDF, RDFS, OWL, XSD\n",
    "import os\n",
    "\n",
    "import tiktoken\n",
    "import pandas as pd"
   ],
   "outputs": [],
   "execution_count": 29
  },
  {
   "metadata": {
    "ExecuteTime": {
     "end_time": "2024-05-15T21:56:23.818078Z",
     "start_time": "2024-05-15T21:56:23.815455Z"
    }
   },
   "cell_type": "code",
   "source": "enc = tiktoken.encoding_for_model(\"gpt-4\")\n",
   "id": "90662917aa167698",
   "outputs": [],
   "execution_count": 30
  },
  {
   "metadata": {
    "ExecuteTime": {
     "end_time": "2024-05-15T22:27:05.869776Z",
     "start_time": "2024-05-15T22:20:45.504157Z"
    }
   },
   "cell_type": "code",
   "source": [
    "paths = {\n",
    "    'conference': '/home/guilherme/Documents/kg/complex/conference/ont',\n",
    "    'populated_conference': '/home/guilherme/Documents/kg/complex/conference_100/ont',\n",
    "    'geolink': '/home/guilherme/Documents/kg/complex/geolink',\n",
    "    'hydrography': '/home/guilherme/Documents/kg/complex/hydrography_ontology/ontology',\n",
    "    'taxon': '/home/guilherme/Documents/kg/complex/taxon/ont'\n",
    "}\n",
    "\n",
    "data = []\n",
    "\n",
    "for k, v in paths.items():\n",
    "    \n",
    "    for p, d, f in os.walk(v):\n",
    "        for fs in f:\n",
    "            if not fs.endswith('.owl') and not fs.endswith('.rdf'):\n",
    "                continue\n",
    "            \n",
    "            with open(os.path.join(p, fs), 'r') as f:\n",
    "                tokens = len(enc.encode(f.read()))\n",
    "                \n",
    "            g = Graph().parse(os.path.join(p, fs))\n",
    "            \n",
    "            triples = len(g)\n",
    "            \n",
    "            \n",
    "            sbj = set(g.subjects())\n",
    "            \n",
    "            subjects = len(sbj)\n",
    "            \n",
    "            bnodes = 0\n",
    "            classes = 0\n",
    "            properties = 0\n",
    "            instances = 0\n",
    "            \n",
    "            \n",
    "            for s in sbj:\n",
    "                \n",
    "                if type(s) == BNode:\n",
    "                    bnodes += 1\n",
    "                    continue\n",
    "                \n",
    "                tp = g.value(s, RDF.type)\n",
    "                            \n",
    "                if tp is None:\n",
    "                    continue\n",
    "                    \n",
    "                if type(tp) == Literal:\n",
    "                    instances += 1\n",
    "                \n",
    "                elif tp == OWL.Class:\n",
    "                    classes += 1\n",
    "                    continue\n",
    "                \n",
    "                elif type(tp) == BNode or g.namespace_manager.qname(tp).split(':')[0] == 'owl':\n",
    "                    properties += 1\n",
    "                    continue\n",
    "                \n",
    "                else:\n",
    "                    instances += 1\n",
    "                    continue\n",
    "                \n",
    "                \n",
    "            data.append([f'{k}/{fs}', tokens, triples, subjects, bnodes, classes, properties, instances])\n",
    "            \n",
    "\n",
    "\n",
    "df = pd.DataFrame(data, columns=['file', 'tokens', 'triples', 'subjects', 'bnodes', 'classes', 'properties', 'instances'])"
   ],
   "id": "73ee99471976ded2",
   "outputs": [],
   "execution_count": 38
  },
  {
   "metadata": {
    "ExecuteTime": {
     "end_time": "2024-05-15T22:27:05.878027Z",
     "start_time": "2024-05-15T22:27:05.871587Z"
    }
   },
   "cell_type": "code",
   "source": "df.to_csv('complex_ontologies.csv', index=False)",
   "id": "c1daf15ec507280c",
   "outputs": [],
   "execution_count": 39
  },
  {
   "metadata": {},
   "cell_type": "code",
   "outputs": [],
   "execution_count": null,
   "source": "",
   "id": "3b0bf307f2754ad"
  }
 ],
 "metadata": {
  "kernelspec": {
   "display_name": "Python 3",
   "language": "python",
   "name": "python3"
  },
  "language_info": {
   "codemirror_mode": {
    "name": "ipython",
    "version": 2
   },
   "file_extension": ".py",
   "mimetype": "text/x-python",
   "name": "python",
   "nbconvert_exporter": "python",
   "pygments_lexer": "ipython2",
   "version": "2.7.6"
  }
 },
 "nbformat": 4,
 "nbformat_minor": 5
}
