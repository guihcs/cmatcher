{
 "cells": [
  {
   "cell_type": "code",
   "id": "initial_id",
   "metadata": {
    "collapsed": true,
    "ExecuteTime": {
     "end_time": "2024-09-12T12:48:34.742385Z",
     "start_time": "2024-09-12T12:48:31.274007Z"
    }
   },
   "source": [
    "from rdflib import Graph\n",
    "from cmatcher.module_search.pagerank import gen_pagerank_sparql_queries, page_rank\n",
    "from transformers import AutoTokenizer, AutoModel, BitsAndBytesConfig, AutoModelForCausalLM\n",
    "import torch\n",
    "import torch.nn as nn\n",
    "from rdflib.namespace import RDF, OWL\n",
    "from cmatcher.rag.rag_reduce import ont_query_reduce, reduce_ont, get_detailed_instruct, gen_doc\n",
    "from cmatcher.rag.prompt_gen import gen_prompt\n",
    "from cmatcher.rag.prompt_to_edoal import match\n",
    "from cmatcher.repair.edoal import merge_edoals\n",
    "from tqdm.auto import tqdm\n",
    "import gc\n",
    "import dill\n",
    "import subprocess\n",
    "import os\n",
    "import re\n",
    "import random\n",
    "import itertools\n",
    "import torch.nn.functional as F\n",
    "\n",
    "\n",
    "# define deterministic behavior\n",
    "random.seed(0)\n",
    "torch.manual_seed(0)\n",
    "torch.cuda.manual_seed(0)"
   ],
   "outputs": [],
   "execution_count": 1
  },
  {
   "metadata": {
    "ExecuteTime": {
     "end_time": "2024-09-12T12:48:34.832051Z",
     "start_time": "2024-09-12T12:48:34.829211Z"
    }
   },
   "cell_type": "code",
   "source": [
    "def batched(iterable, n):\n",
    "    # batched('ABCDEFG', 3) → ABC DEF G\n",
    "    if n < 1:\n",
    "        raise ValueError('n must be at least one')\n",
    "    iterator = iter(iterable)\n",
    "    while batch := tuple(itertools.islice(iterator, n)):\n",
    "        yield batch"
   ],
   "id": "14e3f49296644390",
   "outputs": [],
   "execution_count": 2
  },
  {
   "metadata": {
    "ExecuteTime": {
     "end_time": "2024-09-12T12:48:35.030903Z",
     "start_time": "2024-09-12T12:48:35.026574Z"
    }
   },
   "cell_type": "code",
   "source": [
    "def gen_pagerank_sparql_queries(g, num_iterations=10, damping_factor=0.8, threshold=0.4, max_entities=30):\n",
    "\n",
    "    ents = set(g.subjects())\n",
    "    ranks = page_rank(g, ents, num_iterations=num_iterations, damping_factor=damping_factor)\n",
    "\n",
    "    values = list(sorted(ranks.items(), key=lambda x: x[1], reverse=True))\n",
    "\n",
    "    _, bv = values[0]\n",
    "\n",
    "    fv = list(filter(lambda x: x[1] / bv > threshold, values))\n",
    "\n",
    "    queries = []\n",
    "\n",
    "    for k, v in fv[:max_entities]:\n",
    "        kv = g.value(k, RDF.type)\n",
    "        if kv is None:\n",
    "            continue\n",
    "        if kv == OWL.Class:\n",
    "            queries.append(f'SELECT DISTINCT ?x WHERE {{?x a <{k}>.}}')\n",
    "        elif 'property' in kv.lower():\n",
    "            queries.append(f'SELECT DISTINCT ?x ?y WHERE {{?x <{k}> ?y.}}')\n",
    "        else:\n",
    "            queries.append(f'SELECT DISTINCT ?x WHERE {{?x a <{k}>.}}')\n",
    "\n",
    "    return queries"
   ],
   "id": "2b4ea995886c559a",
   "outputs": [],
   "execution_count": 3
  },
  {
   "metadata": {
    "ExecuteTime": {
     "end_time": "2024-09-12T12:48:35.060842Z",
     "start_time": "2024-09-12T12:48:35.054428Z"
    }
   },
   "cell_type": "code",
   "source": [
    "def embed(model, text, instruction='', batch_size=8, max_length=4096):\n",
    "    with torch.no_grad():\n",
    "        embeddings = []\n",
    "        for t in tqdm(list(batched(text, batch_size))):\n",
    "            embeddings.append(model.encode(t, instruction=instruction, max_length=max_length))\n",
    "        return torch.cat(embeddings, dim=0)\n",
    "\n",
    "def get_ont_docs(g, max_entities=15):\n",
    "    ls = list(filter(lambda x: (x, RDF.first, None) not in g, set(g.subjects())))\n",
    "    passages = []\n",
    "    for s in ls:\n",
    "        passages.append(gen_doc(s, g, max_entities=max_entities))\n",
    "    \n",
    "    return ls, passages\n",
    "\n",
    "def gen_prompts(model_id, o1, o2, sample1, sample2, instruction='', top_n=2, i_max_depth=1, o_max_depth=2):\n",
    "    quantization_config = BitsAndBytesConfig(\n",
    "        load_in_4bit=True,\n",
    "        bnb_4bit_compute_dtype=torch.bfloat16,\n",
    "        bnb_4bit_use_double_quant=True,\n",
    "        bnb_4bit_quant_type=\"nf4\"\n",
    "    )\n",
    "    model = AutoModel.from_pretrained(\n",
    "        model_id,\n",
    "        quantization_config=quantization_config,\n",
    "        trust_remote_code=True,\n",
    "        device_map='auto',\n",
    "    )\n",
    "    model.eval()\n",
    "\n",
    "    queries1 = gen_pagerank_sparql_queries(o1)\n",
    "    \n",
    "    ls1, o1_docs = get_ont_docs(o1)\n",
    "    ls2, o2_docs = get_ont_docs(o2)\n",
    "        \n",
    "    embs1 = embed(model, o1_docs)\n",
    "    embs2 = embed(model, o2_docs)\n",
    "    \n",
    "    queries_embs = embed(model, queries1, instruction=instruction)\n",
    "    \n",
    "    sim1 = queries_embs @ embs1.T\n",
    "    sim2 = queries_embs @ embs2.T\n",
    "    \n",
    "    prompts = []\n",
    "    \n",
    "    for i in range(len(queries1)):\n",
    "        \n",
    "        module1 = reduce_ont(ls1, sim1[i, :].unsqueeze(0), o1, top_n=top_n, i_max_depth=i_max_depth, o_max_depth=o_max_depth)\n",
    "        module2 = reduce_ont(ls2, sim2[i, :].unsqueeze(0), o2, top_n=top_n, i_max_depth=i_max_depth, o_max_depth=o_max_depth)\n",
    "    \n",
    "        prompts.append(gen_prompt(module1, module2, None, sample1, sample2))\n",
    "    \n",
    "    return prompts\n",
    "\n"
   ],
   "id": "e242367dcb140d27",
   "outputs": [],
   "execution_count": 4
  },
  {
   "metadata": {
    "ExecuteTime": {
     "end_time": "2024-09-12T12:48:35.165024Z",
     "start_time": "2024-09-12T12:48:35.088327Z"
    }
   },
   "cell_type": "code",
   "source": [
    "base_path = '/projets/melodi/gsantoss/data/complex/conference/ont/'\n",
    "o1 = Graph().parse(base_path + 'cmt.owl')\n",
    "o2 = Graph().parse(base_path + 'conference.owl')\n",
    "\n",
    "instruction = 'Given the following SPARQL query, retrieve relevant entities that are related to the query'\n",
    "\n",
    "with open('cmatcher/prompt_examples/sample1.txt', 'r') as f:\n",
    "    sample1 = f.read()\n",
    "\n",
    "with open('cmatcher/prompt_examples/sample2.txt', 'r') as f:\n",
    "    sample2 = f.read()\n",
    "\n"
   ],
   "id": "edd933abc5592fbd",
   "outputs": [],
   "execution_count": 5
  },
  {
   "metadata": {
    "ExecuteTime": {
     "start_time": "2024-09-12T12:48:51.843086Z"
    }
   },
   "cell_type": "code",
   "source": [
    "model_id = 'nvidia/NV-Embed-v2'\n",
    "prompts = gen_prompts(model_id, o1, o2, sample1, sample2, instruction=instruction)\n",
    "\n",
    "with open('/projets/melodi/gsantoss/tmp/prompts.pkl', 'wb') as f:\n",
    "    dill.dump(prompts, f)"
   ],
   "id": "d3942a111a60857b",
   "outputs": [
    {
     "data": {
      "text/plain": [
       "Loading checkpoint shards:   0%|          | 0/4 [00:00<?, ?it/s]"
      ],
      "application/vnd.jupyter.widget-view+json": {
       "version_major": 2,
       "version_minor": 0,
       "model_id": "8bcd829020784f8fa67dd1208189ef89"
      }
     },
     "metadata": {},
     "output_type": "display_data"
    },
    {
     "data": {
      "text/plain": [
       "  0%|          | 0/13 [00:00<?, ?it/s]"
      ],
      "application/vnd.jupyter.widget-view+json": {
       "version_major": 2,
       "version_minor": 0,
       "model_id": "c76787ee770c44029c8f7b1403fd600b"
      }
     },
     "metadata": {},
     "output_type": "display_data"
    },
    {
     "name": "stderr",
     "output_type": "stream",
     "text": [
      "/users/melodi/gsantoss/.cache/huggingface/modules/transformers_modules/nvidia/NV-Embed-v2/2c0dadbff73bef761f7d046c27e45ef70ddcae94/modeling_nvembed.py:349: UserWarning: To copy construct from a tensor, it is recommended to use sourceTensor.clone().detach() or sourceTensor.clone().detach().requires_grad_(True), rather than torch.tensor(sourceTensor).\n",
      "  'input_ids': torch.tensor(batch_dict.get('input_ids').to(batch_dict.get('input_ids')).long()),\n",
      "/projets/melodi/gsantoss/miniconda3/envs/myenv/lib/python3.11/site-packages/torch/backends/cuda/__init__.py:342: FutureWarning: torch.backends.cuda.sdp_kernel() is deprecated. In the future, this context manager will be removed. Please see, torch.nn.attention.sdpa_kernel() for the new context manager, with updated signature.\n",
      "  warnings.warn(\n",
      "\n",
      "KeyboardInterrupt\n",
      "\n"
     ]
    }
   ],
   "execution_count": 6
  },
  {
   "metadata": {
    "ExecuteTime": {
     "end_time": "2024-09-12T12:49:26.887202335Z",
     "start_time": "2024-09-12T12:00:07.888171Z"
    }
   },
   "cell_type": "code",
   "source": [
    "\n",
    "gc.collect()\n",
    "torch.cuda.empty_cache()"
   ],
   "id": "7457480e85e65b4e",
   "outputs": [],
   "execution_count": 7
  },
  {
   "metadata": {
    "ExecuteTime": {
     "end_time": "2024-09-12T12:49:26.888931644Z",
     "start_time": "2024-09-11T19:04:42.454728Z"
    }
   },
   "cell_type": "code",
   "source": [
    "with open('/projets/melodi/gsantoss/tmp/prompts.pkl', 'rb') as f:\n",
    "    prompts = dill.load(f)"
   ],
   "id": "4bdb7561b108a0de",
   "outputs": [],
   "execution_count": 9
  },
  {
   "metadata": {},
   "cell_type": "code",
   "outputs": [],
   "execution_count": null,
   "source": [
    "def match(txt, tokenizer, model):\n",
    "    messages = [{\"role\": \"user\", \"content\": txt}, ]\n",
    "\n",
    "    input_ids = tokenizer.apply_chat_template(\n",
    "        messages,\n",
    "        add_generation_prompt=True,\n",
    "        return_tensors=\"pt\"\n",
    "    ).to(model.device)\n",
    "\n",
    "    terminators = [\n",
    "        tokenizer.eos_token_id,\n",
    "        tokenizer.convert_tokens_to_ids(\"<|eot_id|>\")\n",
    "    ]\n",
    "\n",
    "    with torch.no_grad():\n",
    "        outputs = model.generate(\n",
    "            input_ids,\n",
    "            max_new_tokens=2 * 1024,\n",
    "            eos_token_id=terminators,\n",
    "            do_sample=False,\n",
    "            temperature=0,\n",
    "            top_p=0,\n",
    "\n",
    "        )\n",
    "    response = outputs[0][input_ids.shape[-1]:]\n",
    "    return tokenizer.decode(response, skip_special_tokens=True)"
   ],
   "id": "23c4714fd2d19314"
  },
  {
   "metadata": {},
   "cell_type": "code",
   "outputs": [],
   "execution_count": null,
   "source": [
    "model_id = \"meta-llama/Meta-Llama-3-8B-Instruct\"\n",
    "# model_id = \"meta-llama/Meta-Llama-3.1-8B-Instruct\"\n",
    "\n",
    "llm_tokenizer = AutoTokenizer.from_pretrained(model_id)\n",
    "\n",
    "llm_quantization_config = BitsAndBytesConfig(\n",
    "    load_in_4bit=True,\n",
    "    bnb_4bit_compute_dtype=torch.bfloat16,\n",
    "    bnb_4bit_use_double_quant=True,\n",
    "    bnb_4bit_quant_type=\"nf4\"\n",
    ")\n",
    "\n",
    "llm_model = AutoModelForCausalLM.from_pretrained(\n",
    "    model_id,\n",
    "    device_map='auto',\n",
    "    quantization_config=llm_quantization_config,\n",
    "\n",
    ")\n",
    "llm_model.eval()"
   ],
   "id": "233ef1dc7e36d4c3"
  },
  {
   "metadata": {
    "ExecuteTime": {
     "end_time": "2024-09-12T12:49:26.890147990Z",
     "start_time": "2024-09-11T19:04:53.503704Z"
    }
   },
   "cell_type": "code",
   "source": [
    "outputs = []\n",
    "for prompt in tqdm(prompts):\n",
    "    outputs.append(match(prompt, llm_tokenizer, llm_model))\n",
    "    \n",
    "with open('/projets/melodi/gsantoss/tmp/outputs.pkl', 'wb') as f:\n",
    "    dill.dump(outputs, f)"
   ],
   "id": "21587d62a3e71fe0",
   "outputs": [
    {
     "data": {
      "text/plain": [
       "  0%|          | 0/9 [00:00<?, ?it/s]"
      ],
      "application/vnd.jupyter.widget-view+json": {
       "version_major": 2,
       "version_minor": 0,
       "model_id": "02008700125845868f66910446095665"
      }
     },
     "metadata": {},
     "output_type": "display_data"
    },
    {
     "name": "stderr",
     "output_type": "stream",
     "text": [
      "The attention mask and the pad token id were not set. As a consequence, you may observe unexpected behavior. Please pass your input's `attention_mask` to obtain reliable results.\n",
      "Setting `pad_token_id` to `eos_token_id`:128009 for open-end generation.\n",
      "The attention mask is not set and cannot be inferred from input because pad token is same as eos token.As a consequence, you may observe unexpected behavior. Please pass your input's `attention_mask` to obtain reliable results.\n",
      "The attention mask and the pad token id were not set. As a consequence, you may observe unexpected behavior. Please pass your input's `attention_mask` to obtain reliable results.\n",
      "Setting `pad_token_id` to `eos_token_id`:128009 for open-end generation.\n",
      "The attention mask and the pad token id were not set. As a consequence, you may observe unexpected behavior. Please pass your input's `attention_mask` to obtain reliable results.\n",
      "Setting `pad_token_id` to `eos_token_id`:128009 for open-end generation.\n",
      "The attention mask and the pad token id were not set. As a consequence, you may observe unexpected behavior. Please pass your input's `attention_mask` to obtain reliable results.\n",
      "Setting `pad_token_id` to `eos_token_id`:128009 for open-end generation.\n",
      "The attention mask and the pad token id were not set. As a consequence, you may observe unexpected behavior. Please pass your input's `attention_mask` to obtain reliable results.\n",
      "Setting `pad_token_id` to `eos_token_id`:128009 for open-end generation.\n",
      "The attention mask and the pad token id were not set. As a consequence, you may observe unexpected behavior. Please pass your input's `attention_mask` to obtain reliable results.\n",
      "Setting `pad_token_id` to `eos_token_id`:128009 for open-end generation.\n",
      "The attention mask and the pad token id were not set. As a consequence, you may observe unexpected behavior. Please pass your input's `attention_mask` to obtain reliable results.\n",
      "Setting `pad_token_id` to `eos_token_id`:128009 for open-end generation.\n",
      "The attention mask and the pad token id were not set. As a consequence, you may observe unexpected behavior. Please pass your input's `attention_mask` to obtain reliable results.\n",
      "Setting `pad_token_id` to `eos_token_id`:128009 for open-end generation.\n",
      "The attention mask and the pad token id were not set. As a consequence, you may observe unexpected behavior. Please pass your input's `attention_mask` to obtain reliable results.\n",
      "Setting `pad_token_id` to `eos_token_id`:128009 for open-end generation.\n"
     ]
    }
   ],
   "execution_count": 11
  },
  {
   "metadata": {
    "ExecuteTime": {
     "end_time": "2024-09-12T11:50:25.161732Z",
     "start_time": "2024-09-12T11:50:25.124831Z"
    }
   },
   "cell_type": "code",
   "source": [
    "with open('/projets/melodi/gsantoss/tmp/outputs.pkl', 'rb') as f:\n",
    "    outputs = dill.load(f)"
   ],
   "id": "23c2ddd19f49f324",
   "outputs": [],
   "execution_count": 10
  },
  {
   "metadata": {
    "ExecuteTime": {
     "end_time": "2024-09-12T11:50:27.174652Z",
     "start_time": "2024-09-12T11:50:26.975914Z"
    }
   },
   "cell_type": "code",
   "source": [
    "\n",
    "final_edoal = merge_edoals(outputs)\n",
    "\n",
    "os.makedirs('/projets/melodi/gsantoss/tmp/cct1', exist_ok=True)\n",
    "with open('/projets/melodi/gsantoss/tmp/cct1/final_edoal.edoal', 'w') as f:\n",
    "    f.write(final_edoal)"
   ],
   "id": "265722672f41dfb4",
   "outputs": [],
   "execution_count": 11
  },
  {
   "metadata": {
    "ExecuteTime": {
     "end_time": "2024-09-12T11:50:28.433480Z",
     "start_time": "2024-09-12T11:50:28.430636Z"
    }
   },
   "cell_type": "code",
   "source": "print(final_edoal[:700])",
   "id": "5f3ac4aa6e47429b",
   "outputs": [
    {
     "name": "stdout",
     "output_type": "stream",
     "text": [
      "<?xml version=\"1.0\" encoding=\"UTF-8\"?>\n",
      "<rdf:RDF xmlns:rdf=\"http://www.w3.org/1999/02/22-rdf-syntax-ns#\" xmlns=\"http://knowledgeweb.semanticweb.org/heterogeneity/alignment#\" xmlns:alext=\"http://exmo.inrialpes.fr/align/ext/1.0/\" xmlns:align=\"http://knowledgeweb.semanticweb.org/heterogeneity/alignment#\" xmlns:edoal=\"http://ns.inria.org/edoal/1.0/#\" xmlns:xsd=\"http://www.w3.org/2001/XMLSchema#\">\n",
      "  <Alignment>\n",
      "    <xml>yes</xml>\n",
      "    <level>2EDOAL</level>\n",
      "    <type>**</type>\n",
      "    <onto1>\n",
      "      <Ontology rdf:about=\"http://cmt#name\"><location>http://cmt#name</location><formalism><Formalism align:name=\"owl\" align:uri=\"http://www.w3.org/TR/owl-guide/\"/></formalism></Ontology>\n",
      "    </onto1>\n",
      "    <onto2>\n",
      " \n"
     ]
    }
   ],
   "execution_count": 12
  },
  {
   "metadata": {
    "ExecuteTime": {
     "end_time": "2024-09-12T11:50:42.526759Z",
     "start_time": "2024-09-12T11:50:30.640457Z"
    }
   },
   "cell_type": "code",
   "source": [
    "#  -jar  $no1 $no2 $o1 $o2 $mo $cqa $out1\n",
    "base_java = '/projets/melodi/gsantoss/canarde/jdk-21.0.1/bin/java'\n",
    "base_eval = '/projets/melodi/gsantoss/canarde/evaluator.jar'\n",
    "base_onts = '/projets/melodi/gsantoss/data/complex/conference_100/ont/'\n",
    "base_cqas = '/projets/melodi/gsantoss/data/complex/conference_100/CQAs/'\n",
    "base_al = '/projets/melodi/gsantoss/tmp/cct1'\n",
    "base_out = '/projets/melodi/gsantoss/tmp/ccres'\n",
    "\n",
    "os.makedirs(base_out, exist_ok=True)\n",
    "with subprocess.Popen([base_java, '-jar', base_eval, 'cmt', 'conference', base_onts + 'cmt.owl', base_onts + 'conference.owl', base_al, base_cqas, base_out]) as proc:\n",
    "    proc.communicate()\n"
   ],
   "id": "e63c7bc74ce55f3c",
   "outputs": [
    {
     "name": "stdout",
     "output_type": "stream",
     "text": [
      "Evaluator\n"
     ]
    }
   ],
   "execution_count": 13
  },
  {
   "metadata": {
    "ExecuteTime": {
     "end_time": "2024-09-12T11:50:42.808596Z",
     "start_time": "2024-09-12T11:50:42.649152Z"
    }
   },
   "cell_type": "code",
   "source": "!cat /projets/melodi/gsantoss/tmp/ccres/cmt_conference.csv",
   "id": "6a5fc499fe56c3d0",
   "outputs": [
    {
     "name": "stdout",
     "output_type": "stream",
     "text": [
      "final_edoal.edoal,CQAs,0.13793103448275862,0.20689655172413793,0.1724137931034483,0.20689655172413793,0.18733078232359773\r\n",
      "classical,recall-oriented,precision-oriented,overlap,query f-measure\r\n",
      "MEAN,CQAs,0.137931,0.206897,0.172414,0.206897,0.187331\r\n"
     ]
    }
   ],
   "execution_count": 14
  },
  {
   "metadata": {
    "ExecuteTime": {
     "end_time": "2024-09-11T20:52:30.335323Z",
     "start_time": "2024-09-11T20:52:30.332707Z"
    }
   },
   "cell_type": "code",
   "source": "",
   "id": "8a286fcc7238f736",
   "outputs": [],
   "execution_count": null
  }
 ],
 "metadata": {
  "kernelspec": {
   "display_name": "Python (myenv)",
   "language": "python",
   "name": "myenv"
  },
  "language_info": {
   "codemirror_mode": {
    "name": "ipython",
    "version": 2
   },
   "file_extension": ".py",
   "mimetype": "text/x-python",
   "name": "python",
   "nbconvert_exporter": "python",
   "pygments_lexer": "ipython2",
   "version": "2.7.6"
  }
 },
 "nbformat": 4,
 "nbformat_minor": 5
}
