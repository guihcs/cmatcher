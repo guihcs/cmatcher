{
 "cells": [
  {
   "cell_type": "code",
   "id": "initial_id",
   "metadata": {
    "collapsed": true,
    "ExecuteTime": {
     "end_time": "2024-09-06T14:07:26.351302Z",
     "start_time": "2024-09-06T14:07:23.461686Z"
    }
   },
   "source": [
    "from rdflib import Graph\n",
    "from cmatcher.module_search.pagerank import gen_pagerank_sparql_queries\n",
    "from transformers import AutoTokenizer, AutoModel, BitsAndBytesConfig, AutoModelForCausalLM\n",
    "import torch\n",
    "\n",
    "from cmatcher.rag.rag_reduce import ont_query_reduce"
   ],
   "outputs": [],
   "execution_count": 1
  },
  {
   "metadata": {
    "ExecuteTime": {
     "end_time": "2024-09-06T14:07:37.579196Z",
     "start_time": "2024-09-06T14:07:26.371376Z"
    }
   },
   "cell_type": "code",
   "source": [
    "tokenizer = AutoTokenizer.from_pretrained('Salesforce/SFR-Embedding-2_R')\n",
    "quantization_config = BitsAndBytesConfig(\n",
    "    load_in_4bit=True,\n",
    "    bnb_4bit_compute_dtype=torch.bfloat16,\n",
    "    bnb_4bit_use_double_quant=True,\n",
    "    bnb_4bit_quant_type=\"nf4\"\n",
    ")\n",
    "model = AutoModel.from_pretrained(\n",
    "    'Salesforce/SFR-Embedding-2_R',\n",
    "    quantization_config=quantization_config,\n",
    "    device_map='auto',\n",
    ")\n",
    "model.eval()"
   ],
   "id": "4a48acb844b675c5",
   "outputs": [
    {
     "data": {
      "text/plain": [
       "Loading checkpoint shards:   0%|          | 0/3 [00:00<?, ?it/s]"
      ],
      "application/vnd.jupyter.widget-view+json": {
       "version_major": 2,
       "version_minor": 0,
       "model_id": "50505dfca73a41cf8420e6d2941aad6f"
      }
     },
     "metadata": {},
     "output_type": "display_data"
    },
    {
     "data": {
      "text/plain": [
       "MistralModel(\n",
       "  (embed_tokens): Embedding(32000, 4096, padding_idx=2)\n",
       "  (layers): ModuleList(\n",
       "    (0-31): 32 x MistralDecoderLayer(\n",
       "      (self_attn): MistralSdpaAttention(\n",
       "        (q_proj): Linear4bit(in_features=4096, out_features=4096, bias=False)\n",
       "        (k_proj): Linear4bit(in_features=4096, out_features=1024, bias=False)\n",
       "        (v_proj): Linear4bit(in_features=4096, out_features=1024, bias=False)\n",
       "        (o_proj): Linear4bit(in_features=4096, out_features=4096, bias=False)\n",
       "        (rotary_emb): MistralRotaryEmbedding()\n",
       "      )\n",
       "      (mlp): MistralMLP(\n",
       "        (gate_proj): Linear4bit(in_features=4096, out_features=14336, bias=False)\n",
       "        (up_proj): Linear4bit(in_features=4096, out_features=14336, bias=False)\n",
       "        (down_proj): Linear4bit(in_features=14336, out_features=4096, bias=False)\n",
       "        (act_fn): SiLU()\n",
       "      )\n",
       "      (input_layernorm): MistralRMSNorm()\n",
       "      (post_attention_layernorm): MistralRMSNorm()\n",
       "    )\n",
       "  )\n",
       "  (norm): MistralRMSNorm()\n",
       ")"
      ]
     },
     "execution_count": 2,
     "metadata": {},
     "output_type": "execute_result"
    }
   ],
   "execution_count": 2
  },
  {
   "metadata": {
    "ExecuteTime": {
     "end_time": "2024-09-06T14:07:37.774667Z",
     "start_time": "2024-09-06T14:07:37.703422Z"
    }
   },
   "cell_type": "code",
   "source": [
    "base_path = '/projets/melodi/gsantoss/data/complex/conference/ont/'\n",
    "o1 = Graph().parse(base_path + 'cmt.owl')\n",
    "o2 = Graph().parse(base_path + 'conference.owl')"
   ],
   "id": "b7fc14c2300491d7",
   "outputs": [],
   "execution_count": 3
  },
  {
   "metadata": {
    "ExecuteTime": {
     "end_time": "2024-09-06T14:07:37.828633Z",
     "start_time": "2024-09-06T14:07:37.794120Z"
    }
   },
   "cell_type": "code",
   "source": [
    "\n",
    "queries1 = gen_pagerank_sparql_queries(o1)"
   ],
   "id": "edd933abc5592fbd",
   "outputs": [],
   "execution_count": 4
  },
  {
   "metadata": {
    "ExecuteTime": {
     "end_time": "2024-09-06T14:10:45.650620Z",
     "start_time": "2024-09-06T14:08:48.757062Z"
    }
   },
   "cell_type": "code",
   "source": [
    "prompt = 'Given the following SPARQL query, retrieve relevant entities that are related to the query'\n",
    "\n",
    "for query in queries1:\n",
    "    \n",
    "    module1 = ont_query_reduce(model, tokenizer, o1, query, prompt, max_entities=10, batch_size=2)\n",
    "    module2 = ont_query_reduce(model, tokenizer, o2, query, prompt, max_entities=10, batch_size=2)\n",
    "    \n",
    "    \n",
    "    break"
   ],
   "id": "499496853318bc5c",
   "outputs": [
    {
     "data": {
      "text/plain": [
       "  0%|          | 0/1 [00:00<?, ?it/s]"
      ],
      "application/vnd.jupyter.widget-view+json": {
       "version_major": 2,
       "version_minor": 0,
       "model_id": "67d4b57d4bf94087a16f0c09e67245ce"
      }
     },
     "metadata": {},
     "output_type": "display_data"
    },
    {
     "data": {
      "text/plain": [
       "  0%|          | 0/1 [00:00<?, ?it/s]"
      ],
      "application/vnd.jupyter.widget-view+json": {
       "version_major": 2,
       "version_minor": 0,
       "model_id": "655484d311a243bba080791c627d2a30"
      }
     },
     "metadata": {},
     "output_type": "display_data"
    },
    {
     "data": {
      "text/plain": [
       "  0%|          | 0/2 [00:00<?, ?it/s]"
      ],
      "application/vnd.jupyter.widget-view+json": {
       "version_major": 2,
       "version_minor": 0,
       "model_id": "d2212b19105143ef8f438342ef979151"
      }
     },
     "metadata": {},
     "output_type": "display_data"
    },
    {
     "data": {
      "text/plain": [
       "  0%|          | 0/1 [00:00<?, ?it/s]"
      ],
      "application/vnd.jupyter.widget-view+json": {
       "version_major": 2,
       "version_minor": 0,
       "model_id": "5ed068dd4355417ca1fe6116484d54ca"
      }
     },
     "metadata": {},
     "output_type": "display_data"
    },
    {
     "data": {
      "text/plain": [
       "  0%|          | 0/1 [00:00<?, ?it/s]"
      ],
      "application/vnd.jupyter.widget-view+json": {
       "version_major": 2,
       "version_minor": 0,
       "model_id": "836c3c5ca5a24c79be06a7d546a2433d"
      }
     },
     "metadata": {},
     "output_type": "display_data"
    },
    {
     "data": {
      "text/plain": [
       "  0%|          | 0/2 [00:00<?, ?it/s]"
      ],
      "application/vnd.jupyter.widget-view+json": {
       "version_major": 2,
       "version_minor": 0,
       "model_id": "2d66f402cb4243d2ad5c38862fb71224"
      }
     },
     "metadata": {},
     "output_type": "display_data"
    }
   ],
   "execution_count": 6
  },
  {
   "metadata": {
    "ExecuteTime": {
     "end_time": "2024-09-06T14:11:41.471937Z",
     "start_time": "2024-09-06T14:11:41.468640Z"
    }
   },
   "cell_type": "code",
   "source": "print(module1)",
   "id": "21587d62a3e71fe0",
   "outputs": [
    {
     "name": "stdout",
     "output_type": "stream",
     "text": [
      "@prefix owl: <http://www.w3.org/2002/07/owl#> .\n",
      "@prefix rdf: <http://www.w3.org/1999/02/22-rdf-syntax-ns#> .\n",
      "@prefix rdfs: <http://www.w3.org/2000/01/rdf-schema#> .\n",
      "@prefix xsd: <http://www.w3.org/2001/XMLSchema#> .\n",
      "\n",
      "<http://cmt#acceptsHardcopySubmissions> rdfs:domain <http://cmt#Conference> .\n",
      "\n",
      "<http://cmt#detailsEnteredBy> rdfs:domain <http://cmt#Conference> .\n",
      "\n",
      "<http://cmt#enableVirtualMeeting> rdfs:range <http://cmt#Conference> .\n",
      "\n",
      "<http://cmt#enterConferenceDetails> rdfs:range <http://cmt#Conference> .\n",
      "\n",
      "<http://cmt#enterReviewCriteria> rdfs:range <http://cmt#Conference> .\n",
      "\n",
      "<http://cmt#finalizePaperAssignment> rdfs:range <http://cmt#Conference> .\n",
      "\n",
      "<http://cmt#hardcopyMailingManifestsPrintedBy> rdfs:domain <http://cmt#Conference> .\n",
      "\n",
      "<http://cmt#logoURL> rdfs:domain <http://cmt#Conference> .\n",
      "\n",
      "<http://cmt#paperAssignmentFinalizedBy> rdfs:domain <http://cmt#Conference> .\n",
      "\n",
      "<http://cmt#paperAssignmentToolsRunBy> rdfs:domain <http://cmt#Conference> .\n",
      "\n",
      "<http://cmt#printHardcopyMailingManifests> rdfs:range <http://cmt#Conference> .\n",
      "\n",
      "<http://cmt#reviewCriteriaEnteredBy> rdfs:domain <http://cmt#Conference> .\n",
      "\n",
      "<http://cmt#reviewerBiddingStartedBy> rdfs:domain <http://cmt#Conference> .\n",
      "\n",
      "<http://cmt#runPaperAssignmentTools> rdfs:range <http://cmt#Conference> .\n",
      "\n",
      "<http://cmt#siteURL> rdfs:domain <http://cmt#Conference> .\n",
      "\n",
      "<http://cmt#startReviewerBidding> rdfs:range <http://cmt#Conference> .\n",
      "\n",
      "<http://cmt#virtualMeetingEnabledBy> rdfs:domain <http://cmt#Conference> .\n",
      "\n",
      "<http://cmt#date> rdfs:domain <http://cmt#Conference> .\n",
      "\n",
      "<http://cmt#hasConferenceMember> a owl:ObjectProperty ;\n",
      "    rdfs:domain <http://cmt#Conference> ;\n",
      "    rdfs:range <http://cmt#ConferenceMember> ;\n",
      "    owl:inverseOf <http://cmt#memberOfConference> .\n",
      "\n",
      "<http://cmt#memberOfConference> a owl:ObjectProperty ;\n",
      "    rdfs:domain <http://cmt#ConferenceMember> ;\n",
      "    rdfs:range <http://cmt#Conference> ;\n",
      "    owl:inverseOf <http://cmt#hasConferenceMember> .\n",
      "\n",
      "<http://cmt#reviewsPerPaper> rdfs:domain <http://cmt#Conference> .\n",
      "\n",
      "<http://cmt#ConferenceMember> a owl:Class ;\n",
      "    rdfs:subClassOf <http://cmt#Person> .\n",
      "\n",
      "<http://cmt#Bid> a owl:Class ;\n",
      "    owl:disjointWith <http://cmt#Conference>,\n",
      "        <http://cmt#Decision>,\n",
      "        <http://cmt#Document>,\n",
      "        <http://cmt#Person>,\n",
      "        <http://cmt#Preference>,\n",
      "        <http://cmt#ProgramCommittee> .\n",
      "\n",
      "<http://cmt#Decision> a owl:Class ;\n",
      "    owl:disjointWith <http://cmt#Bid>,\n",
      "        <http://cmt#Conference>,\n",
      "        <http://cmt#Document>,\n",
      "        <http://cmt#Person>,\n",
      "        <http://cmt#Preference>,\n",
      "        <http://cmt#ProgramCommittee> .\n",
      "\n",
      "<http://cmt#Document> a owl:Class ;\n",
      "    owl:disjointWith <http://cmt#Bid>,\n",
      "        <http://cmt#Conference>,\n",
      "        <http://cmt#Decision>,\n",
      "        <http://cmt#Person>,\n",
      "        <http://cmt#Preference>,\n",
      "        <http://cmt#ProgramCommittee> .\n",
      "\n",
      "<http://cmt#Preference> a owl:Class ;\n",
      "    owl:disjointWith <http://cmt#Bid>,\n",
      "        <http://cmt#Conference>,\n",
      "        <http://cmt#Decision>,\n",
      "        <http://cmt#Document>,\n",
      "        <http://cmt#Person>,\n",
      "        <http://cmt#ProgramCommittee> .\n",
      "\n",
      "<http://cmt#ProgramCommittee> a owl:Class ;\n",
      "    owl:disjointWith <http://cmt#Bid>,\n",
      "        <http://cmt#Conference>,\n",
      "        <http://cmt#Decision>,\n",
      "        <http://cmt#Document>,\n",
      "        <http://cmt#Person>,\n",
      "        <http://cmt#Preference> .\n",
      "\n",
      "<http://cmt#Person> a owl:Class ;\n",
      "    owl:disjointWith <http://cmt#Bid>,\n",
      "        <http://cmt#Conference>,\n",
      "        <http://cmt#Decision>,\n",
      "        <http://cmt#Document>,\n",
      "        <http://cmt#Preference>,\n",
      "        <http://cmt#ProgramCommittee> .\n",
      "\n",
      "<http://cmt#Conference> a owl:Class ;\n",
      "    rdfs:subClassOf [ a owl:Restriction ;\n",
      "            owl:cardinality \"1\"^^xsd:int ;\n",
      "            owl:onProperty <http://cmt#reviewsPerPaper> ],\n",
      "        [ a owl:Restriction ;\n",
      "            owl:minCardinality \"1\"^^xsd:int ;\n",
      "            owl:onProperty <http://cmt#date> ],\n",
      "        [ a owl:Restriction ;\n",
      "            owl:cardinality \"1\"^^xsd:int ;\n",
      "            owl:onProperty <http://cmt#name> ],\n",
      "        owl:Thing ;\n",
      "    owl:disjointWith <http://cmt#Bid>,\n",
      "        <http://cmt#Decision>,\n",
      "        <http://cmt#Document>,\n",
      "        <http://cmt#Person>,\n",
      "        <http://cmt#Preference>,\n",
      "        <http://cmt#ProgramCommittee> .\n",
      "\n",
      "[] rdf:first <http://cmt#Conference> .\n",
      "\n",
      "\n"
     ]
    }
   ],
   "execution_count": 7
  }
 ],
 "metadata": {
  "kernelspec": {
   "display_name": "Python (myenv)",
   "language": "python",
   "name": "myenv"
  },
  "language_info": {
   "codemirror_mode": {
    "name": "ipython",
    "version": 2
   },
   "file_extension": ".py",
   "mimetype": "text/x-python",
   "name": "python",
   "nbconvert_exporter": "python",
   "pygments_lexer": "ipython2",
   "version": "2.7.6"
  }
 },
 "nbformat": 4,
 "nbformat_minor": 5
}
