{
 "cells": [
  {
   "cell_type": "code",
   "id": "initial_id",
   "metadata": {
    "collapsed": true,
    "ExecuteTime": {
     "end_time": "2024-09-11T10:34:01.337166Z",
     "start_time": "2024-09-11T10:33:36.289009Z"
    }
   },
   "source": [
    "from rdflib import Graph\n",
    "from cmatcher.module_search.pagerank import gen_pagerank_sparql_queries\n",
    "from transformers import AutoTokenizer, AutoModel, BitsAndBytesConfig, AutoModelForCausalLM\n",
    "import torch\n",
    "from rdflib.namespace import RDF\n",
    "from cmatcher.rag.rag_reduce import ont_query_reduce, reduce_ont, get_detailed_instruct, gen_doc\n",
    "from cmatcher.rag.prompt_gen import gen_prompt\n",
    "from cmatcher.rag.prompt_to_edoal import match\n",
    "from cmatcher.repair.edoal import merge_edoals\n",
    "from tqdm.auto import tqdm\n",
    "import gc\n",
    "import dill\n",
    "import subprocess\n",
    "import os\n",
    "import re\n",
    "import random\n",
    "import itertools\n",
    "import torch.nn.functional as F\n",
    "\n",
    "\n",
    "# define deterministic behavior\n",
    "random.seed(0)\n",
    "torch.manual_seed(0)\n",
    "torch.cuda.manual_seed(0)"
   ],
   "outputs": [],
   "execution_count": 2
  },
  {
   "metadata": {
    "ExecuteTime": {
     "end_time": "2024-09-11T10:34:05.548083Z",
     "start_time": "2024-09-11T10:34:05.545271Z"
    }
   },
   "cell_type": "code",
   "source": [
    "def batched(iterable, n):\n",
    "    # batched('ABCDEFG', 3) → ABC DEF G\n",
    "    if n < 1:\n",
    "        raise ValueError('n must be at least one')\n",
    "    iterator = iter(iterable)\n",
    "    while batch := tuple(itertools.islice(iterator, n)):\n",
    "        yield batch"
   ],
   "id": "14e3f49296644390",
   "outputs": [],
   "execution_count": 3
  },
  {
   "metadata": {
    "ExecuteTime": {
     "end_time": "2024-09-11T10:34:07.292935Z",
     "start_time": "2024-09-11T10:34:07.287903Z"
    }
   },
   "cell_type": "code",
   "source": [
    "\n",
    "\n",
    "\n",
    "\n",
    "def rag(model, tokenizer, query, prompt, g, max_entities=15, max_length=4096, batch_size=2):\n",
    "    # query_prefix = f\"Instruct: {prompt}\\nQuery: \"\n",
    "    query_prefix = f''\n",
    "    queries = [\n",
    "        query,\n",
    "    ]\n",
    "\n",
    "    ls = list(filter(lambda x: (x, RDF.first, None) not in g, set(g.subjects())))\n",
    "    passages = []\n",
    "    for s in ls:\n",
    "        passages.append(gen_doc(s, g, max_entities=max_entities))\n",
    "        \n",
    "    with torch.no_grad():\n",
    "        query_embeddings = model.encode(queries, instruction=query_prefix, max_length=max_length)\n",
    "        \n",
    "        passage_embeddings = []\n",
    "        \n",
    "        for p in batched(passages, batch_size):\n",
    "            passage_embeddings.append(model.encode(p, instruction='', max_length=max_length))\n",
    "        \n",
    "        passage_embeddings = torch.cat(passage_embeddings, dim=0)\n",
    "\n",
    "    return ls, query_embeddings @ passage_embeddings.T\n",
    "\n",
    "\n",
    "\n",
    "def ont_query_reduce(model, tokenizer, g, query, prompt, top_n=2, i_max_depth=1, o_max_depth=2, max_entities=15,\n",
    "                     max_length=4096, batch_size=2):\n",
    "    ls1, scores1 = rag(model, tokenizer, query, prompt, g, max_entities=max_entities, max_length=max_length,\n",
    "                       batch_size=batch_size)\n",
    "    return reduce_ont(ls1, scores1, g, top_n=top_n, i_max_depth=i_max_depth, o_max_depth=o_max_depth)"
   ],
   "id": "e242367dcb140d27",
   "outputs": [],
   "execution_count": 4
  },
  {
   "metadata": {
    "ExecuteTime": {
     "end_time": "2024-09-11T10:34:23.974778Z",
     "start_time": "2024-09-11T10:34:23.969801Z"
    }
   },
   "cell_type": "code",
   "source": [
    "def gen_prompts():\n",
    "    tokenizer = AutoTokenizer.from_pretrained('nvidia/NV-Embed-v2')\n",
    "    quantization_config = BitsAndBytesConfig(\n",
    "        load_in_4bit=True,\n",
    "        bnb_4bit_compute_dtype=torch.bfloat16,\n",
    "        bnb_4bit_use_double_quant=True,\n",
    "        bnb_4bit_quant_type=\"nf4\"\n",
    "    )\n",
    "    model = AutoModel.from_pretrained(\n",
    "        'nvidia/NV-Embed-v2',\n",
    "        quantization_config=quantization_config,\n",
    "        trust_remote_code=True,\n",
    "        device_map='auto',\n",
    "    )\n",
    "    model.eval()\n",
    "    \n",
    "    base_path = '/projets/melodi/gsantoss/data/complex/conference/ont/'\n",
    "    o1 = Graph().parse(base_path + 'cmt.owl')\n",
    "    o2 = Graph().parse(base_path + 'conference.owl')\n",
    "    \n",
    "    queries1 = gen_pagerank_sparql_queries(o1)\n",
    "\n",
    "\n",
    "    prompt = 'Given the following SPARQL query, retrieve relevant entities that are related to the query'\n",
    "    with open('cmatcher/prompt_examples/sample1.txt', 'r') as f:\n",
    "        sample1 = f.read()\n",
    "        \n",
    "    with open('cmatcher/prompt_examples/sample2.txt', 'r') as f:\n",
    "        sample2 = f.read()\n",
    "    \n",
    "    \n",
    "    prompts = []\n",
    "    for query in tqdm(queries1):\n",
    "    \n",
    "        module1 = ont_query_reduce(model, tokenizer, o1, query, prompt, max_entities=10, batch_size=2)\n",
    "        module2 = ont_query_reduce(model, tokenizer, o2, query, prompt, max_entities=10, batch_size=2)\n",
    "    \n",
    "        prompts.append(gen_prompt(module1, module2, None, sample1, sample2))\n",
    "    \n",
    "    return prompts"
   ],
   "id": "b7fc14c2300491d7",
   "outputs": [],
   "execution_count": 5
  },
  {
   "metadata": {
    "ExecuteTime": {
     "end_time": "2024-09-09T14:07:06.215521Z",
     "start_time": "2024-09-09T13:48:49.973273Z"
    }
   },
   "cell_type": "code",
   "source": [
    "prompts = gen_prompts()\n",
    "\n",
    "with open('/projets/melodi/gsantoss/tmp/prompts.pkl', 'wb') as f:\n",
    "    dill.dump(prompts, f)"
   ],
   "id": "edd933abc5592fbd",
   "outputs": [
    {
     "data": {
      "text/plain": [
       "Loading checkpoint shards:   0%|          | 0/4 [00:00<?, ?it/s]"
      ],
      "application/vnd.jupyter.widget-view+json": {
       "version_major": 2,
       "version_minor": 0,
       "model_id": "80f79755572a479a80ce6c2df101cc72"
      }
     },
     "metadata": {},
     "output_type": "display_data"
    },
    {
     "data": {
      "text/plain": [
       "  0%|          | 0/9 [00:00<?, ?it/s]"
      ],
      "application/vnd.jupyter.widget-view+json": {
       "version_major": 2,
       "version_minor": 0,
       "model_id": "a013b74ed21e454d8b023114cbc70e4b"
      }
     },
     "metadata": {},
     "output_type": "display_data"
    },
    {
     "name": "stderr",
     "output_type": "stream",
     "text": [
      "/users/melodi/gsantoss/.cache/huggingface/modules/transformers_modules/nvidia/NV-Embed-v2/06afec77ee57c1aa73d3cf688d42f3592f45214b/modeling_nvembed.py:349: UserWarning: To copy construct from a tensor, it is recommended to use sourceTensor.clone().detach() or sourceTensor.clone().detach().requires_grad_(True), rather than torch.tensor(sourceTensor).\n",
      "  'input_ids': torch.tensor(batch_dict.get('input_ids').to(batch_dict.get('input_ids')).long()),\n",
      "/projets/melodi/gsantoss/miniconda3/envs/myenv/lib/python3.11/site-packages/torch/backends/cuda/__init__.py:342: FutureWarning: torch.backends.cuda.sdp_kernel() is deprecated. In the future, this context manager will be removed. Please see, torch.nn.attention.sdpa_kernel() for the new context manager, with updated signature.\n",
      "  warnings.warn(\n"
     ]
    }
   ],
   "execution_count": 5
  },
  {
   "metadata": {
    "ExecuteTime": {
     "end_time": "2024-09-09T14:15:23.743882Z",
     "start_time": "2024-09-09T14:15:23.124866Z"
    }
   },
   "cell_type": "code",
   "source": [
    "queries1 = None\n",
    "model = None\n",
    "tokenizer = None\n",
    "# prompts = None\n",
    "prompt = None\n",
    "sample1 = None\n",
    "sample2 = None\n",
    "module1 = None\n",
    "module2 = None\n",
    "quantization_config = None\n",
    "o1 = None\n",
    "o2 = None\n",
    "uobj = gc.collect()\n",
    "torch.cuda.empty_cache()"
   ],
   "id": "7457480e85e65b4e",
   "outputs": [],
   "execution_count": 6
  },
  {
   "metadata": {
    "ExecuteTime": {
     "end_time": "2024-09-09T14:15:37.369909Z",
     "start_time": "2024-09-09T14:15:37.366557Z"
    }
   },
   "cell_type": "code",
   "source": [
    "with open('/projets/melodi/gsantoss/tmp/prompts.pkl', 'rb') as f:\n",
    "    prompts = dill.load(f)"
   ],
   "id": "4bdb7561b108a0de",
   "outputs": [],
   "execution_count": 7
  },
  {
   "metadata": {
    "ExecuteTime": {
     "end_time": "2024-09-09T14:15:54.170824Z",
     "start_time": "2024-09-09T14:15:41.572979Z"
    }
   },
   "cell_type": "code",
   "source": [
    "model_id = \"meta-llama/Meta-Llama-3-8B-Instruct\"\n",
    "# model_id = \"meta-llama/Meta-Llama-3.1-8B-Instruct\"\n",
    "\n",
    "llm_tokenizer = AutoTokenizer.from_pretrained(model_id)\n",
    "\n",
    "llm_quantization_config = BitsAndBytesConfig(\n",
    "    load_in_4bit=True,\n",
    "    bnb_4bit_compute_dtype=torch.bfloat16,\n",
    "    bnb_4bit_use_double_quant=True,\n",
    "    bnb_4bit_quant_type=\"nf4\"\n",
    ")\n",
    "\n",
    "llm_model = AutoModelForCausalLM.from_pretrained(\n",
    "    model_id,\n",
    "    device_map='auto',\n",
    "    quantization_config=llm_quantization_config,\n",
    "\n",
    ")\n",
    "llm_model.eval()"
   ],
   "id": "8fc3948b9cffe643",
   "outputs": [
    {
     "data": {
      "text/plain": [
       "Loading checkpoint shards:   0%|          | 0/4 [00:00<?, ?it/s]"
      ],
      "application/vnd.jupyter.widget-view+json": {
       "version_major": 2,
       "version_minor": 0,
       "model_id": "a446d4f6181e41238d01ba37f05489aa"
      }
     },
     "metadata": {},
     "output_type": "display_data"
    },
    {
     "data": {
      "text/plain": [
       "LlamaForCausalLM(\n",
       "  (model): LlamaModel(\n",
       "    (embed_tokens): Embedding(128256, 4096)\n",
       "    (layers): ModuleList(\n",
       "      (0-31): 32 x LlamaDecoderLayer(\n",
       "        (self_attn): LlamaSdpaAttention(\n",
       "          (q_proj): Linear4bit(in_features=4096, out_features=4096, bias=False)\n",
       "          (k_proj): Linear4bit(in_features=4096, out_features=1024, bias=False)\n",
       "          (v_proj): Linear4bit(in_features=4096, out_features=1024, bias=False)\n",
       "          (o_proj): Linear4bit(in_features=4096, out_features=4096, bias=False)\n",
       "          (rotary_emb): LlamaRotaryEmbedding()\n",
       "        )\n",
       "        (mlp): LlamaMLP(\n",
       "          (gate_proj): Linear4bit(in_features=4096, out_features=14336, bias=False)\n",
       "          (up_proj): Linear4bit(in_features=4096, out_features=14336, bias=False)\n",
       "          (down_proj): Linear4bit(in_features=14336, out_features=4096, bias=False)\n",
       "          (act_fn): SiLU()\n",
       "        )\n",
       "        (input_layernorm): LlamaRMSNorm()\n",
       "        (post_attention_layernorm): LlamaRMSNorm()\n",
       "      )\n",
       "    )\n",
       "    (norm): LlamaRMSNorm()\n",
       "    (rotary_emb): LlamaRotaryEmbedding()\n",
       "  )\n",
       "  (lm_head): Linear(in_features=4096, out_features=128256, bias=False)\n",
       ")"
      ]
     },
     "execution_count": 8,
     "metadata": {},
     "output_type": "execute_result"
    }
   ],
   "execution_count": 8
  },
  {
   "metadata": {
    "jupyter": {
     "is_executing": true
    },
    "ExecuteTime": {
     "start_time": "2024-09-09T14:15:54.282832Z"
    }
   },
   "cell_type": "code",
   "source": [
    "outputs = []\n",
    "for prompt in tqdm(prompts):\n",
    "    outputs.append(match(prompt, llm_tokenizer, llm_model))\n",
    "    \n",
    "with open('/projets/melodi/gsantoss/tmp/outputs.pkl', 'wb') as f:\n",
    "    dill.dump(outputs, f)"
   ],
   "id": "21587d62a3e71fe0",
   "outputs": [
    {
     "data": {
      "text/plain": [
       "  0%|          | 0/9 [00:00<?, ?it/s]"
      ],
      "application/vnd.jupyter.widget-view+json": {
       "version_major": 2,
       "version_minor": 0,
       "model_id": "d51792faabbd4a86b299529709d8bccd"
      }
     },
     "metadata": {},
     "output_type": "display_data"
    },
    {
     "name": "stderr",
     "output_type": "stream",
     "text": [
      "The attention mask and the pad token id were not set. As a consequence, you may observe unexpected behavior. Please pass your input's `attention_mask` to obtain reliable results.\n",
      "Setting `pad_token_id` to `eos_token_id`:128009 for open-end generation.\n",
      "The attention mask is not set and cannot be inferred from input because pad token is same as eos token.As a consequence, you may observe unexpected behavior. Please pass your input's `attention_mask` to obtain reliable results.\n",
      "The attention mask and the pad token id were not set. As a consequence, you may observe unexpected behavior. Please pass your input's `attention_mask` to obtain reliable results.\n",
      "Setting `pad_token_id` to `eos_token_id`:128009 for open-end generation.\n",
      "The attention mask and the pad token id were not set. As a consequence, you may observe unexpected behavior. Please pass your input's `attention_mask` to obtain reliable results.\n",
      "Setting `pad_token_id` to `eos_token_id`:128009 for open-end generation.\n"
     ]
    }
   ],
   "execution_count": null
  },
  {
   "metadata": {
    "ExecuteTime": {
     "end_time": "2024-09-09T17:24:47.817705184Z",
     "start_time": "2024-09-09T12:48:41.485838Z"
    }
   },
   "cell_type": "code",
   "source": [
    "# with open('/projets/melodi/gsantoss/tmp/outputs.pkl', 'rb') as f:\n",
    "#     outputs = dill.load(f)"
   ],
   "id": "23c2ddd19f49f324",
   "outputs": [],
   "execution_count": 10
  },
  {
   "metadata": {
    "ExecuteTime": {
     "end_time": "2024-09-09T17:25:01.423066Z",
     "start_time": "2024-09-09T17:25:01.368183Z"
    }
   },
   "cell_type": "code",
   "source": [
    "\n",
    "final_edoal = merge_edoals(outputs)\n",
    "\n",
    "os.makedirs('/projets/melodi/gsantoss/tmp/cct1', exist_ok=True)\n",
    "with open('/projets/melodi/gsantoss/tmp/cct1/final_edoal.edoal', 'w') as f:\n",
    "    f.write(final_edoal)"
   ],
   "id": "265722672f41dfb4",
   "outputs": [],
   "execution_count": 11
  },
  {
   "metadata": {
    "ExecuteTime": {
     "end_time": "2024-09-09T17:25:02.766202Z",
     "start_time": "2024-09-09T17:25:02.763491Z"
    }
   },
   "cell_type": "code",
   "source": "print(final_edoal[:700])",
   "id": "5f3ac4aa6e47429b",
   "outputs": [
    {
     "name": "stdout",
     "output_type": "stream",
     "text": [
      "<?xml version=\"1.0\" encoding=\"UTF-8\"?>\n",
      "<rdf:RDF xmlns:rdf=\"http://www.w3.org/1999/02/22-rdf-syntax-ns#\" xmlns=\"http://knowledgeweb.semanticweb.org/heterogeneity/alignment#\" xmlns:alext=\"http://exmo.inrialpes.fr/align/ext/1.0/\" xmlns:align=\"http://knowledgeweb.semanticweb.org/heterogeneity/alignment#\" xmlns:edoal=\"http://ns.inria.org/edoal/1.0/#\" xmlns:xsd=\"http://www.w3.org/2001/XMLSchema#\">\n",
      "  <Alignment>\n",
      "    <xml>yes</xml>\n",
      "    <level>2EDOAL</level>\n",
      "    <type>**</type>\n",
      "    <onto1>\n",
      "      <Ontology rdf:about=\"http://cmt#ConferenceMember\"><location>http://cmt#ConferenceMember</location><formalism><Formalism align:name=\"owl\" align:uri=\"http://www.w3.org/TR/owl-guide/\"/></formalism></Ontology>\n",
      "  \n"
     ]
    }
   ],
   "execution_count": 12
  },
  {
   "metadata": {
    "ExecuteTime": {
     "end_time": "2024-09-09T17:25:22.989835Z",
     "start_time": "2024-09-09T17:25:09.549471Z"
    }
   },
   "cell_type": "code",
   "source": [
    "#  -jar  $no1 $no2 $o1 $o2 $mo $cqa $out1\n",
    "base_java = '/projets/melodi/gsantoss/canarde/jdk-21.0.1/bin/java'\n",
    "base_eval = '/projets/melodi/gsantoss/canarde/evaluator.jar'\n",
    "base_onts = '/projets/melodi/gsantoss/data/complex/conference_100/ont/'\n",
    "base_cqas = '/projets/melodi/gsantoss/data/complex/conference_100/CQAs/'\n",
    "base_al = '/projets/melodi/gsantoss/tmp/cct1'\n",
    "base_out = '/projets/melodi/gsantoss/tmp/ccres'\n",
    "\n",
    "os.makedirs(base_out, exist_ok=True)\n",
    "with subprocess.Popen([base_java, '-jar', base_eval, 'cmt', 'conference', base_onts + 'cmt.owl', base_onts + 'conference.owl', base_al, base_cqas, base_out]) as proc:\n",
    "    proc.communicate()\n"
   ],
   "id": "e63c7bc74ce55f3c",
   "outputs": [
    {
     "name": "stdout",
     "output_type": "stream",
     "text": [
      "Evaluator\n"
     ]
    }
   ],
   "execution_count": 13
  },
  {
   "metadata": {
    "ExecuteTime": {
     "end_time": "2024-09-09T17:25:23.285447Z",
     "start_time": "2024-09-09T17:25:23.083967Z"
    }
   },
   "cell_type": "code",
   "source": "!cat /projets/melodi/gsantoss/tmp/ccres/cmt_conference.csv",
   "id": "6a5fc499fe56c3d0",
   "outputs": [
    {
     "name": "stdout",
     "output_type": "stream",
     "text": [
      "final_edoal.edoal,CQAs,0.1724137931034483,0.27586206896551724,0.22413793103448276,0.3448275862068966,0.2847962868813362\r\n",
      "classical,recall-oriented,precision-oriented,overlap,query f-measure\r\n",
      "MEAN,CQAs,0.172414,0.275862,0.224138,0.344828,0.284796\r\n"
     ]
    },
    {
     "name": "stderr",
     "output_type": "stream",
     "text": [
      "huggingface/tokenizers: The current process just got forked, after parallelism has already been used. Disabling parallelism to avoid deadlocks...\n",
      "To disable this warning, you can either:\n",
      "\t- Avoid using `tokenizers` before the fork if possible\n",
      "\t- Explicitly set the environment variable TOKENIZERS_PARALLELISM=(true | false)\n"
     ]
    }
   ],
   "execution_count": 14
  },
  {
   "metadata": {},
   "cell_type": "code",
   "outputs": [],
   "execution_count": null,
   "source": "",
   "id": "8a286fcc7238f736"
  }
 ],
 "metadata": {
  "kernelspec": {
   "display_name": "Python (myenv)",
   "language": "python",
   "name": "myenv"
  },
  "language_info": {
   "codemirror_mode": {
    "name": "ipython",
    "version": 2
   },
   "file_extension": ".py",
   "mimetype": "text/x-python",
   "name": "python",
   "nbconvert_exporter": "python",
   "pygments_lexer": "ipython2",
   "version": "2.7.6"
  }
 },
 "nbformat": 4,
 "nbformat_minor": 5
}
