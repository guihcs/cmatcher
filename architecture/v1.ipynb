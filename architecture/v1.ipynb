{
 "cells": [
  {
   "cell_type": "code",
   "id": "initial_id",
   "metadata": {
    "collapsed": true,
    "ExecuteTime": {
     "end_time": "2024-09-06T13:58:44.200689Z",
     "start_time": "2024-09-06T13:58:43.930091Z"
    }
   },
   "source": [
    "from rdflib import Graph\n",
    "from cmatcher.module_search.pagerank import gen_pagerank_sparql_queries\n",
    "from transformers import AutoTokenizer, AutoModel, BitsAndBytesConfig, AutoModelForCausalLM\n",
    "import torch\n",
    "\n",
    "from cmatcher.rag.rag_reduce import ont_query_reduce"
   ],
   "outputs": [],
   "execution_count": 14
  },
  {
   "metadata": {
    "ExecuteTime": {
     "end_time": "2024-09-06T13:57:12.257825Z",
     "start_time": "2024-09-06T13:55:20.160741Z"
    }
   },
   "cell_type": "code",
   "outputs": [
    {
     "data": {
      "text/plain": [
       "Loading checkpoint shards:   0%|          | 0/3 [00:00<?, ?it/s]"
      ],
      "application/vnd.jupyter.widget-view+json": {
       "version_major": 2,
       "version_minor": 0,
       "model_id": "47d3ef541ae143378c4574ed314ba705"
      }
     },
     "metadata": {},
     "output_type": "display_data"
    },
    {
     "data": {
      "text/plain": [
       "MistralModel(\n",
       "  (embed_tokens): Embedding(32000, 4096, padding_idx=2)\n",
       "  (layers): ModuleList(\n",
       "    (0-31): 32 x MistralDecoderLayer(\n",
       "      (self_attn): MistralSdpaAttention(\n",
       "        (q_proj): Linear4bit(in_features=4096, out_features=4096, bias=False)\n",
       "        (k_proj): Linear4bit(in_features=4096, out_features=1024, bias=False)\n",
       "        (v_proj): Linear4bit(in_features=4096, out_features=1024, bias=False)\n",
       "        (o_proj): Linear4bit(in_features=4096, out_features=4096, bias=False)\n",
       "        (rotary_emb): MistralRotaryEmbedding()\n",
       "      )\n",
       "      (mlp): MistralMLP(\n",
       "        (gate_proj): Linear4bit(in_features=4096, out_features=14336, bias=False)\n",
       "        (up_proj): Linear4bit(in_features=4096, out_features=14336, bias=False)\n",
       "        (down_proj): Linear4bit(in_features=14336, out_features=4096, bias=False)\n",
       "        (act_fn): SiLU()\n",
       "      )\n",
       "      (input_layernorm): MistralRMSNorm()\n",
       "      (post_attention_layernorm): MistralRMSNorm()\n",
       "    )\n",
       "  )\n",
       "  (norm): MistralRMSNorm()\n",
       ")"
      ]
     },
     "execution_count": 12,
     "metadata": {},
     "output_type": "execute_result"
    }
   ],
   "execution_count": 12,
   "source": [
    "tokenizer = AutoTokenizer.from_pretrained('Salesforce/SFR-Embedding-2_R')\n",
    "quantization_config = BitsAndBytesConfig(\n",
    "    load_in_4bit=True,\n",
    "    bnb_4bit_compute_dtype=torch.bfloat16,\n",
    "    bnb_4bit_use_double_quant=True,\n",
    "    bnb_4bit_quant_type=\"nf4\"\n",
    ")\n",
    "model = AutoModel.from_pretrained(\n",
    "    'Salesforce/SFR-Embedding-2_R',\n",
    "    quantization_config=quantization_config,\n",
    "    device_map='auto',\n",
    ")\n",
    "model.eval()"
   ],
   "id": "4a48acb844b675c5"
  },
  {
   "metadata": {
    "ExecuteTime": {
     "end_time": "2024-09-06T13:49:30.345129Z",
     "start_time": "2024-09-06T13:49:30.015443Z"
    }
   },
   "cell_type": "code",
   "outputs": [],
   "execution_count": 6,
   "source": [
    "base_path = '/projets/melodi/gsantoss/data/complex/conference/ont/'\n",
    "o1 = Graph().parse(base_path + 'cmt.owl')\n",
    "o2 = Graph().parse(base_path + 'conference.owl')"
   ],
   "id": "b7fc14c2300491d7"
  },
  {
   "metadata": {
    "ExecuteTime": {
     "end_time": "2024-09-06T13:50:41.739862Z",
     "start_time": "2024-09-06T13:50:41.705427Z"
    }
   },
   "cell_type": "code",
   "outputs": [],
   "execution_count": 10,
   "source": [
    "\n",
    "queries1 = gen_pagerank_sparql_queries(o1)"
   ],
   "id": "edd933abc5592fbd"
  },
  {
   "metadata": {
    "ExecuteTime": {
     "end_time": "2024-09-06T13:58:05.782834Z",
     "start_time": "2024-09-06T13:58:05.779667Z"
    }
   },
   "cell_type": "code",
   "source": [
    "prompt = 'Given the following SPARQL query, retrieve relevant entities that are related to the query'\n",
    "\n",
    "for query in queries1:\n",
    "    \n",
    "    module1 = ont_query_reduce(model, tokenizer, run[1], o1, query, prompt, max_entities=10, batch_size=2)\n",
    "    module2 = ont_query_reduce(model, tokenizer, run[2], o2, query, prompt, max_entities=10, batch_size=2)\n",
    "    \n",
    "    \n",
    "    break"
   ],
   "id": "499496853318bc5c",
   "outputs": [
    {
     "name": "stdout",
     "output_type": "stream",
     "text": [
      "SELECT DISTINCT ?x WHERE {?x a <http://cmt#Conference>.}\n"
     ]
    }
   ],
   "execution_count": 13
  },
  {
   "metadata": {},
   "cell_type": "code",
   "outputs": [],
   "execution_count": null,
   "source": "",
   "id": "21587d62a3e71fe0"
  }
 ],
 "metadata": {
  "kernelspec": {
   "display_name": "Python (myenv)",
   "language": "python",
   "name": "myenv"
  },
  "language_info": {
   "codemirror_mode": {
    "name": "ipython",
    "version": 2
   },
   "file_extension": ".py",
   "mimetype": "text/x-python",
   "name": "python",
   "nbconvert_exporter": "python",
   "pygments_lexer": "ipython2",
   "version": "2.7.6"
  }
 },
 "nbformat": 4,
 "nbformat_minor": 5
}
