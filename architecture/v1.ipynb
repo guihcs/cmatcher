{
 "cells": [
  {
   "cell_type": "code",
   "id": "initial_id",
   "metadata": {
    "collapsed": true,
    "ExecuteTime": {
     "end_time": "2024-09-24T11:00:02.026060Z",
     "start_time": "2024-09-24T10:59:58.518430Z"
    }
   },
   "source": [
    "from rdflib import Graph\n",
    "from rdflib.term import URIRef\n",
    "from cmatcher.module_search.pagerank import gen_pagerank_sparql_queries\n",
    "from transformers import AutoTokenizer, AutoModel, BitsAndBytesConfig, AutoModelForCausalLM\n",
    "import torch\n",
    "from rdflib.namespace import RDF\n",
    "from cmatcher.rag.rag_reduce import ont_query_reduce, reduce_ont, get_detailed_instruct, gen_doc\n",
    "from cmatcher.rag.prompt_gen import gen_prompt\n",
    "from cmatcher.rag.prompt_to_edoal import match\n",
    "from tqdm.auto import tqdm\n",
    "import gc\n",
    "import dill\n",
    "import subprocess\n",
    "import os\n",
    "import re\n",
    "import random\n",
    "import itertools\n",
    "import torch.nn.functional as F\n",
    "import difflib\n",
    "# define deterministic behavior\n",
    "random.seed(0)\n",
    "torch.manual_seed(0)\n",
    "torch.cuda.manual_seed(0)"
   ],
   "outputs": [],
   "execution_count": 1
  },
  {
   "metadata": {
    "ExecuteTime": {
     "end_time": "2024-09-24T11:00:02.208057Z",
     "start_time": "2024-09-24T11:00:02.205291Z"
    }
   },
   "cell_type": "code",
   "source": [
    "def batched(iterable, n):\n",
    "    # batched('ABCDEFG', 3) → ABC DEF G\n",
    "    if n < 1:\n",
    "        raise ValueError('n must be at least one')\n",
    "    iterator = iter(iterable)\n",
    "    while batch := tuple(itertools.islice(iterator, n)):\n",
    "        yield batch"
   ],
   "id": "14e3f49296644390",
   "outputs": [],
   "execution_count": 2
  },
  {
   "metadata": {
    "ExecuteTime": {
     "end_time": "2024-09-24T11:00:02.426143Z",
     "start_time": "2024-09-24T11:00:02.420872Z"
    }
   },
   "cell_type": "code",
   "source": [
    "def rag(model, tokenizer, query, prompt, g, max_entities=15, max_length=4096, batch_size=2):\n",
    "    query_prefix = f\"Instruct: {prompt}\\nQuery: \"\n",
    "    queries = [\n",
    "        query,\n",
    "    ]\n",
    "\n",
    "    ls = list(filter(lambda x: (x, RDF.first, None) not in g, set(g.subjects())))\n",
    "    passages = []\n",
    "    for s in ls:\n",
    "        passages.append(gen_doc(s, g, max_entities=max_entities))\n",
    "        \n",
    "    with torch.no_grad():\n",
    "        query_embeddings = model.encode(queries, instruction=query_prefix, max_length=max_length)\n",
    "        \n",
    "        passage_embeddings = []\n",
    "        \n",
    "        for p in batched(passages, batch_size):\n",
    "            passage_embeddings.append(model.encode(p, instruction='', max_length=max_length))\n",
    "        \n",
    "        passage_embeddings = torch.cat(passage_embeddings, dim=0)\n",
    "\n",
    "    return ls, query_embeddings @ passage_embeddings.T\n",
    "\n",
    "\n",
    "\n",
    "def ont_query_reduce(model, tokenizer, g, query, prompt, top_n=2, i_max_depth=1, o_max_depth=2, max_entities=15,\n",
    "                     max_length=4096, batch_size=2):\n",
    "    ls1, scores1 = rag(model, tokenizer, query, prompt, g, max_entities=max_entities, max_length=max_length,\n",
    "                       batch_size=batch_size)\n",
    "    return reduce_ont(ls1, scores1, g, top_n=top_n, i_max_depth=i_max_depth, o_max_depth=o_max_depth)"
   ],
   "id": "e242367dcb140d27",
   "outputs": [],
   "execution_count": 3
  },
  {
   "metadata": {
    "ExecuteTime": {
     "end_time": "2024-09-24T11:00:02.489251Z",
     "start_time": "2024-09-24T11:00:02.484673Z"
    }
   },
   "cell_type": "code",
   "source": [
    "def gen_prompts():\n",
    "    tokenizer = AutoTokenizer.from_pretrained('nvidia/NV-Embed-v2')\n",
    "    quantization_config = BitsAndBytesConfig(\n",
    "        load_in_4bit=True,\n",
    "        bnb_4bit_compute_dtype=torch.bfloat16,\n",
    "        bnb_4bit_use_double_quant=True,\n",
    "        bnb_4bit_quant_type=\"nf4\"\n",
    "    )\n",
    "    model = AutoModel.from_pretrained(\n",
    "        'nvidia/NV-Embed-v2',\n",
    "        quantization_config=quantization_config,\n",
    "        trust_remote_code=True,\n",
    "        device_map='auto',\n",
    "    )\n",
    "    model.eval()\n",
    "    \n",
    "    base_path = '/projets/melodi/gsantoss/data/complex/conference/ont/'\n",
    "    o1 = Graph().parse(base_path + 'cmt.owl')\n",
    "    o2 = Graph().parse(base_path + 'conference.owl')\n",
    "    \n",
    "    queries1 = gen_pagerank_sparql_queries(o1)\n",
    "\n",
    "\n",
    "    prompt = 'Given the following SPARQL query, retrieve relevant entities that are related to the query'\n",
    "    with open('cmatcher/prompt_examples/sample1.txt', 'r') as f:\n",
    "        sample1 = f.read()\n",
    "        \n",
    "    with open('cmatcher/prompt_examples/sample2.txt', 'r') as f:\n",
    "        sample2 = f.read()\n",
    "    \n",
    "    \n",
    "    prompts = []\n",
    "    for query in tqdm(queries1):\n",
    "    \n",
    "        module1 = ont_query_reduce(model, tokenizer, o1, query, prompt, max_entities=10, batch_size=2)\n",
    "        module2 = ont_query_reduce(model, tokenizer, o2, query, prompt, max_entities=10, batch_size=2)\n",
    "    \n",
    "        prompts.append(gen_prompt(module1, module2, None, sample1, sample2))\n",
    "    \n",
    "    return prompts"
   ],
   "id": "b7fc14c2300491d7",
   "outputs": [],
   "execution_count": 4
  },
  {
   "metadata": {
    "ExecuteTime": {
     "end_time": "2024-09-24T11:02:22.359887Z",
     "start_time": "2024-09-24T11:00:06.211404Z"
    }
   },
   "cell_type": "code",
   "source": [
    "prompts = gen_prompts()\n",
    "\n",
    "with open('/projets/melodi/gsantoss/tmp/prompts1.pkl', 'wb') as f:\n",
    "    dill.dump(prompts, f)"
   ],
   "id": "edd933abc5592fbd",
   "outputs": [
    {
     "data": {
      "text/plain": [
       "Loading checkpoint shards:   0%|          | 0/4 [00:00<?, ?it/s]"
      ],
      "application/vnd.jupyter.widget-view+json": {
       "version_major": 2,
       "version_minor": 0,
       "model_id": "28cf2e92aec04d8b8aa6a40a4646a9a6"
      }
     },
     "metadata": {},
     "output_type": "display_data"
    },
    {
     "data": {
      "text/plain": [
       "  0%|          | 0/50 [00:00<?, ?it/s]"
      ],
      "application/vnd.jupyter.widget-view+json": {
       "version_major": 2,
       "version_minor": 0,
       "model_id": "f6234bf6374e496a8e403ba59a6f4fb7"
      }
     },
     "metadata": {},
     "output_type": "display_data"
    },
    {
     "name": "stderr",
     "output_type": "stream",
     "text": [
      "/users/melodi/gsantoss/.cache/huggingface/modules/transformers_modules/nvidia/NV-Embed-v2/26db444e203771ea231d32a795344655e1119d40/modeling_nvembed.py:349: UserWarning: To copy construct from a tensor, it is recommended to use sourceTensor.clone().detach() or sourceTensor.clone().detach().requires_grad_(True), rather than torch.tensor(sourceTensor).\n",
      "  'input_ids': torch.tensor(batch_dict.get('input_ids').to(batch_dict.get('input_ids')).long()),\n",
      "/projets/melodi/gsantoss/miniconda3/envs/myenv/lib/python3.11/site-packages/torch/backends/cuda/__init__.py:342: FutureWarning: torch.backends.cuda.sdp_kernel() is deprecated. In the future, this context manager will be removed. Please see, torch.nn.attention.sdpa_kernel() for the new context manager, with updated signature.\n",
      "  warnings.warn(\n"
     ]
    },
    {
     "data": {
      "text/plain": [
       "  0%|          | 0/80 [00:00<?, ?it/s]"
      ],
      "application/vnd.jupyter.widget-view+json": {
       "version_major": 2,
       "version_minor": 0,
       "model_id": "e5d95b97392442f39acd0c4b6920c85f"
      }
     },
     "metadata": {},
     "output_type": "display_data"
    },
    {
     "data": {
      "text/plain": [
       "  0%|          | 0/9 [00:00<?, ?it/s]"
      ],
      "application/vnd.jupyter.widget-view+json": {
       "version_major": 2,
       "version_minor": 0,
       "model_id": "1fad84ae410f4099844697e9c4970e17"
      }
     },
     "metadata": {},
     "output_type": "display_data"
    },
    {
     "data": {
      "text/plain": [
       "  0%|          | 0/1 [00:00<?, ?it/s]"
      ],
      "application/vnd.jupyter.widget-view+json": {
       "version_major": 2,
       "version_minor": 0,
       "model_id": "85982c0449e441d39b097e119f36f0ad"
      }
     },
     "metadata": {},
     "output_type": "display_data"
    },
    {
     "data": {
      "text/plain": [
       "  0%|          | 0/1 [00:00<?, ?it/s]"
      ],
      "application/vnd.jupyter.widget-view+json": {
       "version_major": 2,
       "version_minor": 0,
       "model_id": "dc37e1e8c9434924851e816d1ec27621"
      }
     },
     "metadata": {},
     "output_type": "display_data"
    },
    {
     "data": {
      "text/plain": [
       "  0%|          | 0/1 [00:00<?, ?it/s]"
      ],
      "application/vnd.jupyter.widget-view+json": {
       "version_major": 2,
       "version_minor": 0,
       "model_id": "6430df2d3a854ecd8352242185788196"
      }
     },
     "metadata": {},
     "output_type": "display_data"
    },
    {
     "data": {
      "text/plain": [
       "  0%|          | 0/1 [00:00<?, ?it/s]"
      ],
      "application/vnd.jupyter.widget-view+json": {
       "version_major": 2,
       "version_minor": 0,
       "model_id": "a6bd83f16cc1498db230bd2d35514c43"
      }
     },
     "metadata": {},
     "output_type": "display_data"
    },
    {
     "data": {
      "text/plain": [
       "  0%|          | 0/1 [00:00<?, ?it/s]"
      ],
      "application/vnd.jupyter.widget-view+json": {
       "version_major": 2,
       "version_minor": 0,
       "model_id": "63dd8c745e7a42169a2dcd7c2396bb23"
      }
     },
     "metadata": {},
     "output_type": "display_data"
    },
    {
     "data": {
      "text/plain": [
       "  0%|          | 0/1 [00:00<?, ?it/s]"
      ],
      "application/vnd.jupyter.widget-view+json": {
       "version_major": 2,
       "version_minor": 0,
       "model_id": "6c73169aa5de4ff9a48bcd40a725e7f6"
      }
     },
     "metadata": {},
     "output_type": "display_data"
    },
    {
     "data": {
      "text/plain": [
       "  0%|          | 0/1 [00:00<?, ?it/s]"
      ],
      "application/vnd.jupyter.widget-view+json": {
       "version_major": 2,
       "version_minor": 0,
       "model_id": "9069d485bdf74e438e0e90cbbde59cce"
      }
     },
     "metadata": {},
     "output_type": "display_data"
    },
    {
     "data": {
      "text/plain": [
       "  0%|          | 0/1 [00:00<?, ?it/s]"
      ],
      "application/vnd.jupyter.widget-view+json": {
       "version_major": 2,
       "version_minor": 0,
       "model_id": "c5250bee42d6476b9edc08be1888759c"
      }
     },
     "metadata": {},
     "output_type": "display_data"
    },
    {
     "data": {
      "text/plain": [
       "  0%|          | 0/1 [00:00<?, ?it/s]"
      ],
      "application/vnd.jupyter.widget-view+json": {
       "version_major": 2,
       "version_minor": 0,
       "model_id": "b7d5ff4666774fd1a65bec9216319663"
      }
     },
     "metadata": {},
     "output_type": "display_data"
    }
   ],
   "execution_count": 5
  },
  {
   "metadata": {
    "ExecuteTime": {
     "end_time": "2024-09-24T11:02:22.831703Z",
     "start_time": "2024-09-24T11:02:22.413226Z"
    }
   },
   "cell_type": "code",
   "source": [
    "queries1 = None\n",
    "model = None\n",
    "tokenizer = None\n",
    "# prompts = None\n",
    "prompt = None\n",
    "sample1 = None\n",
    "sample2 = None\n",
    "module1 = None\n",
    "module2 = None\n",
    "quantization_config = None\n",
    "o1 = None\n",
    "o2 = None\n",
    "uobj = gc.collect()\n",
    "torch.cuda.empty_cache()"
   ],
   "id": "7457480e85e65b4e",
   "outputs": [],
   "execution_count": 6
  },
  {
   "metadata": {
    "ExecuteTime": {
     "end_time": "2024-09-24T11:02:22.920370Z",
     "start_time": "2024-09-24T11:02:22.917165Z"
    }
   },
   "cell_type": "code",
   "source": [
    "with open('/projets/melodi/gsantoss/tmp/prompts1.pkl', 'rb') as f:\n",
    "    prompts = dill.load(f)"
   ],
   "id": "4bdb7561b108a0de",
   "outputs": [],
   "execution_count": 7
  },
  {
   "metadata": {
    "ExecuteTime": {
     "end_time": "2024-09-24T11:02:32.143561Z",
     "start_time": "2024-09-24T11:02:22.992275Z"
    }
   },
   "cell_type": "code",
   "source": [
    "model_id = \"meta-llama/Meta-Llama-3-8B-Instruct\"\n",
    "# model_id = \"meta-llama/Meta-Llama-3.1-8B-Instruct\"\n",
    "\n",
    "llm_tokenizer = AutoTokenizer.from_pretrained(model_id)\n",
    "llm_tokenizer.eos_token = llm_tokenizer.eos_token if llm_tokenizer.eos_token is not None else llm_tokenizer.pad_token\n",
    "llm_quantization_config = BitsAndBytesConfig(\n",
    "    load_in_4bit=True,\n",
    "    bnb_4bit_compute_dtype=torch.bfloat16,\n",
    "    bnb_4bit_use_double_quant=True,\n",
    "    bnb_4bit_quant_type=\"nf4\"\n",
    ")\n",
    "\n",
    "llm_model = AutoModelForCausalLM.from_pretrained(\n",
    "    model_id,\n",
    "    device_map='auto',\n",
    "    quantization_config=llm_quantization_config,\n",
    "\n",
    ")\n",
    "llm_model.eval()"
   ],
   "id": "8fc3948b9cffe643",
   "outputs": [
    {
     "data": {
      "text/plain": [
       "Loading checkpoint shards:   0%|          | 0/4 [00:00<?, ?it/s]"
      ],
      "application/vnd.jupyter.widget-view+json": {
       "version_major": 2,
       "version_minor": 0,
       "model_id": "fa8c2cf7a8ba47958a4c7dc75473f9d3"
      }
     },
     "metadata": {},
     "output_type": "display_data"
    },
    {
     "data": {
      "text/plain": [
       "LlamaForCausalLM(\n",
       "  (model): LlamaModel(\n",
       "    (embed_tokens): Embedding(128256, 4096)\n",
       "    (layers): ModuleList(\n",
       "      (0-31): 32 x LlamaDecoderLayer(\n",
       "        (self_attn): LlamaSdpaAttention(\n",
       "          (q_proj): Linear4bit(in_features=4096, out_features=4096, bias=False)\n",
       "          (k_proj): Linear4bit(in_features=4096, out_features=1024, bias=False)\n",
       "          (v_proj): Linear4bit(in_features=4096, out_features=1024, bias=False)\n",
       "          (o_proj): Linear4bit(in_features=4096, out_features=4096, bias=False)\n",
       "          (rotary_emb): LlamaRotaryEmbedding()\n",
       "        )\n",
       "        (mlp): LlamaMLP(\n",
       "          (gate_proj): Linear4bit(in_features=4096, out_features=14336, bias=False)\n",
       "          (up_proj): Linear4bit(in_features=4096, out_features=14336, bias=False)\n",
       "          (down_proj): Linear4bit(in_features=14336, out_features=4096, bias=False)\n",
       "          (act_fn): SiLU()\n",
       "        )\n",
       "        (input_layernorm): LlamaRMSNorm()\n",
       "        (post_attention_layernorm): LlamaRMSNorm()\n",
       "      )\n",
       "    )\n",
       "    (norm): LlamaRMSNorm()\n",
       "    (rotary_emb): LlamaRotaryEmbedding()\n",
       "  )\n",
       "  (lm_head): Linear(in_features=4096, out_features=128256, bias=False)\n",
       ")"
      ]
     },
     "execution_count": 8,
     "metadata": {},
     "output_type": "execute_result"
    }
   ],
   "execution_count": 8
  },
  {
   "metadata": {
    "ExecuteTime": {
     "end_time": "2024-09-24T12:22:14.355385Z",
     "start_time": "2024-09-24T11:02:32.196097Z"
    }
   },
   "cell_type": "code",
   "source": [
    "outputs = []\n",
    "for prompt in tqdm(prompts):\n",
    "    outputs.append(match(prompt, llm_tokenizer, llm_model))\n",
    "    \n",
    "with open('/projets/melodi/gsantoss/tmp/outputs.pkl', 'wb') as f:\n",
    "    dill.dump(outputs, f)"
   ],
   "id": "21587d62a3e71fe0",
   "outputs": [
    {
     "data": {
      "text/plain": [
       "  0%|          | 0/9 [00:00<?, ?it/s]"
      ],
      "application/vnd.jupyter.widget-view+json": {
       "version_major": 2,
       "version_minor": 0,
       "model_id": "f5ed5c211994403db58702a9aabec801"
      }
     },
     "metadata": {},
     "output_type": "display_data"
    },
    {
     "name": "stderr",
     "output_type": "stream",
     "text": [
      "/projets/melodi/gsantoss/miniconda3/envs/myenv/lib/python3.11/site-packages/transformers/generation/configuration_utils.py:567: UserWarning: `do_sample` is set to `False`. However, `temperature` is set to `0` -- this flag is only used in sample-based generation modes. You should set `do_sample=True` or unset `temperature`.\n",
      "  warnings.warn(\n",
      "/projets/melodi/gsantoss/miniconda3/envs/myenv/lib/python3.11/site-packages/transformers/generation/configuration_utils.py:572: UserWarning: `do_sample` is set to `False`. However, `top_p` is set to `0` -- this flag is only used in sample-based generation modes. You should set `do_sample=True` or unset `top_p`.\n",
      "  warnings.warn(\n",
      "The attention mask and the pad token id were not set. As a consequence, you may observe unexpected behavior. Please pass your input's `attention_mask` to obtain reliable results.\n",
      "Setting `pad_token_id` to `eos_token_id`:128009 for open-end generation.\n",
      "The attention mask is not set and cannot be inferred from input because pad token is same as eos token.As a consequence, you may observe unexpected behavior. Please pass your input's `attention_mask` to obtain reliable results.\n",
      "The attention mask and the pad token id were not set. As a consequence, you may observe unexpected behavior. Please pass your input's `attention_mask` to obtain reliable results.\n",
      "Setting `pad_token_id` to `eos_token_id`:128009 for open-end generation.\n",
      "The attention mask and the pad token id were not set. As a consequence, you may observe unexpected behavior. Please pass your input's `attention_mask` to obtain reliable results.\n",
      "Setting `pad_token_id` to `eos_token_id`:128009 for open-end generation.\n",
      "The attention mask and the pad token id were not set. As a consequence, you may observe unexpected behavior. Please pass your input's `attention_mask` to obtain reliable results.\n",
      "Setting `pad_token_id` to `eos_token_id`:128009 for open-end generation.\n",
      "The attention mask and the pad token id were not set. As a consequence, you may observe unexpected behavior. Please pass your input's `attention_mask` to obtain reliable results.\n",
      "Setting `pad_token_id` to `eos_token_id`:128009 for open-end generation.\n",
      "The attention mask and the pad token id were not set. As a consequence, you may observe unexpected behavior. Please pass your input's `attention_mask` to obtain reliable results.\n",
      "Setting `pad_token_id` to `eos_token_id`:128009 for open-end generation.\n",
      "The attention mask and the pad token id were not set. As a consequence, you may observe unexpected behavior. Please pass your input's `attention_mask` to obtain reliable results.\n",
      "Setting `pad_token_id` to `eos_token_id`:128009 for open-end generation.\n",
      "The attention mask and the pad token id were not set. As a consequence, you may observe unexpected behavior. Please pass your input's `attention_mask` to obtain reliable results.\n",
      "Setting `pad_token_id` to `eos_token_id`:128009 for open-end generation.\n",
      "The attention mask and the pad token id were not set. As a consequence, you may observe unexpected behavior. Please pass your input's `attention_mask` to obtain reliable results.\n",
      "Setting `pad_token_id` to `eos_token_id`:128009 for open-end generation.\n"
     ]
    }
   ],
   "execution_count": 9
  },
  {
   "metadata": {
    "ExecuteTime": {
     "end_time": "2024-09-24T12:22:14.829660Z",
     "start_time": "2024-09-24T12:22:14.826912Z"
    }
   },
   "cell_type": "code",
   "source": [
    "with open('/projets/melodi/gsantoss/tmp/outputs.pkl', 'rb') as f:\n",
    "    outputs = dill.load(f)"
   ],
   "id": "23c2ddd19f49f324",
   "outputs": [],
   "execution_count": 10
  },
  {
   "metadata": {
    "ExecuteTime": {
     "end_time": "2024-09-24T12:22:15.154754Z",
     "start_time": "2024-09-24T12:22:14.981943Z"
    }
   },
   "cell_type": "code",
   "source": [
    "def is_valid_edoal(txt):\n",
    "    return txt.endswith('</rdf:RDF>')\n",
    "\n",
    "\n",
    "def can_repair(txt):\n",
    "    return txt.rfind('<map>') > 0\n",
    "\n",
    "def merge_edoals(outputs):\n",
    "    repaired_edoals = []\n",
    "    for output in outputs:\n",
    "        \n",
    "        if not output.startswith('<?xml version'):\n",
    "            output = '''<?xml version='1.0' encoding='utf-8' standalone='no'?>\n",
    "<rdf:RDF xmlns='http://knowledgeweb.semanticweb.org/heterogeneity/alignment#'\n",
    "         xmlns:rdf='http://www.w3.org/1999/02/22-rdf-syntax-ns#'\n",
    "         xmlns:xsd='http://www.w3.org/2001/XMLSchema#'\n",
    "         xmlns:alext='http://exmo.inrialpes.fr/align/ext/1.0/'\n",
    "         xmlns:align='http://knowledgeweb.semanticweb.org/heterogeneity/alignment#'\n",
    "         xmlns:edoal='http://ns.inria.org/edoal/1.0/#'>\\n''' + output\n",
    "        \n",
    "        output = re.sub(r'<Ontology rdf:about=\"([^\"]+)\" />', r'<Ontology rdf:about=\"\\1\"><location>\\1</location><formalism><Formalism align:name=\"owl\" align:uri=\"http://www.w3.org/TR/owl-guide/\"/></formalism></Ontology>', output)\n",
    "        if not is_valid_edoal(output) and can_repair(output):\n",
    "            last_map_index = output.rfind('<map>')\n",
    "            repaired_edoals.append(output[:last_map_index] + '\\n\\t</Alignment>\\n</rdf:RDF>')\n",
    "        else:\n",
    "            repaired_edoals.append(output)\n",
    "    \n",
    "    final_edoal = None\n",
    "    if len(repaired_edoals) > 1:\n",
    "        final_edoal = ''\n",
    "        first = repaired_edoals[0]\n",
    "        final_edoal += first[:first.find('<map>')]\n",
    "        for e in repaired_edoals[1:]:\n",
    "            final_edoal += e[e.find('<map>'):e.rfind('</map>')] + '\\n\\t</map>'\n",
    "            \n",
    "        final_edoal += '\\n\\t</Alignment>\\n</rdf:RDF>'\n",
    "        \n",
    "    elif len(repaired_edoals) == 1:\n",
    "        final_edoal = repaired_edoals[0]\n",
    "    \n",
    "    \n",
    "    return final_edoal\n",
    "\n",
    "final_edoal = merge_edoals(outputs)\n",
    "\n",
    "os.makedirs('/projets/melodi/gsantoss/tmp/cct1', exist_ok=True)\n",
    "with open('/projets/melodi/gsantoss/tmp/cct1/final_edoal.edoal', 'w') as f:\n",
    "    f.write(final_edoal)"
   ],
   "id": "265722672f41dfb4",
   "outputs": [],
   "execution_count": 11
  },
  {
   "metadata": {
    "ExecuteTime": {
     "end_time": "2024-09-24T12:22:26.539854Z",
     "start_time": "2024-09-24T12:22:15.193437Z"
    }
   },
   "cell_type": "code",
   "source": [
    "#  -jar  $no1 $no2 $o1 $o2 $mo $cqa $out1\n",
    "base_java = '/projets/melodi/gsantoss/canarde/jdk-21.0.1/bin/java'\n",
    "base_eval = '/projets/melodi/gsantoss/canarde/evaluator.jar'\n",
    "base_onts = '/projets/melodi/gsantoss/data/complex/conference_100/ont/'\n",
    "base_cqas = '/projets/melodi/gsantoss/data/complex/conference_100/CQAs/'\n",
    "base_al = '/projets/melodi/gsantoss/tmp/cct1'\n",
    "base_out = '/projets/melodi/gsantoss/tmp/ccres'\n",
    "\n",
    "os.makedirs(base_out, exist_ok=True)\n",
    "with subprocess.Popen([base_java, '-jar', base_eval, 'cmt', 'conference', base_onts + 'cmt.owl', base_onts + 'conference.owl', base_al, base_cqas, base_out]) as proc:\n",
    "    proc.communicate()\n"
   ],
   "id": "e63c7bc74ce55f3c",
   "outputs": [
    {
     "name": "stdout",
     "output_type": "stream",
     "text": [
      "Evaluator\n"
     ]
    }
   ],
   "execution_count": 12
  },
  {
   "metadata": {
    "ExecuteTime": {
     "end_time": "2024-09-24T12:22:27.027062Z",
     "start_time": "2024-09-24T12:22:26.752898Z"
    }
   },
   "cell_type": "code",
   "source": "!cat /projets/melodi/gsantoss/tmp/ccres/cmt_conference.csv",
   "id": "6a5fc499fe56c3d0",
   "outputs": [
    {
     "name": "stdout",
     "output_type": "stream",
     "text": [
      "final_edoal.edoal,CQAs,0.0,0.0,0.0,0.0,0.0\r\n",
      "classical,recall-oriented,precision-oriented,overlap,query f-measure\r\n",
      "MEAN,CQAs,0.000000,0.000000,0.000000,0.000000,0.000000\r\n"
     ]
    },
    {
     "name": "stderr",
     "output_type": "stream",
     "text": [
      "huggingface/tokenizers: The current process just got forked, after parallelism has already been used. Disabling parallelism to avoid deadlocks...\n",
      "To disable this warning, you can either:\n",
      "\t- Avoid using `tokenizers` before the fork if possible\n",
      "\t- Explicitly set the environment variable TOKENIZERS_PARALLELISM=(true | false)\n"
     ]
    }
   ],
   "execution_count": 13
  },
  {
   "metadata": {
    "ExecuteTime": {
     "end_time": "2024-09-23T21:04:08.891807Z",
     "start_time": "2024-09-23T21:04:08.889982Z"
    }
   },
   "cell_type": "code",
   "source": "",
   "id": "8a286fcc7238f736",
   "outputs": [],
   "execution_count": null
  }
 ],
 "metadata": {
  "kernelspec": {
   "display_name": "Python (myenv)",
   "language": "python",
   "name": "myenv"
  },
  "language_info": {
   "codemirror_mode": {
    "name": "ipython",
    "version": 2
   },
   "file_extension": ".py",
   "mimetype": "text/x-python",
   "name": "python",
   "nbconvert_exporter": "python",
   "pygments_lexer": "ipython2",
   "version": "2.7.6"
  }
 },
 "nbformat": 4,
 "nbformat_minor": 5
}
