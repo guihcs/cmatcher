{
 "cells": [
  {
   "metadata": {},
   "cell_type": "code",
   "execution_count": 13,
   "source": [
    "import os\n",
    "import sys\n",
    "\n",
    "from rdflib import Graph, BNode, URIRef\n",
    "from om.ont import get_n, tokenize\n",
    "import itertools\n",
    "import time\n",
    "from tqdm.auto import tqdm\n",
    "import re\n",
    "import torch\n",
    "from pymagnitude import Magnitude"
   ],
   "id": "71c0c9548ebba93f",
   "outputs": []
  },
  {
   "metadata": {},
   "cell_type": "code",
   "execution_count": 4,
   "source": [
    "\n",
    "\n",
    "def batched(iterable, n):\n",
    "    if n < 1:\n",
    "        raise ValueError('n must be at least one')\n",
    "    it = iter(iterable)\n",
    "    while batch := tuple(itertools.islice(it, n)):\n",
    "        yield batch"
   ],
   "id": "f17c9edbc4e987da",
   "outputs": []
  },
  {
   "metadata": {},
   "cell_type": "code",
   "execution_count": 5,
   "source": [
    "base_path = '/projets/melodi/gsantoss/data/oaei/tracks/populated/data_100'\n",
    "out_base = '/projets/melodi/gsantoss/canarde/canard_emb'"
   ],
   "id": "6528d8d4964b7aa8",
   "outputs": []
  },
  {
   "metadata": {},
   "cell_type": "code",
   "execution_count": 6,
   "source": "models = [('/projets/melodi/gsantoss/canarde/ncembs/fasttext.magnitude', 'fasttext'),  ('/projets/melodi/gsantoss/canarde/ncembs/glove.magnitude', 'glove'), ('/projets/melodi/gsantoss/canarde/ncembs/word2vec.magnitude', 'word2vec')]",
   "id": "ce2f8c021a3ad2a6",
   "outputs": []
  },
  {
   "metadata": {},
   "cell_type": "code",
   "execution_count": 20,
   "source": [
    "\n",
    "for md, mn in tqdm(models):\n",
    "\n",
    "    vectors = Magnitude(md)\n",
    "    \n",
    "    for p, d, fs in os.walk(base_path):\n",
    "        for f in tqdm(fs):\n",
    "            if f.endswith('.ttl'):\n",
    "                ont_name = f.split('_')[0]\n",
    "                g = Graph().parse(os.path.join(p, f))\n",
    "                \n",
    "                subs = set(g.subjects())\n",
    "                props = set(g.predicates())\n",
    "                objs = set(g.objects())\n",
    "                \n",
    "                ks = []\n",
    "                sents = []\n",
    "                \n",
    "                for s in subs.union(props, objs):\n",
    "                \n",
    "                    if type(s) == BNode:\n",
    "                        continue\n",
    "                        \n",
    "                    \n",
    "                    if s.startswith('http://'):\n",
    "                        txt = ' '.join(tokenize(s.split('#')[-1]))\n",
    "                    else:\n",
    "                        txt = s\n",
    "                        \n",
    "                    ks.append(re.sub(r'\\n+', ' ', s))\n",
    "                    sents.append(txt)\n",
    "                    \n",
    "                \n",
    "                vcs = [list(map(str.lower, x.split())) for x in sents]\n",
    "                \n",
    "                embs = []\n",
    "    \n",
    "                for tks in tqdm(vcs):\n",
    "                    t = torch.from_numpy(vectors.query(tks))\n",
    "                    embs.extend(torch.mean(t, dim=0, keepdim=True))\n",
    "                \n",
    "                embs = torch.stack(embs)\n",
    "                embl = embs.tolist()\n",
    "                eln = []\n",
    "                for l in embl:\n",
    "                    eln.append(' '.join([str(v) for v in l]))\n",
    "                    \n",
    "                with open(os.path.join(out_base, f'{ont_name}-{mn}'), 'w') as f:\n",
    "                    f.write(f'{len(embs)}\\n')\n",
    "                    \n",
    "                    f.writelines([f'{k}\\n' for k in ks])\n",
    "                    f.writelines([f'{l}\\n' for l in eln])"
   ],
   "id": "b9f0533e20a24e1e",
   "outputs": []
  },
  {
   "metadata": {},
   "cell_type": "code",
   "execution_count": null,
   "source": "",
   "id": "12729400f8930109",
   "outputs": []
  }
 ],
 "metadata": {
  "kernelspec": {
   "name": "myenv",
   "language": "python",
   "display_name": "Python (myenv)"
  },
  "language_info": {
   "codemirror_mode": {
    "name": "ipython",
    "version": 2
   },
   "file_extension": ".py",
   "mimetype": "text/x-python",
   "name": "python",
   "nbconvert_exporter": "python",
   "pygments_lexer": "ipython2",
   "version": "2.7.6"
  }
 },
 "nbformat": 4,
 "nbformat_minor": 5
}
