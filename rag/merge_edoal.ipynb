{
 "cells": [
  {
   "cell_type": "code",
   "id": "initial_id",
   "metadata": {
    "collapsed": true,
    "ExecuteTime": {
     "end_time": "2024-07-26T15:04:02.028624Z",
     "start_time": "2024-07-26T15:04:00.034128Z"
    }
   },
   "source": [
    "import os\n",
    "from tqdm.auto import tqdm\n",
    "from transformers import AutoTokenizer\n",
    "\n"
   ],
   "outputs": [],
   "execution_count": 13
  },
  {
   "metadata": {},
   "cell_type": "code",
   "outputs": [],
   "execution_count": null,
   "source": [
    "model_id = \"meta-llama/Meta-Llama-3-8B-Instruct\"\n",
    "\n",
    "tokenizer = AutoTokenizer.from_pretrained(model_id)"
   ],
   "id": "10dfeedd4cc2b803"
  },
  {
   "metadata": {
    "ExecuteTime": {
     "end_time": "2024-07-26T15:04:03.354579Z",
     "start_time": "2024-07-26T15:04:03.352865Z"
    }
   },
   "cell_type": "code",
   "source": "base_path = '/projets/melodi/gsantoss/complex-llm/generated-edoal'",
   "id": "324fa23f062c6831",
   "outputs": [],
   "execution_count": 14
  },
  {
   "metadata": {
    "ExecuteTime": {
     "end_time": "2024-07-26T15:12:05.171448Z",
     "start_time": "2024-07-26T15:12:05.162568Z"
    }
   },
   "cell_type": "code",
   "source": [
    "\n",
    "result = {}\n",
    "\n",
    "for p, d, fs in os.walk(base_path):\n",
    "    for f in fs:\n",
    "        spt = f.split('#')\n",
    "        config = spt[4].split('.')[0]\n",
    "        if config not in result:\n",
    "            result[config] = {}\n",
    "\n",
    "        if tuple(spt[1:3]) not in result[config]:\n",
    "            result[config][tuple(spt[1:3])] = []\n",
    "\n",
    "        result[config][tuple(spt[1:3])].append(os.path.join(p, f))"
   ],
   "id": "3f2f00f92d7d3896",
   "outputs": [],
   "execution_count": 28
  },
  {
   "metadata": {
    "ExecuteTime": {
     "end_time": "2024-07-26T16:06:22.747451Z",
     "start_time": "2024-07-26T16:06:22.364107Z"
    }
   },
   "cell_type": "code",
   "source": [
    "# result.pop('nq-s1-ns2')\n",
    "\n",
    "errors = {}\n",
    "\n",
    "for k, v in result.items():\n",
    "    for kk, vv in v.items():\n",
    "        for p in vv:\n",
    "\n",
    "            with open(p, 'r') as f:\n",
    "                txt = f.read()\n",
    "\n",
    "                if '</rdf:RDF>' not in txt:\n",
    "                    if k not in errors:\n",
    "                        errors[k] = {}\n",
    "                    if kk not in errors[k]:\n",
    "                        errors[k][kk] = set()\n",
    "                    errors[k][kk].add(p)\n"
   ],
   "id": "58233935e210cc17",
   "outputs": [],
   "execution_count": 46
  },
  {
   "metadata": {
    "ExecuteTime": {
     "end_time": "2024-07-26T17:27:23.268539Z",
     "start_time": "2024-07-26T17:27:22.414960Z"
    }
   },
   "cell_type": "code",
   "source": [
    "def is_valid_edoal(txt):\n",
    "    return txt.endswith('</rdf:RDF>')\n",
    "\n",
    "\n",
    "def can_repair(txt):\n",
    "    return txt.rfind('<map>') > 0\n",
    "\n",
    "\n",
    "\n",
    "for k, v in result.items():\n",
    "    for kk, vv in v.items():\n",
    "\n",
    "        edoals = []\n",
    "\n",
    "        for p in vv:\n",
    "            with open(p, 'r') as f:\n",
    "                txt = f.read()\n",
    "\n",
    "            if p in errors.get(k, {}).get(kk, set()):\n",
    "\n",
    "                if not is_valid_edoal(txt):\n",
    "\n",
    "                    if can_repair(txt):\n",
    "                        last_map_index = txt.rfind('<map>')\n",
    "                        repaired = txt[:last_map_index] + '\\n\\t</Alignment>\\n</rdf:RDF>'\n",
    "                        edoals.append(repaired)\n",
    "\n",
    "                    else:\n",
    "                        continue\n",
    "            else:\n",
    "                edoals.append(txt)\n",
    "            \n",
    "            \n",
    "            \n",
    "            \n",
    "            \n",
    "        if len(edoals) > 1:\n",
    "            \n",
    "            final_edoal = ''\n",
    "\n",
    "        \n",
    "            first = edoals[0]\n",
    "            \n",
    "            final_edoal += first[:first.find('<map>')]\n",
    "            \n",
    "            for e in edoals[1:]:\n",
    "                final_edoal += e[e.find('<map>'):e.rfind('</map>')] + '\\n\\t</map>'\n",
    "                \n",
    "            final_edoal += '\\n\\t</Alignment>\\n</rdf:RDF>'\n",
    "            \n",
    "        elif len(edoals) == 1:\n",
    "            final_edoal = edoals[0]\n",
    "            \n",
    "        else:\n",
    "            print(k, kk, 'No edoal files')\n",
    "            \n",
    "        \n",
    "        out_path = f'/projets/melodi/gsantoss/complex-llm/final-edoal/{k}/'\n",
    "        \n",
    "        os.makedirs(out_path, exist_ok=True)\n",
    "        with open(f'{out_path}{kk[0]}-{kk[1]}.edoal', 'w') as f:\n",
    "            f.write(final_edoal)\n",
    "            \n"
   ],
   "id": "593ae350e5decb9d",
   "outputs": [
    {
     "name": "stdout",
     "output_type": "stream",
     "text": [
      "nq-ns1-ns2 ('iasted', 'confOf') No edoal files\n",
      "nq-ns1-ns2 ('cmt', 'sigkdd') No edoal files\n",
      "nq-ns1-ns2 ('cmt', 'edas') No edoal files\n",
      "nq-ns1-ns2 ('iasted', 'cmt') No edoal files\n",
      "nq-ns1-ns2 ('confOf', 'cmt') No edoal files\n",
      "nq-ns1-ns2 ('edas', 'iasted') No edoal files\n",
      "nq-ns1-ns2 ('cmt', 'ekaw') No edoal files\n",
      "nq-ns1-ns2 ('cmt', 'iasted') No edoal files\n",
      "nq-ns1-ns2 ('confOf', 'ekaw') No edoal files\n",
      "nq-ns1-ns2 ('iasted', 'conference') No edoal files\n",
      "nq-ns1-ns2 ('iasted', 'edas') No edoal files\n",
      "nq-ns1-ns2 ('conference', 'cmt') No edoal files\n",
      "nq-ns1-ns2 ('conference', 'edas') No edoal files\n",
      "nq-ns1-ns2 ('edas', 'sigkdd') No edoal files\n",
      "nq-ns1-ns2 ('ekaw', 'iasted') No edoal files\n",
      "nq-ns1-ns2 ('cmt', 'confOf') No edoal files\n",
      "nq-ns1-ns2 ('sigkdd', 'cmt') No edoal files\n",
      "nq-ns1-ns2 ('sigkdd', 'ekaw') No edoal files\n",
      "nq-ns1-ns2 ('sigkdd', 'conference') No edoal files\n",
      "nq-ns1-ns2 ('confOf', 'sigkdd') No edoal files\n",
      "nq-ns1-ns2 ('confOf', 'iasted') No edoal files\n",
      "nq-ns1-ns2 ('ekaw', 'confOf') No edoal files\n",
      "nq-ns1-ns2 ('sigkdd', 'confOf') No edoal files\n",
      "nq-ns1-ns2 ('ekaw', 'cmt') No edoal files\n",
      "nq-ns1-ns2 ('edas', 'ekaw') No edoal files\n",
      "nq-ns1-ns2 ('ekaw', 'sigkdd') No edoal files\n",
      "nq-ns1-ns2 ('iasted', 'sigkdd') No edoal files\n",
      "nq-ns1-ns2 ('cmt', 'conference') No edoal files\n",
      "nq-ns1-ns2 ('conference', 'ekaw') No edoal files\n",
      "nq-ns1-ns2 ('sigkdd', 'edas') No edoal files\n",
      "nq-ns1-ns2 ('edas', 'cmt') No edoal files\n",
      "nq-ns1-ns2 ('confOf', 'conference') No edoal files\n",
      "nq-ns1-ns2 ('confOf', 'edas') No edoal files\n",
      "nq-ns1-ns2 ('conference', 'iasted') No edoal files\n",
      "nq-ns1-ns2 ('iasted', 'ekaw') No edoal files\n",
      "nq-ns1-ns2 ('ekaw', 'conference') No edoal files\n",
      "nq-ns1-ns2 ('conference', 'sigkdd') No edoal files\n",
      "nq-ns1-ns2 ('edas', 'confOf') No edoal files\n",
      "nq-ns1-ns2 ('sigkdd', 'iasted') No edoal files\n",
      "nq-ns1-ns2 ('conference', 'confOf') No edoal files\n",
      "nq-ns1-ns2 ('ekaw', 'edas') No edoal files\n",
      "nq-ns1-ns2 ('edas', 'conference') No edoal files\n",
      "nq-ns1-ns2 ('rdfgmo', 'rdfgbo') No edoal files\n",
      "nq-ns1-ns2 ('rdfgbo', 'rdfgmo') No edoal files\n"
     ]
    }
   ],
   "execution_count": 81
  },
  {
   "metadata": {},
   "cell_type": "code",
   "outputs": [],
   "execution_count": null,
   "source": "",
   "id": "1caf9a0a4a889b3a"
  }
 ],
 "metadata": {
  "kernelspec": {
   "display_name": "Python (myenv)",
   "language": "python",
   "name": "myenv"
  },
  "language_info": {
   "codemirror_mode": {
    "name": "ipython",
    "version": 2
   },
   "file_extension": ".py",
   "mimetype": "text/x-python",
   "name": "python",
   "nbconvert_exporter": "python",
   "pygments_lexer": "ipython2",
   "version": "2.7.6"
  }
 },
 "nbformat": 4,
 "nbformat_minor": 5
}
