{
 "cells": [
  {
   "cell_type": "code",
   "id": "initial_id",
   "metadata": {
    "collapsed": true,
    "ExecuteTime": {
     "end_time": "2024-07-27T14:48:49.711205Z",
     "start_time": "2024-07-27T14:48:49.708323Z"
    }
   },
   "source": "import os",
   "outputs": [],
   "execution_count": 1
  },
  {
   "metadata": {
    "ExecuteTime": {
     "end_time": "2024-07-27T16:11:54.439115Z",
     "start_time": "2024-07-27T16:11:54.361896Z"
    }
   },
   "cell_type": "code",
   "source": [
    "\n",
    "conf_cqas = '/projets/melodi/gsantoss/data/complex/conference_100/CQAs'\n",
    "conf_onts = {'cmt', 'confOf', 'conference', 'edas', 'ekaw'}\n",
    "\n",
    "onts = {\n",
    "    'cmt': '/projets/melodi/gsantoss/data/complex/conference_100/ont/cmt.owl',\n",
    "    'confOf': '/projets/melodi/gsantoss/data/complex/conference_100/ont/confOf.owl',\n",
    "    'conference': '/projets/melodi/gsantoss/data/complex/conference_100/ont/conference.owl',\n",
    "    'edas': '/projets/melodi/gsantoss/data/complex/conference_100/ont/iasted.owl',\n",
    "    'ekaw': '/projets/melodi/gsantoss/data/complex/conference_100/ont/ekaw.owl',\n",
    "    'rdfgbo': '/projets/melodi/gsantoss/data/complex/geolink/rdfgbo.rdf',\n",
    "    'rdfgmo': '/projets/melodi/gsantoss/data/complex/geolink/rdfgmo.rdf'\n",
    "    \n",
    "}\n",
    "\n",
    "base_prefix = '/projets/melodi/gsantoss/complex-llm/final-edoal'\n",
    "out_eval = '/projets/melodi/gsantoss/complex-llm/results/eval'\n",
    "out_prec = '/projets/melodi/gsantoss/complex-llm/results/prec'\n",
    "\n",
    "eval_lines = []\n",
    "prec_lines = []\n",
    "\n",
    "for p, d, fs in os.walk(base_prefix):\n",
    "    for f in fs:\n",
    "        no1, no2 = f.split('.')[0].split('-')\n",
    "        \n",
    "        if no1 in conf_onts and no2 in conf_onts:\n",
    "            o1 = onts[no1]\n",
    "            o2 = onts[no2]\n",
    "            mo = p\n",
    "            cqa = conf_cqas\n",
    "            mode = p.removeprefix(base_prefix).split('/')[1]\n",
    "            out1 = f'{out_eval}/{mode}/' \n",
    "            eval_lines.append(f'{no1} {no2} {o1} {o2} {mo} {cqa} {out1}')\n",
    "            \n",
    "        out1 = f'{out_prec}/{mode}/'\n",
    "        prec_lines.append(f'{no1} {no2} {mo} {o1} {o2} {out1}')\n",
    "            \n",
    "            \n",
    "            \n",
    "print(len(eval_lines))\n",
    "print(len(prec_lines))\n",
    "with open('/users/melodi/gsantoss/evargs.txt', 'w') as f:\n",
    "    f.write('\\n'.join(eval_lines))\n",
    "    \n",
    "with open('/users/melodi/gsantoss/prargs.txt', 'w') as f:\n",
    "    f.write('\\n'.join(prec_lines))"
   ],
   "id": "101aa3607535a738",
   "outputs": [
    {
     "name": "stdout",
     "output_type": "stream",
     "text": [
      "60\n",
      "132\n"
     ]
    }
   ],
   "execution_count": 26
  },
  {
   "metadata": {},
   "cell_type": "code",
   "outputs": [],
   "execution_count": null,
   "source": "",
   "id": "c824669b3e294ffa"
  }
 ],
 "metadata": {
  "kernelspec": {
   "display_name": "Python (myenv)",
   "language": "python",
   "name": "myenv"
  },
  "language_info": {
   "codemirror_mode": {
    "name": "ipython",
    "version": 2
   },
   "file_extension": ".py",
   "mimetype": "text/x-python",
   "name": "python",
   "nbconvert_exporter": "python",
   "pygments_lexer": "ipython2",
   "version": "2.7.6"
  }
 },
 "nbformat": 4,
 "nbformat_minor": 5
}
