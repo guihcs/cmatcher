{
 "cells": [
  {
   "cell_type": "code",
   "id": "initial_id",
   "metadata": {
    "collapsed": true,
    "ExecuteTime": {
     "end_time": "2024-07-24T17:24:25.273773Z",
     "start_time": "2024-07-24T17:24:25.270703Z"
    }
   },
   "source": [
    "import os\n",
    "from transformers import AutoTokenizer, AutoModel, BitsAndBytesConfig, AutoModelForCausalLM\n",
    "import torch\n",
    "from tqdm.auto import tqdm\n",
    "import gc\n",
    "from multiprocessing_on_dill import Process"
   ],
   "outputs": [],
   "execution_count": 16
  },
  {
   "metadata": {
    "ExecuteTime": {
     "end_time": "2024-07-24T17:24:26.126989Z",
     "start_time": "2024-07-24T17:24:26.124625Z"
    }
   },
   "cell_type": "code",
   "source": [
    "base_path = '/projets/melodi/gsantoss/complex-llm/generated-prompts'\n",
    "base_out = '/projets/melodi/gsantoss/complex-llm/generated-edoal'"
   ],
   "id": "ac8525e477e084a4",
   "outputs": [],
   "execution_count": 17
  },
  {
   "metadata": {
    "ExecuteTime": {
     "end_time": "2024-07-24T17:24:27.994090Z",
     "start_time": "2024-07-24T17:24:27.983453Z"
    }
   },
   "cell_type": "code",
   "source": [
    "lines = []\n",
    "\n",
    "for p, d, fs in os.walk(base_path):\n",
    "    for f in fs:\n",
    "        fp = os.path.join(p, f)\n",
    "        if 'conference_100' in fp or 'hydrogra' in fp or 'nq-s1-ns2' in fp:\n",
    "            continue\n",
    "\n",
    "        lines.append(fp)\n",
    "\n"
   ],
   "id": "8ab19b714119cefb",
   "outputs": [],
   "execution_count": 18
  },
  {
   "metadata": {
    "ExecuteTime": {
     "end_time": "2024-07-24T17:28:10.533200Z",
     "start_time": "2024-07-24T17:28:10.529259Z"
    }
   },
   "cell_type": "code",
   "source": [
    "for l in lines:\n",
    "    os.makedirs(fl, exist_ok=True)\n",
    "    break"
   ],
   "id": "331d8b0372cfee74",
   "outputs": [],
   "execution_count": 23
  },
  {
   "metadata": {},
   "cell_type": "code",
   "outputs": [],
   "execution_count": null,
   "source": "",
   "id": "55fa5d486cf96ab6"
  }
 ],
 "metadata": {
  "kernelspec": {
   "display_name": "Python (myenv)",
   "language": "python",
   "name": "myenv"
  },
  "language_info": {
   "codemirror_mode": {
    "name": "ipython",
    "version": 2
   },
   "file_extension": ".py",
   "mimetype": "text/x-python",
   "name": "python",
   "nbconvert_exporter": "python",
   "pygments_lexer": "ipython2",
   "version": "2.7.6"
  }
 },
 "nbformat": 4,
 "nbformat_minor": 5
}
