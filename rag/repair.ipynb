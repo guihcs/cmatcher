{
 "cells": [
  {
   "cell_type": "code",
   "id": "initial_id",
   "metadata": {
    "collapsed": true,
    "ExecuteTime": {
     "end_time": "2024-07-27T16:22:10.668727Z",
     "start_time": "2024-07-27T16:22:10.665880Z"
    }
   },
   "source": [
    "import os\n",
    "import re"
   ],
   "outputs": [],
   "execution_count": 3
  },
  {
   "metadata": {
    "ExecuteTime": {
     "end_time": "2024-07-27T16:37:05.334702Z",
     "start_time": "2024-07-27T16:37:04.757447Z"
    }
   },
   "cell_type": "code",
   "source": [
    "base_prefix = '/projets/melodi/gsantoss/complex-llm/final-edoal'\n",
    "\n",
    "\n",
    "\n",
    "for p, d, fs in os.walk(base_prefix):\n",
    "    for f in fs:\n",
    "        with open(os.path.join(p, f), 'r') as fl:\n",
    "            txt = fl.read()\n",
    "            \n",
    "        \n",
    "        t2 = re.sub(r'</edoal:And>', r'</edoal:and>', txt)\n",
    "        \n",
    "        \n",
    "        \n",
    "        with open(os.path.join(p, f), 'w') as fl:\n",
    "            fl.write(t2)\n",
    "        \n",
    "            "
   ],
   "id": "61e382cd84149a8a",
   "outputs": [],
   "execution_count": 21
  },
  {
   "metadata": {},
   "cell_type": "code",
   "outputs": [],
   "execution_count": null,
   "source": "",
   "id": "1dff6d4f30de9369"
  }
 ],
 "metadata": {
  "kernelspec": {
   "display_name": "Python (myenv)",
   "language": "python",
   "name": "myenv"
  },
  "language_info": {
   "codemirror_mode": {
    "name": "ipython",
    "version": 2
   },
   "file_extension": ".py",
   "mimetype": "text/x-python",
   "name": "python",
   "nbconvert_exporter": "python",
   "pygments_lexer": "ipython2",
   "version": "2.7.6"
  }
 },
 "nbformat": 4,
 "nbformat_minor": 5
}
