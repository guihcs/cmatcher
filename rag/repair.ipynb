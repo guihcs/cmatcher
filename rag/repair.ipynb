{
 "cells": [
  {
   "cell_type": "code",
   "id": "initial_id",
   "metadata": {
    "collapsed": true,
    "ExecuteTime": {
     "end_time": "2024-07-28T20:48:28.958220Z",
     "start_time": "2024-07-28T20:48:28.954434Z"
    }
   },
   "source": [
    "import os\n",
    "import re"
   ],
   "outputs": [],
   "execution_count": 1
  },
  {
   "metadata": {
    "ExecuteTime": {
     "end_time": "2024-07-28T20:57:26.133614Z",
     "start_time": "2024-07-28T20:57:25.807179Z"
    }
   },
   "cell_type": "code",
   "source": [
    "base_prefix = '/projets/melodi/gsantoss/complex-llm/final-edoal'\n",
    "\n",
    "\n",
    "\n",
    "for p, d, fs in os.walk(base_prefix):\n",
    "    for f in fs:\n",
    "        with open(os.path.join(p, f), 'r') as fl:\n",
    "            txt = fl.read()\n",
    "            \n",
    "        if len(txt) == 0:\n",
    "            continue\n",
    "        t1 = re.sub(r'<Formalism align:name', '<formalism><Formalism align:name', txt)\n",
    "        \n",
    "        \n",
    "        with open(os.path.join(p, f), 'w') as fl:\n",
    "            fl.write(t1)\n",
    "        \n",
    "            "
   ],
   "id": "61e382cd84149a8a",
   "outputs": [],
   "execution_count": 21
  },
  {
   "metadata": {},
   "cell_type": "code",
   "outputs": [],
   "execution_count": null,
   "source": "",
   "id": "1dff6d4f30de9369"
  }
 ],
 "metadata": {
  "kernelspec": {
   "display_name": "Python (myenv)",
   "language": "python",
   "name": "myenv"
  },
  "language_info": {
   "codemirror_mode": {
    "name": "ipython",
    "version": 2
   },
   "file_extension": ".py",
   "mimetype": "text/x-python",
   "name": "python",
   "nbconvert_exporter": "python",
   "pygments_lexer": "ipython2",
   "version": "2.7.6"
  }
 },
 "nbformat": 4,
 "nbformat_minor": 5
}
