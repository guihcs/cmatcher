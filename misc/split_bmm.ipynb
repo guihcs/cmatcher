{
 "cells": [
  {
   "cell_type": "code",
   "id": "initial_id",
   "metadata": {
    "collapsed": true,
    "ExecuteTime": {
     "end_time": "2024-06-04T17:23:39.703907Z",
     "start_time": "2024-06-04T17:23:37.843877Z"
    }
   },
   "source": [
    "import torch\n",
    "import math\n",
    "import time"
   ],
   "outputs": [],
   "execution_count": 2
  },
  {
   "metadata": {
    "ExecuteTime": {
     "end_time": "2024-06-04T17:15:45.813272Z",
     "start_time": "2024-06-04T17:15:45.810421Z"
    }
   },
   "cell_type": "code",
   "source": [
    "prompt_len = 1_000_000\n",
    "emb_dim = 4096\n",
    "n_bytes = 2\n",
    "size_constant = 1024 ** 3\n",
    "\n",
    "print(f'model will consume {prompt_len * emb_dim * n_bytes / size_constant:.2f} GB of memory')"
   ],
   "id": "4837ac525740b173",
   "outputs": [
    {
     "name": "stdout",
     "output_type": "stream",
     "text": [
      "model will consume 7.63 GB of memory\n"
     ]
    }
   ],
   "execution_count": 35
  },
  {
   "metadata": {
    "ExecuteTime": {
     "end_time": "2024-06-04T17:20:49.208618Z",
     "start_time": "2024-06-04T17:20:49.205581Z"
    }
   },
   "cell_type": "code",
   "source": "print(math.sqrt(8 * size_constant / n_bytes))  ",
   "id": "a6093a5dd4c8f938",
   "outputs": [
    {
     "name": "stdout",
     "output_type": "stream",
     "text": [
      "65536.0\n"
     ]
    }
   ],
   "execution_count": 38
  },
  {
   "metadata": {
    "ExecuteTime": {
     "end_time": "2024-06-04T17:24:04.460688Z",
     "start_time": "2024-06-04T17:23:59.122610Z"
    }
   },
   "cell_type": "code",
   "source": [
    "\n",
    "\n",
    "d1 = torch.rand((1, 65536, 4096), dtype=torch.float16).cuda(0)\n",
    "d2 = torch.rand((1, 4096, 65536), dtype=torch.float16).cuda(0)\n",
    "\n",
    "st = time.time()\n",
    "\n",
    "r = torch.bmm(d1, d2)\n",
    "print(r.shape)\n",
    "\n",
    "print(f'elapsed time: {time.time() - st:.2f} s')"
   ],
   "id": "dcd4de3d989ed893",
   "outputs": [
    {
     "name": "stdout",
     "output_type": "stream",
     "text": [
      "torch.Size([1, 65536, 65536])\n",
      "elapsed time: 0.03 s\n"
     ]
    }
   ],
   "execution_count": 3
  },
  {
   "metadata": {
    "ExecuteTime": {
     "end_time": "2024-06-04T17:23:18.317249Z",
     "start_time": "2024-06-04T17:23:18.309898Z"
    }
   },
   "cell_type": "code",
   "source": "1_000_000 / 65536",
   "id": "73dfbda60eb75302",
   "outputs": [
    {
     "data": {
      "text/plain": [
       "15.2587890625"
      ]
     },
     "execution_count": 1,
     "metadata": {},
     "output_type": "execute_result"
    }
   ],
   "execution_count": 1
  },
  {
   "metadata": {},
   "cell_type": "code",
   "outputs": [],
   "execution_count": null,
   "source": "",
   "id": "8e7adf6503e16f87"
  }
 ],
 "metadata": {
  "kernelspec": {
   "display_name": "Python (myenv)",
   "language": "python",
   "name": "myenv"
  },
  "language_info": {
   "codemirror_mode": {
    "name": "ipython",
    "version": 2
   },
   "file_extension": ".py",
   "mimetype": "text/x-python",
   "name": "python",
   "nbconvert_exporter": "python",
   "pygments_lexer": "ipython2",
   "version": "2.7.6"
  }
 },
 "nbformat": 4,
 "nbformat_minor": 5
}
